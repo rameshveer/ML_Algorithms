{
 "cells": [
  {
   "cell_type": "code",
   "execution_count": 1,
   "metadata": {},
   "outputs": [],
   "source": [
    "import seaborn as sns\n",
    "import pandas as pd\n",
    "import numpy as np"
   ]
  },
  {
   "cell_type": "code",
   "execution_count": 2,
   "metadata": {},
   "outputs": [],
   "source": [
    "from sklearn.model_selection import train_test_split, ShuffleSplit, learning_curve, GridSearchCV, KFold\n",
    "from sklearn.linear_model import LogisticRegression, Perceptron\n",
    "from sklearn.metrics import roc_curve, accuracy_score, confusion_matrix, classification_report, roc_auc_score, make_scorer, precision_recall_curve, average_precision_score \n",
    "from sklearn.svm import SVC\n",
    "from sklearn.preprocessing import StandardScaler\n",
    "import matplotlib.pyplot as plt\n",
    "\n",
    "from sklearn.ensemble import RandomForestClassifier, IsolationForest, VotingClassifier\n",
    "from sklearn.neural_network import MLPClassifier"
   ]
  },
  {
   "cell_type": "code",
   "execution_count": 3,
   "metadata": {
    "execution": {
     "iopub.execute_input": "2020-12-01T09:00:16.437102Z",
     "iopub.status.busy": "2020-12-01T09:00:16.436214Z",
     "iopub.status.idle": "2020-12-01T09:00:19.900493Z",
     "shell.execute_reply": "2020-12-01T09:00:19.899201Z"
    },
    "papermill": {
     "duration": 3.506975,
     "end_time": "2020-12-01T09:00:19.900659",
     "exception": false,
     "start_time": "2020-12-01T09:00:16.393684",
     "status": "completed"
    },
    "tags": []
   },
   "outputs": [],
   "source": [
    "#Load the Dataset\n",
    "data = pd.read_csv('creditcard.csv')"
   ]
  },
  {
   "cell_type": "code",
   "execution_count": 4,
   "metadata": {
    "execution": {
     "iopub.execute_input": "2020-12-01T09:00:20.009881Z",
     "iopub.status.busy": "2020-12-01T09:00:20.004676Z",
     "iopub.status.idle": "2020-12-01T09:00:20.032253Z",
     "shell.execute_reply": "2020-12-01T09:00:20.031508Z"
    },
    "papermill": {
     "duration": 0.095067,
     "end_time": "2020-12-01T09:00:20.032401",
     "exception": false,
     "start_time": "2020-12-01T09:00:19.937334",
     "status": "completed"
    },
    "tags": []
   },
   "outputs": [
    {
     "data": {
      "text/html": [
       "<div>\n",
       "<style scoped>\n",
       "    .dataframe tbody tr th:only-of-type {\n",
       "        vertical-align: middle;\n",
       "    }\n",
       "\n",
       "    .dataframe tbody tr th {\n",
       "        vertical-align: top;\n",
       "    }\n",
       "\n",
       "    .dataframe thead th {\n",
       "        text-align: right;\n",
       "    }\n",
       "</style>\n",
       "<table border=\"1\" class=\"dataframe\">\n",
       "  <thead>\n",
       "    <tr style=\"text-align: right;\">\n",
       "      <th></th>\n",
       "      <th>Time</th>\n",
       "      <th>V1</th>\n",
       "      <th>V2</th>\n",
       "      <th>V3</th>\n",
       "      <th>V4</th>\n",
       "      <th>V5</th>\n",
       "      <th>V6</th>\n",
       "      <th>V7</th>\n",
       "      <th>V8</th>\n",
       "      <th>V9</th>\n",
       "      <th>...</th>\n",
       "      <th>V21</th>\n",
       "      <th>V22</th>\n",
       "      <th>V23</th>\n",
       "      <th>V24</th>\n",
       "      <th>V25</th>\n",
       "      <th>V26</th>\n",
       "      <th>V27</th>\n",
       "      <th>V28</th>\n",
       "      <th>Amount</th>\n",
       "      <th>Class</th>\n",
       "    </tr>\n",
       "  </thead>\n",
       "  <tbody>\n",
       "    <tr>\n",
       "      <th>0</th>\n",
       "      <td>0.0</td>\n",
       "      <td>-1.359807</td>\n",
       "      <td>-0.072781</td>\n",
       "      <td>2.536347</td>\n",
       "      <td>1.378155</td>\n",
       "      <td>-0.338321</td>\n",
       "      <td>0.462388</td>\n",
       "      <td>0.239599</td>\n",
       "      <td>0.098698</td>\n",
       "      <td>0.363787</td>\n",
       "      <td>...</td>\n",
       "      <td>-0.018307</td>\n",
       "      <td>0.277838</td>\n",
       "      <td>-0.110474</td>\n",
       "      <td>0.066928</td>\n",
       "      <td>0.128539</td>\n",
       "      <td>-0.189115</td>\n",
       "      <td>0.133558</td>\n",
       "      <td>-0.021053</td>\n",
       "      <td>149.62</td>\n",
       "      <td>0</td>\n",
       "    </tr>\n",
       "    <tr>\n",
       "      <th>1</th>\n",
       "      <td>0.0</td>\n",
       "      <td>1.191857</td>\n",
       "      <td>0.266151</td>\n",
       "      <td>0.166480</td>\n",
       "      <td>0.448154</td>\n",
       "      <td>0.060018</td>\n",
       "      <td>-0.082361</td>\n",
       "      <td>-0.078803</td>\n",
       "      <td>0.085102</td>\n",
       "      <td>-0.255425</td>\n",
       "      <td>...</td>\n",
       "      <td>-0.225775</td>\n",
       "      <td>-0.638672</td>\n",
       "      <td>0.101288</td>\n",
       "      <td>-0.339846</td>\n",
       "      <td>0.167170</td>\n",
       "      <td>0.125895</td>\n",
       "      <td>-0.008983</td>\n",
       "      <td>0.014724</td>\n",
       "      <td>2.69</td>\n",
       "      <td>0</td>\n",
       "    </tr>\n",
       "    <tr>\n",
       "      <th>2</th>\n",
       "      <td>1.0</td>\n",
       "      <td>-1.358354</td>\n",
       "      <td>-1.340163</td>\n",
       "      <td>1.773209</td>\n",
       "      <td>0.379780</td>\n",
       "      <td>-0.503198</td>\n",
       "      <td>1.800499</td>\n",
       "      <td>0.791461</td>\n",
       "      <td>0.247676</td>\n",
       "      <td>-1.514654</td>\n",
       "      <td>...</td>\n",
       "      <td>0.247998</td>\n",
       "      <td>0.771679</td>\n",
       "      <td>0.909412</td>\n",
       "      <td>-0.689281</td>\n",
       "      <td>-0.327642</td>\n",
       "      <td>-0.139097</td>\n",
       "      <td>-0.055353</td>\n",
       "      <td>-0.059752</td>\n",
       "      <td>378.66</td>\n",
       "      <td>0</td>\n",
       "    </tr>\n",
       "    <tr>\n",
       "      <th>3</th>\n",
       "      <td>1.0</td>\n",
       "      <td>-0.966272</td>\n",
       "      <td>-0.185226</td>\n",
       "      <td>1.792993</td>\n",
       "      <td>-0.863291</td>\n",
       "      <td>-0.010309</td>\n",
       "      <td>1.247203</td>\n",
       "      <td>0.237609</td>\n",
       "      <td>0.377436</td>\n",
       "      <td>-1.387024</td>\n",
       "      <td>...</td>\n",
       "      <td>-0.108300</td>\n",
       "      <td>0.005274</td>\n",
       "      <td>-0.190321</td>\n",
       "      <td>-1.175575</td>\n",
       "      <td>0.647376</td>\n",
       "      <td>-0.221929</td>\n",
       "      <td>0.062723</td>\n",
       "      <td>0.061458</td>\n",
       "      <td>123.50</td>\n",
       "      <td>0</td>\n",
       "    </tr>\n",
       "    <tr>\n",
       "      <th>4</th>\n",
       "      <td>2.0</td>\n",
       "      <td>-1.158233</td>\n",
       "      <td>0.877737</td>\n",
       "      <td>1.548718</td>\n",
       "      <td>0.403034</td>\n",
       "      <td>-0.407193</td>\n",
       "      <td>0.095921</td>\n",
       "      <td>0.592941</td>\n",
       "      <td>-0.270533</td>\n",
       "      <td>0.817739</td>\n",
       "      <td>...</td>\n",
       "      <td>-0.009431</td>\n",
       "      <td>0.798278</td>\n",
       "      <td>-0.137458</td>\n",
       "      <td>0.141267</td>\n",
       "      <td>-0.206010</td>\n",
       "      <td>0.502292</td>\n",
       "      <td>0.219422</td>\n",
       "      <td>0.215153</td>\n",
       "      <td>69.99</td>\n",
       "      <td>0</td>\n",
       "    </tr>\n",
       "    <tr>\n",
       "      <th>5</th>\n",
       "      <td>2.0</td>\n",
       "      <td>-0.425966</td>\n",
       "      <td>0.960523</td>\n",
       "      <td>1.141109</td>\n",
       "      <td>-0.168252</td>\n",
       "      <td>0.420987</td>\n",
       "      <td>-0.029728</td>\n",
       "      <td>0.476201</td>\n",
       "      <td>0.260314</td>\n",
       "      <td>-0.568671</td>\n",
       "      <td>...</td>\n",
       "      <td>-0.208254</td>\n",
       "      <td>-0.559825</td>\n",
       "      <td>-0.026398</td>\n",
       "      <td>-0.371427</td>\n",
       "      <td>-0.232794</td>\n",
       "      <td>0.105915</td>\n",
       "      <td>0.253844</td>\n",
       "      <td>0.081080</td>\n",
       "      <td>3.67</td>\n",
       "      <td>0</td>\n",
       "    </tr>\n",
       "    <tr>\n",
       "      <th>6</th>\n",
       "      <td>4.0</td>\n",
       "      <td>1.229658</td>\n",
       "      <td>0.141004</td>\n",
       "      <td>0.045371</td>\n",
       "      <td>1.202613</td>\n",
       "      <td>0.191881</td>\n",
       "      <td>0.272708</td>\n",
       "      <td>-0.005159</td>\n",
       "      <td>0.081213</td>\n",
       "      <td>0.464960</td>\n",
       "      <td>...</td>\n",
       "      <td>-0.167716</td>\n",
       "      <td>-0.270710</td>\n",
       "      <td>-0.154104</td>\n",
       "      <td>-0.780055</td>\n",
       "      <td>0.750137</td>\n",
       "      <td>-0.257237</td>\n",
       "      <td>0.034507</td>\n",
       "      <td>0.005168</td>\n",
       "      <td>4.99</td>\n",
       "      <td>0</td>\n",
       "    </tr>\n",
       "    <tr>\n",
       "      <th>7</th>\n",
       "      <td>7.0</td>\n",
       "      <td>-0.644269</td>\n",
       "      <td>1.417964</td>\n",
       "      <td>1.074380</td>\n",
       "      <td>-0.492199</td>\n",
       "      <td>0.948934</td>\n",
       "      <td>0.428118</td>\n",
       "      <td>1.120631</td>\n",
       "      <td>-3.807864</td>\n",
       "      <td>0.615375</td>\n",
       "      <td>...</td>\n",
       "      <td>1.943465</td>\n",
       "      <td>-1.015455</td>\n",
       "      <td>0.057504</td>\n",
       "      <td>-0.649709</td>\n",
       "      <td>-0.415267</td>\n",
       "      <td>-0.051634</td>\n",
       "      <td>-1.206921</td>\n",
       "      <td>-1.085339</td>\n",
       "      <td>40.80</td>\n",
       "      <td>0</td>\n",
       "    </tr>\n",
       "    <tr>\n",
       "      <th>8</th>\n",
       "      <td>7.0</td>\n",
       "      <td>-0.894286</td>\n",
       "      <td>0.286157</td>\n",
       "      <td>-0.113192</td>\n",
       "      <td>-0.271526</td>\n",
       "      <td>2.669599</td>\n",
       "      <td>3.721818</td>\n",
       "      <td>0.370145</td>\n",
       "      <td>0.851084</td>\n",
       "      <td>-0.392048</td>\n",
       "      <td>...</td>\n",
       "      <td>-0.073425</td>\n",
       "      <td>-0.268092</td>\n",
       "      <td>-0.204233</td>\n",
       "      <td>1.011592</td>\n",
       "      <td>0.373205</td>\n",
       "      <td>-0.384157</td>\n",
       "      <td>0.011747</td>\n",
       "      <td>0.142404</td>\n",
       "      <td>93.20</td>\n",
       "      <td>0</td>\n",
       "    </tr>\n",
       "    <tr>\n",
       "      <th>9</th>\n",
       "      <td>9.0</td>\n",
       "      <td>-0.338262</td>\n",
       "      <td>1.119593</td>\n",
       "      <td>1.044367</td>\n",
       "      <td>-0.222187</td>\n",
       "      <td>0.499361</td>\n",
       "      <td>-0.246761</td>\n",
       "      <td>0.651583</td>\n",
       "      <td>0.069539</td>\n",
       "      <td>-0.736727</td>\n",
       "      <td>...</td>\n",
       "      <td>-0.246914</td>\n",
       "      <td>-0.633753</td>\n",
       "      <td>-0.120794</td>\n",
       "      <td>-0.385050</td>\n",
       "      <td>-0.069733</td>\n",
       "      <td>0.094199</td>\n",
       "      <td>0.246219</td>\n",
       "      <td>0.083076</td>\n",
       "      <td>3.68</td>\n",
       "      <td>0</td>\n",
       "    </tr>\n",
       "  </tbody>\n",
       "</table>\n",
       "<p>10 rows × 31 columns</p>\n",
       "</div>"
      ],
      "text/plain": [
       "   Time        V1        V2        V3        V4        V5        V6        V7  \\\n",
       "0   0.0 -1.359807 -0.072781  2.536347  1.378155 -0.338321  0.462388  0.239599   \n",
       "1   0.0  1.191857  0.266151  0.166480  0.448154  0.060018 -0.082361 -0.078803   \n",
       "2   1.0 -1.358354 -1.340163  1.773209  0.379780 -0.503198  1.800499  0.791461   \n",
       "3   1.0 -0.966272 -0.185226  1.792993 -0.863291 -0.010309  1.247203  0.237609   \n",
       "4   2.0 -1.158233  0.877737  1.548718  0.403034 -0.407193  0.095921  0.592941   \n",
       "5   2.0 -0.425966  0.960523  1.141109 -0.168252  0.420987 -0.029728  0.476201   \n",
       "6   4.0  1.229658  0.141004  0.045371  1.202613  0.191881  0.272708 -0.005159   \n",
       "7   7.0 -0.644269  1.417964  1.074380 -0.492199  0.948934  0.428118  1.120631   \n",
       "8   7.0 -0.894286  0.286157 -0.113192 -0.271526  2.669599  3.721818  0.370145   \n",
       "9   9.0 -0.338262  1.119593  1.044367 -0.222187  0.499361 -0.246761  0.651583   \n",
       "\n",
       "         V8        V9  ...       V21       V22       V23       V24       V25  \\\n",
       "0  0.098698  0.363787  ... -0.018307  0.277838 -0.110474  0.066928  0.128539   \n",
       "1  0.085102 -0.255425  ... -0.225775 -0.638672  0.101288 -0.339846  0.167170   \n",
       "2  0.247676 -1.514654  ...  0.247998  0.771679  0.909412 -0.689281 -0.327642   \n",
       "3  0.377436 -1.387024  ... -0.108300  0.005274 -0.190321 -1.175575  0.647376   \n",
       "4 -0.270533  0.817739  ... -0.009431  0.798278 -0.137458  0.141267 -0.206010   \n",
       "5  0.260314 -0.568671  ... -0.208254 -0.559825 -0.026398 -0.371427 -0.232794   \n",
       "6  0.081213  0.464960  ... -0.167716 -0.270710 -0.154104 -0.780055  0.750137   \n",
       "7 -3.807864  0.615375  ...  1.943465 -1.015455  0.057504 -0.649709 -0.415267   \n",
       "8  0.851084 -0.392048  ... -0.073425 -0.268092 -0.204233  1.011592  0.373205   \n",
       "9  0.069539 -0.736727  ... -0.246914 -0.633753 -0.120794 -0.385050 -0.069733   \n",
       "\n",
       "        V26       V27       V28  Amount  Class  \n",
       "0 -0.189115  0.133558 -0.021053  149.62      0  \n",
       "1  0.125895 -0.008983  0.014724    2.69      0  \n",
       "2 -0.139097 -0.055353 -0.059752  378.66      0  \n",
       "3 -0.221929  0.062723  0.061458  123.50      0  \n",
       "4  0.502292  0.219422  0.215153   69.99      0  \n",
       "5  0.105915  0.253844  0.081080    3.67      0  \n",
       "6 -0.257237  0.034507  0.005168    4.99      0  \n",
       "7 -0.051634 -1.206921 -1.085339   40.80      0  \n",
       "8 -0.384157  0.011747  0.142404   93.20      0  \n",
       "9  0.094199  0.246219  0.083076    3.68      0  \n",
       "\n",
       "[10 rows x 31 columns]"
      ]
     },
     "execution_count": 4,
     "metadata": {},
     "output_type": "execute_result"
    }
   ],
   "source": [
    "data.head(10)"
   ]
  },
  {
   "cell_type": "code",
   "execution_count": 5,
   "metadata": {
    "execution": {
     "iopub.execute_input": "2020-12-01T09:00:20.116323Z",
     "iopub.status.busy": "2020-12-01T09:00:20.115142Z",
     "iopub.status.idle": "2020-12-01T09:00:20.120580Z",
     "shell.execute_reply": "2020-12-01T09:00:20.119743Z"
    },
    "papermill": {
     "duration": 0.050314,
     "end_time": "2020-12-01T09:00:20.120808",
     "exception": false,
     "start_time": "2020-12-01T09:00:20.070494",
     "status": "completed"
    },
    "scrolled": true,
    "tags": []
   },
   "outputs": [
    {
     "data": {
      "text/plain": [
       "(284807, 31)"
      ]
     },
     "execution_count": 5,
     "metadata": {},
     "output_type": "execute_result"
    }
   ],
   "source": [
    "data.shape"
   ]
  },
  {
   "cell_type": "code",
   "execution_count": 6,
   "metadata": {
    "execution": {
     "iopub.execute_input": "2020-12-01T09:00:20.252858Z",
     "iopub.status.busy": "2020-12-01T09:00:20.251951Z",
     "iopub.status.idle": "2020-12-01T09:00:20.689858Z",
     "shell.execute_reply": "2020-12-01T09:00:20.689057Z"
    },
    "papermill": {
     "duration": 0.526614,
     "end_time": "2020-12-01T09:00:20.689989",
     "exception": false,
     "start_time": "2020-12-01T09:00:20.163375",
     "status": "completed"
    },
    "scrolled": false,
    "tags": []
   },
   "outputs": [
    {
     "data": {
      "text/html": [
       "<div>\n",
       "<style scoped>\n",
       "    .dataframe tbody tr th:only-of-type {\n",
       "        vertical-align: middle;\n",
       "    }\n",
       "\n",
       "    .dataframe tbody tr th {\n",
       "        vertical-align: top;\n",
       "    }\n",
       "\n",
       "    .dataframe thead th {\n",
       "        text-align: right;\n",
       "    }\n",
       "</style>\n",
       "<table border=\"1\" class=\"dataframe\">\n",
       "  <thead>\n",
       "    <tr style=\"text-align: right;\">\n",
       "      <th></th>\n",
       "      <th>Time</th>\n",
       "      <th>V1</th>\n",
       "      <th>V2</th>\n",
       "      <th>V3</th>\n",
       "      <th>V4</th>\n",
       "      <th>V5</th>\n",
       "      <th>V6</th>\n",
       "      <th>V7</th>\n",
       "      <th>V8</th>\n",
       "      <th>V9</th>\n",
       "      <th>...</th>\n",
       "      <th>V21</th>\n",
       "      <th>V22</th>\n",
       "      <th>V23</th>\n",
       "      <th>V24</th>\n",
       "      <th>V25</th>\n",
       "      <th>V26</th>\n",
       "      <th>V27</th>\n",
       "      <th>V28</th>\n",
       "      <th>Amount</th>\n",
       "      <th>Class</th>\n",
       "    </tr>\n",
       "  </thead>\n",
       "  <tbody>\n",
       "    <tr>\n",
       "      <th>count</th>\n",
       "      <td>284807.000000</td>\n",
       "      <td>2.848070e+05</td>\n",
       "      <td>2.848070e+05</td>\n",
       "      <td>2.848070e+05</td>\n",
       "      <td>2.848070e+05</td>\n",
       "      <td>2.848070e+05</td>\n",
       "      <td>2.848070e+05</td>\n",
       "      <td>2.848070e+05</td>\n",
       "      <td>2.848070e+05</td>\n",
       "      <td>2.848070e+05</td>\n",
       "      <td>...</td>\n",
       "      <td>2.848070e+05</td>\n",
       "      <td>2.848070e+05</td>\n",
       "      <td>2.848070e+05</td>\n",
       "      <td>2.848070e+05</td>\n",
       "      <td>2.848070e+05</td>\n",
       "      <td>2.848070e+05</td>\n",
       "      <td>2.848070e+05</td>\n",
       "      <td>2.848070e+05</td>\n",
       "      <td>284807.000000</td>\n",
       "      <td>284807.000000</td>\n",
       "    </tr>\n",
       "    <tr>\n",
       "      <th>mean</th>\n",
       "      <td>94813.859575</td>\n",
       "      <td>3.919560e-15</td>\n",
       "      <td>5.688174e-16</td>\n",
       "      <td>-8.769071e-15</td>\n",
       "      <td>2.782312e-15</td>\n",
       "      <td>-1.552563e-15</td>\n",
       "      <td>2.010663e-15</td>\n",
       "      <td>-1.694249e-15</td>\n",
       "      <td>-1.927028e-16</td>\n",
       "      <td>-3.137024e-15</td>\n",
       "      <td>...</td>\n",
       "      <td>1.537294e-16</td>\n",
       "      <td>7.959909e-16</td>\n",
       "      <td>5.367590e-16</td>\n",
       "      <td>4.458112e-15</td>\n",
       "      <td>1.453003e-15</td>\n",
       "      <td>1.699104e-15</td>\n",
       "      <td>-3.660161e-16</td>\n",
       "      <td>-1.206049e-16</td>\n",
       "      <td>88.349619</td>\n",
       "      <td>0.001727</td>\n",
       "    </tr>\n",
       "    <tr>\n",
       "      <th>std</th>\n",
       "      <td>47488.145955</td>\n",
       "      <td>1.958696e+00</td>\n",
       "      <td>1.651309e+00</td>\n",
       "      <td>1.516255e+00</td>\n",
       "      <td>1.415869e+00</td>\n",
       "      <td>1.380247e+00</td>\n",
       "      <td>1.332271e+00</td>\n",
       "      <td>1.237094e+00</td>\n",
       "      <td>1.194353e+00</td>\n",
       "      <td>1.098632e+00</td>\n",
       "      <td>...</td>\n",
       "      <td>7.345240e-01</td>\n",
       "      <td>7.257016e-01</td>\n",
       "      <td>6.244603e-01</td>\n",
       "      <td>6.056471e-01</td>\n",
       "      <td>5.212781e-01</td>\n",
       "      <td>4.822270e-01</td>\n",
       "      <td>4.036325e-01</td>\n",
       "      <td>3.300833e-01</td>\n",
       "      <td>250.120109</td>\n",
       "      <td>0.041527</td>\n",
       "    </tr>\n",
       "    <tr>\n",
       "      <th>min</th>\n",
       "      <td>0.000000</td>\n",
       "      <td>-5.640751e+01</td>\n",
       "      <td>-7.271573e+01</td>\n",
       "      <td>-4.832559e+01</td>\n",
       "      <td>-5.683171e+00</td>\n",
       "      <td>-1.137433e+02</td>\n",
       "      <td>-2.616051e+01</td>\n",
       "      <td>-4.355724e+01</td>\n",
       "      <td>-7.321672e+01</td>\n",
       "      <td>-1.343407e+01</td>\n",
       "      <td>...</td>\n",
       "      <td>-3.483038e+01</td>\n",
       "      <td>-1.093314e+01</td>\n",
       "      <td>-4.480774e+01</td>\n",
       "      <td>-2.836627e+00</td>\n",
       "      <td>-1.029540e+01</td>\n",
       "      <td>-2.604551e+00</td>\n",
       "      <td>-2.256568e+01</td>\n",
       "      <td>-1.543008e+01</td>\n",
       "      <td>0.000000</td>\n",
       "      <td>0.000000</td>\n",
       "    </tr>\n",
       "    <tr>\n",
       "      <th>25%</th>\n",
       "      <td>54201.500000</td>\n",
       "      <td>-9.203734e-01</td>\n",
       "      <td>-5.985499e-01</td>\n",
       "      <td>-8.903648e-01</td>\n",
       "      <td>-8.486401e-01</td>\n",
       "      <td>-6.915971e-01</td>\n",
       "      <td>-7.682956e-01</td>\n",
       "      <td>-5.540759e-01</td>\n",
       "      <td>-2.086297e-01</td>\n",
       "      <td>-6.430976e-01</td>\n",
       "      <td>...</td>\n",
       "      <td>-2.283949e-01</td>\n",
       "      <td>-5.423504e-01</td>\n",
       "      <td>-1.618463e-01</td>\n",
       "      <td>-3.545861e-01</td>\n",
       "      <td>-3.171451e-01</td>\n",
       "      <td>-3.269839e-01</td>\n",
       "      <td>-7.083953e-02</td>\n",
       "      <td>-5.295979e-02</td>\n",
       "      <td>5.600000</td>\n",
       "      <td>0.000000</td>\n",
       "    </tr>\n",
       "    <tr>\n",
       "      <th>50%</th>\n",
       "      <td>84692.000000</td>\n",
       "      <td>1.810880e-02</td>\n",
       "      <td>6.548556e-02</td>\n",
       "      <td>1.798463e-01</td>\n",
       "      <td>-1.984653e-02</td>\n",
       "      <td>-5.433583e-02</td>\n",
       "      <td>-2.741871e-01</td>\n",
       "      <td>4.010308e-02</td>\n",
       "      <td>2.235804e-02</td>\n",
       "      <td>-5.142873e-02</td>\n",
       "      <td>...</td>\n",
       "      <td>-2.945017e-02</td>\n",
       "      <td>6.781943e-03</td>\n",
       "      <td>-1.119293e-02</td>\n",
       "      <td>4.097606e-02</td>\n",
       "      <td>1.659350e-02</td>\n",
       "      <td>-5.213911e-02</td>\n",
       "      <td>1.342146e-03</td>\n",
       "      <td>1.124383e-02</td>\n",
       "      <td>22.000000</td>\n",
       "      <td>0.000000</td>\n",
       "    </tr>\n",
       "    <tr>\n",
       "      <th>75%</th>\n",
       "      <td>139320.500000</td>\n",
       "      <td>1.315642e+00</td>\n",
       "      <td>8.037239e-01</td>\n",
       "      <td>1.027196e+00</td>\n",
       "      <td>7.433413e-01</td>\n",
       "      <td>6.119264e-01</td>\n",
       "      <td>3.985649e-01</td>\n",
       "      <td>5.704361e-01</td>\n",
       "      <td>3.273459e-01</td>\n",
       "      <td>5.971390e-01</td>\n",
       "      <td>...</td>\n",
       "      <td>1.863772e-01</td>\n",
       "      <td>5.285536e-01</td>\n",
       "      <td>1.476421e-01</td>\n",
       "      <td>4.395266e-01</td>\n",
       "      <td>3.507156e-01</td>\n",
       "      <td>2.409522e-01</td>\n",
       "      <td>9.104512e-02</td>\n",
       "      <td>7.827995e-02</td>\n",
       "      <td>77.165000</td>\n",
       "      <td>0.000000</td>\n",
       "    </tr>\n",
       "    <tr>\n",
       "      <th>max</th>\n",
       "      <td>172792.000000</td>\n",
       "      <td>2.454930e+00</td>\n",
       "      <td>2.205773e+01</td>\n",
       "      <td>9.382558e+00</td>\n",
       "      <td>1.687534e+01</td>\n",
       "      <td>3.480167e+01</td>\n",
       "      <td>7.330163e+01</td>\n",
       "      <td>1.205895e+02</td>\n",
       "      <td>2.000721e+01</td>\n",
       "      <td>1.559499e+01</td>\n",
       "      <td>...</td>\n",
       "      <td>2.720284e+01</td>\n",
       "      <td>1.050309e+01</td>\n",
       "      <td>2.252841e+01</td>\n",
       "      <td>4.584549e+00</td>\n",
       "      <td>7.519589e+00</td>\n",
       "      <td>3.517346e+00</td>\n",
       "      <td>3.161220e+01</td>\n",
       "      <td>3.384781e+01</td>\n",
       "      <td>25691.160000</td>\n",
       "      <td>1.000000</td>\n",
       "    </tr>\n",
       "  </tbody>\n",
       "</table>\n",
       "<p>8 rows × 31 columns</p>\n",
       "</div>"
      ],
      "text/plain": [
       "                Time            V1            V2            V3            V4  \\\n",
       "count  284807.000000  2.848070e+05  2.848070e+05  2.848070e+05  2.848070e+05   \n",
       "mean    94813.859575  3.919560e-15  5.688174e-16 -8.769071e-15  2.782312e-15   \n",
       "std     47488.145955  1.958696e+00  1.651309e+00  1.516255e+00  1.415869e+00   \n",
       "min         0.000000 -5.640751e+01 -7.271573e+01 -4.832559e+01 -5.683171e+00   \n",
       "25%     54201.500000 -9.203734e-01 -5.985499e-01 -8.903648e-01 -8.486401e-01   \n",
       "50%     84692.000000  1.810880e-02  6.548556e-02  1.798463e-01 -1.984653e-02   \n",
       "75%    139320.500000  1.315642e+00  8.037239e-01  1.027196e+00  7.433413e-01   \n",
       "max    172792.000000  2.454930e+00  2.205773e+01  9.382558e+00  1.687534e+01   \n",
       "\n",
       "                 V5            V6            V7            V8            V9  \\\n",
       "count  2.848070e+05  2.848070e+05  2.848070e+05  2.848070e+05  2.848070e+05   \n",
       "mean  -1.552563e-15  2.010663e-15 -1.694249e-15 -1.927028e-16 -3.137024e-15   \n",
       "std    1.380247e+00  1.332271e+00  1.237094e+00  1.194353e+00  1.098632e+00   \n",
       "min   -1.137433e+02 -2.616051e+01 -4.355724e+01 -7.321672e+01 -1.343407e+01   \n",
       "25%   -6.915971e-01 -7.682956e-01 -5.540759e-01 -2.086297e-01 -6.430976e-01   \n",
       "50%   -5.433583e-02 -2.741871e-01  4.010308e-02  2.235804e-02 -5.142873e-02   \n",
       "75%    6.119264e-01  3.985649e-01  5.704361e-01  3.273459e-01  5.971390e-01   \n",
       "max    3.480167e+01  7.330163e+01  1.205895e+02  2.000721e+01  1.559499e+01   \n",
       "\n",
       "       ...           V21           V22           V23           V24  \\\n",
       "count  ...  2.848070e+05  2.848070e+05  2.848070e+05  2.848070e+05   \n",
       "mean   ...  1.537294e-16  7.959909e-16  5.367590e-16  4.458112e-15   \n",
       "std    ...  7.345240e-01  7.257016e-01  6.244603e-01  6.056471e-01   \n",
       "min    ... -3.483038e+01 -1.093314e+01 -4.480774e+01 -2.836627e+00   \n",
       "25%    ... -2.283949e-01 -5.423504e-01 -1.618463e-01 -3.545861e-01   \n",
       "50%    ... -2.945017e-02  6.781943e-03 -1.119293e-02  4.097606e-02   \n",
       "75%    ...  1.863772e-01  5.285536e-01  1.476421e-01  4.395266e-01   \n",
       "max    ...  2.720284e+01  1.050309e+01  2.252841e+01  4.584549e+00   \n",
       "\n",
       "                V25           V26           V27           V28         Amount  \\\n",
       "count  2.848070e+05  2.848070e+05  2.848070e+05  2.848070e+05  284807.000000   \n",
       "mean   1.453003e-15  1.699104e-15 -3.660161e-16 -1.206049e-16      88.349619   \n",
       "std    5.212781e-01  4.822270e-01  4.036325e-01  3.300833e-01     250.120109   \n",
       "min   -1.029540e+01 -2.604551e+00 -2.256568e+01 -1.543008e+01       0.000000   \n",
       "25%   -3.171451e-01 -3.269839e-01 -7.083953e-02 -5.295979e-02       5.600000   \n",
       "50%    1.659350e-02 -5.213911e-02  1.342146e-03  1.124383e-02      22.000000   \n",
       "75%    3.507156e-01  2.409522e-01  9.104512e-02  7.827995e-02      77.165000   \n",
       "max    7.519589e+00  3.517346e+00  3.161220e+01  3.384781e+01   25691.160000   \n",
       "\n",
       "               Class  \n",
       "count  284807.000000  \n",
       "mean        0.001727  \n",
       "std         0.041527  \n",
       "min         0.000000  \n",
       "25%         0.000000  \n",
       "50%         0.000000  \n",
       "75%         0.000000  \n",
       "max         1.000000  \n",
       "\n",
       "[8 rows x 31 columns]"
      ]
     },
     "execution_count": 6,
     "metadata": {},
     "output_type": "execute_result"
    }
   ],
   "source": [
    "#Explore the Data\n",
    "data.describe()"
   ]
  },
  {
   "cell_type": "code",
   "execution_count": 7,
   "metadata": {
    "execution": {
     "iopub.execute_input": "2020-12-01T09:00:20.779525Z",
     "iopub.status.busy": "2020-12-01T09:00:20.777782Z",
     "iopub.status.idle": "2020-12-01T09:00:20.808326Z",
     "shell.execute_reply": "2020-12-01T09:00:20.807654Z"
    },
    "papermill": {
     "duration": 0.079333,
     "end_time": "2020-12-01T09:00:20.808566",
     "exception": false,
     "start_time": "2020-12-01T09:00:20.729233",
     "status": "completed"
    },
    "scrolled": true,
    "tags": []
   },
   "outputs": [
    {
     "data": {
      "text/plain": [
       "Time      0\n",
       "V1        0\n",
       "V2        0\n",
       "V3        0\n",
       "V4        0\n",
       "V5        0\n",
       "V6        0\n",
       "V7        0\n",
       "V8        0\n",
       "V9        0\n",
       "V10       0\n",
       "V11       0\n",
       "V12       0\n",
       "V13       0\n",
       "V14       0\n",
       "V15       0\n",
       "V16       0\n",
       "V17       0\n",
       "V18       0\n",
       "V19       0\n",
       "V20       0\n",
       "V21       0\n",
       "V22       0\n",
       "V23       0\n",
       "V24       0\n",
       "V25       0\n",
       "V26       0\n",
       "V27       0\n",
       "V28       0\n",
       "Amount    0\n",
       "Class     0\n",
       "dtype: int64"
      ]
     },
     "execution_count": 7,
     "metadata": {},
     "output_type": "execute_result"
    }
   ],
   "source": [
    "data.isnull().sum()"
   ]
  },
  {
   "cell_type": "code",
   "execution_count": 8,
   "metadata": {
    "execution": {
     "iopub.execute_input": "2020-12-01T09:00:20.922888Z",
     "iopub.status.busy": "2020-12-01T09:00:20.921794Z",
     "iopub.status.idle": "2020-12-01T09:00:20.925371Z",
     "shell.execute_reply": "2020-12-01T09:00:20.924741Z"
    },
    "papermill": {
     "duration": 0.07627,
     "end_time": "2020-12-01T09:00:20.925499",
     "exception": false,
     "start_time": "2020-12-01T09:00:20.849229",
     "status": "completed"
    },
    "tags": []
   },
   "outputs": [],
   "source": [
    "#Exploring the Class Column\n",
    "X = data.loc[:, data.columns != 'Class']\n",
    "y = data.loc[:, data.columns == 'Class']"
   ]
  },
  {
   "cell_type": "code",
   "execution_count": 9,
   "metadata": {
    "execution": {
     "iopub.execute_input": "2020-12-01T09:00:21.011473Z",
     "iopub.status.busy": "2020-12-01T09:00:21.010586Z",
     "iopub.status.idle": "2020-12-01T09:00:21.019979Z",
     "shell.execute_reply": "2020-12-01T09:00:21.019151Z"
    },
    "papermill": {
     "duration": 0.054796,
     "end_time": "2020-12-01T09:00:21.020140",
     "exception": false,
     "start_time": "2020-12-01T09:00:20.965344",
     "status": "completed"
    },
    "tags": []
   },
   "outputs": [
    {
     "name": "stdout",
     "output_type": "stream",
     "text": [
      "0    284315\n",
      "1       492\n",
      "Name: Class, dtype: int64\n"
     ]
    }
   ],
   "source": [
    "#Print the value counts of frauds and non-frauds in the data\n",
    "print(data['Class'].value_counts())"
   ]
  },
  {
   "cell_type": "code",
   "execution_count": 10,
   "metadata": {
    "execution": {
     "iopub.execute_input": "2020-12-01T09:00:21.107040Z",
     "iopub.status.busy": "2020-12-01T09:00:21.106239Z",
     "iopub.status.idle": "2020-12-01T09:00:21.119615Z",
     "shell.execute_reply": "2020-12-01T09:00:21.118573Z"
    },
    "papermill": {
     "duration": 0.059902,
     "end_time": "2020-12-01T09:00:21.119758",
     "exception": false,
     "start_time": "2020-12-01T09:00:21.059856",
     "status": "completed"
    },
    "tags": []
   },
   "outputs": [
    {
     "name": "stdout",
     "output_type": "stream",
     "text": [
      "Valid Transactions:  99.83 % of the dataset\n",
      "Fraudulent Transactions:  0.17 % of the dataset\n"
     ]
    }
   ],
   "source": [
    "#Calculate the percentage of Fraud and Non-fraud transactions.\n",
    "print('Valid Transactions: ', round(data['Class'].value_counts()[0]/len(data) * 100,2), '% of the dataset')\n",
    "\n",
    "print('Fraudulent Transactions: ', round(data['Class'].value_counts()[1]/len(data) * 100,2), '% of the dataset')"
   ]
  },
  {
   "cell_type": "code",
   "execution_count": 11,
   "metadata": {
    "execution": {
     "iopub.execute_input": "2020-12-01T09:00:21.206861Z",
     "iopub.status.busy": "2020-12-01T09:00:21.206097Z",
     "iopub.status.idle": "2020-12-01T09:00:21.397700Z",
     "shell.execute_reply": "2020-12-01T09:00:21.396854Z"
    },
    "papermill": {
     "duration": 0.237837,
     "end_time": "2020-12-01T09:00:21.397837",
     "exception": false,
     "start_time": "2020-12-01T09:00:21.160000",
     "status": "completed"
    },
    "scrolled": true,
    "tags": []
   },
   "outputs": [
    {
     "data": {
      "text/plain": [
       "<matplotlib.axes._subplots.AxesSubplot at 0x7f8a56be95f8>"
      ]
     },
     "execution_count": 11,
     "metadata": {},
     "output_type": "execute_result"
    },
    {
     "data": {
      "image/png": "[encoded data removed]",
      "text/plain": [
       "<Figure size 432x288 with 1 Axes>"
      ]
     },
     "metadata": {
      "needs_background": "light"
     },
     "output_type": "display_data"
    }
   ],
   "source": [
    "#Visualizing the class Imbalance\n",
    "colors = ['blue','red']\n",
    "sns.countplot('Class', data=data, palette=colors)"
   ]
  },
  {
   "cell_type": "code",
   "execution_count": 12,
   "metadata": {
    "execution": {
     "iopub.execute_input": "2020-12-01T09:00:21.575621Z",
     "iopub.status.busy": "2020-12-01T09:00:21.574777Z",
     "iopub.status.idle": "2020-12-01T09:00:21.835774Z",
     "shell.execute_reply": "2020-12-01T09:00:21.835127Z"
    },
    "papermill": {
     "duration": 0.310156,
     "end_time": "2020-12-01T09:00:21.835912",
     "exception": false,
     "start_time": "2020-12-01T09:00:21.525756",
     "status": "completed"
    },
    "tags": []
   },
   "outputs": [],
   "source": [
    "#Splitting the Data\n",
    "from sklearn.model_selection import train_test_split\n",
    "\n",
    "X_train, X_test, y_train, y_test =  train_test_split(X, y, test_size=0.2, random_state=0)"
   ]
  },
  {
   "cell_type": "code",
   "execution_count": 13,
   "metadata": {
    "execution": {
     "iopub.execute_input": "2020-12-01T09:00:21.932546Z",
     "iopub.status.busy": "2020-12-01T09:00:21.931702Z",
     "iopub.status.idle": "2020-12-01T09:00:21.936135Z",
     "shell.execute_reply": "2020-12-01T09:00:21.935303Z"
    },
    "papermill": {
     "duration": 0.055102,
     "end_time": "2020-12-01T09:00:21.936307",
     "exception": false,
     "start_time": "2020-12-01T09:00:21.881205",
     "status": "completed"
    },
    "tags": []
   },
   "outputs": [
    {
     "name": "stdout",
     "output_type": "stream",
     "text": [
      "Transactions in X_train dataset:  (227845, 30)\n",
      "Transaction classes in y_train dataset:  (227845, 1)\n",
      "Transactions in X_test dataset:  (56962, 30)\n",
      "Transaction classes in y_test dataset:  (56962, 1)\n"
     ]
    }
   ],
   "source": [
    "print(\"Transactions in X_train dataset: \", X_train.shape)\n",
    "print(\"Transaction classes in y_train dataset: \", y_train.shape)\n",
    "\n",
    "print(\"Transactions in X_test dataset: \", X_test.shape)\n",
    "print(\"Transaction classes in y_test dataset: \", y_test.shape)"
   ]
  },
  {
   "cell_type": "code",
   "execution_count": 14,
   "metadata": {
    "execution": {
     "iopub.execute_input": "2020-12-01T09:00:22.036698Z",
     "iopub.status.busy": "2020-12-01T09:00:22.035720Z",
     "iopub.status.idle": "2020-12-01T09:00:22.039703Z",
     "shell.execute_reply": "2020-12-01T09:00:22.039067Z"
    },
    "papermill": {
     "duration": 0.058726,
     "end_time": "2020-12-01T09:00:22.039843",
     "exception": false,
     "start_time": "2020-12-01T09:00:21.981117",
     "status": "completed"
    },
    "tags": []
   },
   "outputs": [],
   "source": [
    "#Feature Scaling\n",
    "from sklearn.preprocessing import StandardScaler\n",
    "scaler_amount = StandardScaler()\n",
    "scaler_time = StandardScaler()\n"
   ]
  },
  {
   "cell_type": "code",
   "execution_count": 15,
   "metadata": {
    "execution": {
     "iopub.execute_input": "2020-12-01T09:00:22.132962Z",
     "iopub.status.busy": "2020-12-01T09:00:22.132062Z",
     "iopub.status.idle": "2020-12-01T09:00:22.142114Z",
     "shell.execute_reply": "2020-12-01T09:00:22.142827Z"
    },
    "papermill": {
     "duration": 0.05994,
     "end_time": "2020-12-01T09:00:22.142985",
     "exception": false,
     "start_time": "2020-12-01T09:00:22.083045",
     "status": "completed"
    },
    "scrolled": true,
    "tags": []
   },
   "outputs": [
    {
     "name": "stderr",
     "output_type": "stream",
     "text": [
      "/Users/rameshveer/Applications/anaconda3/lib/python3.7/site-packages/ipykernel_launcher.py:1: SettingWithCopyWarning: \n",
      "A value is trying to be set on a copy of a slice from a DataFrame.\n",
      "Try using .loc[row_indexer,col_indexer] = value instead\n",
      "\n",
      "See the caveats in the documentation: http://pandas.pydata.org/pandas-docs/stable/indexing.html#indexing-view-versus-copy\n",
      "  \"\"\"Entry point for launching an IPython kernel.\n"
     ]
    }
   ],
   "source": [
    "X_train['normAmount'] = scaler_amount.fit_transform(X_train['Amount'].values.reshape(-1, 1))"
   ]
  },
  {
   "cell_type": "code",
   "execution_count": 16,
   "metadata": {
    "execution": {
     "iopub.execute_input": "2020-12-01T09:00:22.237396Z",
     "iopub.status.busy": "2020-12-01T09:00:22.236489Z",
     "iopub.status.idle": "2020-12-01T09:00:22.242674Z",
     "shell.execute_reply": "2020-12-01T09:00:22.241884Z"
    },
    "papermill": {
     "duration": 0.056606,
     "end_time": "2020-12-01T09:00:22.242808",
     "exception": false,
     "start_time": "2020-12-01T09:00:22.186202",
     "status": "completed"
    },
    "tags": []
   },
   "outputs": [
    {
     "name": "stderr",
     "output_type": "stream",
     "text": [
      "/Users/rameshveer/Applications/anaconda3/lib/python3.7/site-packages/ipykernel_launcher.py:1: SettingWithCopyWarning: \n",
      "A value is trying to be set on a copy of a slice from a DataFrame.\n",
      "Try using .loc[row_indexer,col_indexer] = value instead\n",
      "\n",
      "See the caveats in the documentation: http://pandas.pydata.org/pandas-docs/stable/indexing.html#indexing-view-versus-copy\n",
      "  \"\"\"Entry point for launching an IPython kernel.\n"
     ]
    }
   ],
   "source": [
    "X_test['normAmount'] = scaler_amount .transform(X_test['Amount'].values.reshape(-1, 1))\n"
   ]
  },
  {
   "cell_type": "code",
   "execution_count": 17,
   "metadata": {
    "execution": {
     "iopub.execute_input": "2020-12-01T09:00:22.337926Z",
     "iopub.status.busy": "2020-12-01T09:00:22.337137Z",
     "iopub.status.idle": "2020-12-01T09:00:22.347255Z",
     "shell.execute_reply": "2020-12-01T09:00:22.347904Z"
    },
    "papermill": {
     "duration": 0.061206,
     "end_time": "2020-12-01T09:00:22.348085",
     "exception": false,
     "start_time": "2020-12-01T09:00:22.286879",
     "status": "completed"
    },
    "tags": []
   },
   "outputs": [
    {
     "name": "stderr",
     "output_type": "stream",
     "text": [
      "/Users/rameshveer/Applications/anaconda3/lib/python3.7/site-packages/ipykernel_launcher.py:1: SettingWithCopyWarning: \n",
      "A value is trying to be set on a copy of a slice from a DataFrame.\n",
      "Try using .loc[row_indexer,col_indexer] = value instead\n",
      "\n",
      "See the caveats in the documentation: http://pandas.pydata.org/pandas-docs/stable/indexing.html#indexing-view-versus-copy\n",
      "  \"\"\"Entry point for launching an IPython kernel.\n"
     ]
    }
   ],
   "source": [
    "X_train['normTime'] = scaler_time .fit_transform(X_train['Time'].values.reshape(-1, 1))"
   ]
  },
  {
   "cell_type": "code",
   "execution_count": 18,
   "metadata": {
    "execution": {
     "iopub.execute_input": "2020-12-01T09:00:22.444379Z",
     "iopub.status.busy": "2020-12-01T09:00:22.443596Z",
     "iopub.status.idle": "2020-12-01T09:00:22.450039Z",
     "shell.execute_reply": "2020-12-01T09:00:22.449279Z"
    },
    "papermill": {
     "duration": 0.05752,
     "end_time": "2020-12-01T09:00:22.450168",
     "exception": false,
     "start_time": "2020-12-01T09:00:22.392648",
     "status": "completed"
    },
    "tags": []
   },
   "outputs": [
    {
     "name": "stderr",
     "output_type": "stream",
     "text": [
      "/Users/rameshveer/Applications/anaconda3/lib/python3.7/site-packages/ipykernel_launcher.py:1: SettingWithCopyWarning: \n",
      "A value is trying to be set on a copy of a slice from a DataFrame.\n",
      "Try using .loc[row_indexer,col_indexer] = value instead\n",
      "\n",
      "See the caveats in the documentation: http://pandas.pydata.org/pandas-docs/stable/indexing.html#indexing-view-versus-copy\n",
      "  \"\"\"Entry point for launching an IPython kernel.\n"
     ]
    }
   ],
   "source": [
    "X_test['normTime'] = scaler_time .transform(X_test['Time'].values.reshape(-1, 1))"
   ]
  },
  {
   "cell_type": "code",
   "execution_count": 19,
   "metadata": {
    "execution": {
     "iopub.execute_input": "2020-12-01T09:00:22.550503Z",
     "iopub.status.busy": "2020-12-01T09:00:22.549551Z",
     "iopub.status.idle": "2020-12-01T09:00:22.664499Z",
     "shell.execute_reply": "2020-12-01T09:00:22.663661Z"
    },
    "papermill": {
     "duration": 0.167172,
     "end_time": "2020-12-01T09:00:22.664638",
     "exception": false,
     "start_time": "2020-12-01T09:00:22.497466",
     "status": "completed"
    },
    "tags": []
   },
   "outputs": [],
   "source": [
    "X_train = X_train.drop(['Time', 'Amount'], axis=1)\n",
    "X_test = X_test.drop(['Time', 'Amount'], axis=1)"
   ]
  },
  {
   "cell_type": "code",
   "execution_count": 20,
   "metadata": {
    "execution": {
     "iopub.execute_input": "2020-12-01T09:00:22.792294Z",
     "iopub.status.busy": "2020-12-01T09:00:22.791159Z",
     "iopub.status.idle": "2020-12-01T09:00:22.796675Z",
     "shell.execute_reply": "2020-12-01T09:00:22.795765Z"
    },
    "papermill": {
     "duration": 0.085552,
     "end_time": "2020-12-01T09:00:22.796839",
     "exception": false,
     "start_time": "2020-12-01T09:00:22.711287",
     "status": "completed"
    },
    "tags": []
   },
   "outputs": [
    {
     "data": {
      "text/html": [
       "<div>\n",
       "<style scoped>\n",
       "    .dataframe tbody tr th:only-of-type {\n",
       "        vertical-align: middle;\n",
       "    }\n",
       "\n",
       "    .dataframe tbody tr th {\n",
       "        vertical-align: top;\n",
       "    }\n",
       "\n",
       "    .dataframe thead th {\n",
       "        text-align: right;\n",
       "    }\n",
       "</style>\n",
       "<table border=\"1\" class=\"dataframe\">\n",
       "  <thead>\n",
       "    <tr style=\"text-align: right;\">\n",
       "      <th></th>\n",
       "      <th>V1</th>\n",
       "      <th>V2</th>\n",
       "      <th>V3</th>\n",
       "      <th>V4</th>\n",
       "      <th>V5</th>\n",
       "      <th>V6</th>\n",
       "      <th>V7</th>\n",
       "      <th>V8</th>\n",
       "      <th>V9</th>\n",
       "      <th>V10</th>\n",
       "      <th>...</th>\n",
       "      <th>V21</th>\n",
       "      <th>V22</th>\n",
       "      <th>V23</th>\n",
       "      <th>V24</th>\n",
       "      <th>V25</th>\n",
       "      <th>V26</th>\n",
       "      <th>V27</th>\n",
       "      <th>V28</th>\n",
       "      <th>normAmount</th>\n",
       "      <th>normTime</th>\n",
       "    </tr>\n",
       "  </thead>\n",
       "  <tbody>\n",
       "    <tr>\n",
       "      <th>68806</th>\n",
       "      <td>-1.115047</td>\n",
       "      <td>1.035583</td>\n",
       "      <td>0.800712</td>\n",
       "      <td>-1.060398</td>\n",
       "      <td>0.032621</td>\n",
       "      <td>0.853422</td>\n",
       "      <td>-0.614243</td>\n",
       "      <td>-3.231161</td>\n",
       "      <td>1.539948</td>\n",
       "      <td>-0.816909</td>\n",
       "      <td>...</td>\n",
       "      <td>3.020385</td>\n",
       "      <td>-0.539618</td>\n",
       "      <td>0.033156</td>\n",
       "      <td>-0.774946</td>\n",
       "      <td>0.105868</td>\n",
       "      <td>-0.430853</td>\n",
       "      <td>0.229737</td>\n",
       "      <td>-0.070591</td>\n",
       "      <td>-0.305116</td>\n",
       "      <td>-0.877510</td>\n",
       "    </tr>\n",
       "    <tr>\n",
       "      <th>40018</th>\n",
       "      <td>1.228473</td>\n",
       "      <td>-0.138826</td>\n",
       "      <td>0.473795</td>\n",
       "      <td>-0.166381</td>\n",
       "      <td>-0.453564</td>\n",
       "      <td>-0.190135</td>\n",
       "      <td>-0.355309</td>\n",
       "      <td>0.048598</td>\n",
       "      <td>0.128943</td>\n",
       "      <td>-0.014495</td>\n",
       "      <td>...</td>\n",
       "      <td>-0.172147</td>\n",
       "      <td>-0.574730</td>\n",
       "      <td>0.036834</td>\n",
       "      <td>-0.303782</td>\n",
       "      <td>0.073315</td>\n",
       "      <td>0.810356</td>\n",
       "      <td>-0.069178</td>\n",
       "      <td>0.001890</td>\n",
       "      <td>-0.254237</td>\n",
       "      <td>-1.153085</td>\n",
       "    </tr>\n",
       "    <tr>\n",
       "      <th>250360</th>\n",
       "      <td>1.926148</td>\n",
       "      <td>-0.198628</td>\n",
       "      <td>-0.286727</td>\n",
       "      <td>1.596852</td>\n",
       "      <td>-0.488963</td>\n",
       "      <td>-0.311405</td>\n",
       "      <td>-0.303207</td>\n",
       "      <td>0.035513</td>\n",
       "      <td>1.301312</td>\n",
       "      <td>0.007083</td>\n",
       "      <td>...</td>\n",
       "      <td>-0.528432</td>\n",
       "      <td>-1.251300</td>\n",
       "      <td>0.455607</td>\n",
       "      <td>-0.120530</td>\n",
       "      <td>-0.361515</td>\n",
       "      <td>-1.099295</td>\n",
       "      <td>0.052747</td>\n",
       "      <td>-0.032622</td>\n",
       "      <td>-0.329508</td>\n",
       "      <td>1.263832</td>\n",
       "    </tr>\n",
       "    <tr>\n",
       "      <th>234820</th>\n",
       "      <td>2.046232</td>\n",
       "      <td>0.196183</td>\n",
       "      <td>-1.704650</td>\n",
       "      <td>0.530027</td>\n",
       "      <td>0.177496</td>\n",
       "      <td>-1.443091</td>\n",
       "      <td>0.255403</td>\n",
       "      <td>-0.365759</td>\n",
       "      <td>0.602945</td>\n",
       "      <td>-0.478188</td>\n",
       "      <td>...</td>\n",
       "      <td>0.201104</td>\n",
       "      <td>0.757245</td>\n",
       "      <td>-0.013600</td>\n",
       "      <td>-0.079318</td>\n",
       "      <td>0.234805</td>\n",
       "      <td>-0.098151</td>\n",
       "      <td>0.000028</td>\n",
       "      <td>-0.031675</td>\n",
       "      <td>-0.338982</td>\n",
       "      <td>1.122044</td>\n",
       "    </tr>\n",
       "    <tr>\n",
       "      <th>10001</th>\n",
       "      <td>-0.837077</td>\n",
       "      <td>1.034710</td>\n",
       "      <td>2.333129</td>\n",
       "      <td>3.103776</td>\n",
       "      <td>0.229143</td>\n",
       "      <td>0.501123</td>\n",
       "      <td>0.314283</td>\n",
       "      <td>-0.161583</td>\n",
       "      <td>0.409634</td>\n",
       "      <td>0.889521</td>\n",
       "      <td>...</td>\n",
       "      <td>-0.363839</td>\n",
       "      <td>-0.458101</td>\n",
       "      <td>0.164097</td>\n",
       "      <td>0.234167</td>\n",
       "      <td>-0.418734</td>\n",
       "      <td>-0.074078</td>\n",
       "      <td>-0.355165</td>\n",
       "      <td>-0.169616</td>\n",
       "      <td>-0.342046</td>\n",
       "      <td>-1.680363</td>\n",
       "    </tr>\n",
       "  </tbody>\n",
       "</table>\n",
       "<p>5 rows × 30 columns</p>\n",
       "</div>"
      ],
      "text/plain": [
       "              V1        V2        V3        V4        V5        V6        V7  \\\n",
       "68806  -1.115047  1.035583  0.800712 -1.060398  0.032621  0.853422 -0.614243   \n",
       "40018   1.228473 -0.138826  0.473795 -0.166381 -0.453564 -0.190135 -0.355309   \n",
       "250360  1.926148 -0.198628 -0.286727  1.596852 -0.488963 -0.311405 -0.303207   \n",
       "234820  2.046232  0.196183 -1.704650  0.530027  0.177496 -1.443091  0.255403   \n",
       "10001  -0.837077  1.034710  2.333129  3.103776  0.229143  0.501123  0.314283   \n",
       "\n",
       "              V8        V9       V10  ...       V21       V22       V23  \\\n",
       "68806  -3.231161  1.539948 -0.816909  ...  3.020385 -0.539618  0.033156   \n",
       "40018   0.048598  0.128943 -0.014495  ... -0.172147 -0.574730  0.036834   \n",
       "250360  0.035513  1.301312  0.007083  ... -0.528432 -1.251300  0.455607   \n",
       "234820 -0.365759  0.602945 -0.478188  ...  0.201104  0.757245 -0.013600   \n",
       "10001  -0.161583  0.409634  0.889521  ... -0.363839 -0.458101  0.164097   \n",
       "\n",
       "             V24       V25       V26       V27       V28  normAmount  normTime  \n",
       "68806  -0.774946  0.105868 -0.430853  0.229737 -0.070591   -0.305116 -0.877510  \n",
       "40018  -0.303782  0.073315  0.810356 -0.069178  0.001890   -0.254237 -1.153085  \n",
       "250360 -0.120530 -0.361515 -1.099295  0.052747 -0.032622   -0.329508  1.263832  \n",
       "234820 -0.079318  0.234805 -0.098151  0.000028 -0.031675   -0.338982  1.122044  \n",
       "10001   0.234167 -0.418734 -0.074078 -0.355165 -0.169616   -0.342046 -1.680363  \n",
       "\n",
       "[5 rows x 30 columns]"
      ]
     },
     "execution_count": 20,
     "metadata": {},
     "output_type": "execute_result"
    }
   ],
   "source": [
    "X_train.head()\n"
   ]
  },
  {
   "cell_type": "markdown",
   "metadata": {
    "papermill": {
     "duration": 0.047239,
     "end_time": "2020-12-01T09:00:22.894301",
     "exception": false,
     "start_time": "2020-12-01T09:00:22.847062",
     "status": "completed"
    },
    "tags": []
   },
   "source": [
    "### Apply SMOTE Technique\n",
    "\n",
    "Understanding SMOTE:\n",
    "\n",
    "Achieving Balanced Classes : Using the distances between the closest neighbors of the minority class, SMOTE creates synthetic points in between these distances in order to reach an equal balance between the minority and majority class.\n",
    "Effect: More information is retained since we don't have to delete any rows unlike in random undersampling(where we remove some data samples of majority class to achieve class balance).\n",
    "Accuracy - Time Tradeoff: More the number of data samples, more the training time which tends to increase performance. Less the number of data samples, less the information and thus less probable of decent performance."
   ]
  },
  {
   "cell_type": "code",
   "execution_count": 21,
   "metadata": {
    "execution": {
     "iopub.execute_input": "2020-12-01T09:00:22.994159Z",
     "iopub.status.busy": "2020-12-01T09:00:22.993378Z",
     "iopub.status.idle": "2020-12-01T09:00:23.500545Z",
     "shell.execute_reply": "2020-12-01T09:00:23.499654Z"
    },
    "papermill": {
     "duration": 0.559743,
     "end_time": "2020-12-01T09:00:23.500676",
     "exception": false,
     "start_time": "2020-12-01T09:00:22.940933",
     "status": "completed"
    },
    "tags": []
   },
   "outputs": [
    {
     "name": "stderr",
     "output_type": "stream",
     "text": [
      "Using TensorFlow backend.\n"
     ]
    }
   ],
   "source": [
    "from imblearn.over_sampling import SMOTE"
   ]
  },
  {
   "cell_type": "code",
   "execution_count": 22,
   "metadata": {
    "execution": {
     "iopub.execute_input": "2020-12-01T09:00:23.601544Z",
     "iopub.status.busy": "2020-12-01T09:00:23.600451Z",
     "iopub.status.idle": "2020-12-01T09:00:23.609713Z",
     "shell.execute_reply": "2020-12-01T09:00:23.609030Z"
    },
    "papermill": {
     "duration": 0.062561,
     "end_time": "2020-12-01T09:00:23.609856",
     "exception": false,
     "start_time": "2020-12-01T09:00:23.547295",
     "status": "completed"
    },
    "tags": []
   },
   "outputs": [
    {
     "name": "stdout",
     "output_type": "stream",
     "text": [
      "Before over-sampling:\n",
      " 0    227454\n",
      "1       391\n",
      "Name: Class, dtype: int64\n"
     ]
    }
   ],
   "source": [
    "print(\"Before over-sampling:\\n\", y_train['Class'].value_counts())"
   ]
  },
  {
   "cell_type": "code",
   "execution_count": 23,
   "metadata": {
    "execution": {
     "iopub.execute_input": "2020-12-01T09:00:23.711929Z",
     "iopub.status.busy": "2020-12-01T09:00:23.711188Z",
     "iopub.status.idle": "2020-12-01T09:00:23.714886Z",
     "shell.execute_reply": "2020-12-01T09:00:23.714100Z"
    },
    "papermill": {
     "duration": 0.056425,
     "end_time": "2020-12-01T09:00:23.715073",
     "exception": false,
     "start_time": "2020-12-01T09:00:23.658648",
     "status": "completed"
    },
    "tags": []
   },
   "outputs": [],
   "source": [
    "sm = SMOTE()"
   ]
  },
  {
   "cell_type": "code",
   "execution_count": 24,
   "metadata": {
    "execution": {
     "iopub.execute_input": "2020-12-01T09:00:23.820746Z",
     "iopub.status.busy": "2020-12-01T09:00:23.819818Z",
     "iopub.status.idle": "2020-12-01T09:00:24.320605Z",
     "shell.execute_reply": "2020-12-01T09:00:24.319877Z"
    },
    "papermill": {
     "duration": 0.553871,
     "end_time": "2020-12-01T09:00:24.320742",
     "exception": false,
     "start_time": "2020-12-01T09:00:23.766871",
     "status": "completed"
    },
    "tags": []
   },
   "outputs": [],
   "source": [
    "X_train_res, y_train_res = sm.fit_sample(X_train, y_train['Class'])"
   ]
  },
  {
   "cell_type": "code",
   "execution_count": 25,
   "metadata": {
    "execution": {
     "iopub.execute_input": "2020-12-01T09:00:24.421721Z",
     "iopub.status.busy": "2020-12-01T09:00:24.420651Z",
     "iopub.status.idle": "2020-12-01T09:00:24.430718Z",
     "shell.execute_reply": "2020-12-01T09:00:24.431646Z"
    },
    "papermill": {
     "duration": 0.064091,
     "end_time": "2020-12-01T09:00:24.431867",
     "exception": false,
     "start_time": "2020-12-01T09:00:24.367776",
     "status": "completed"
    },
    "scrolled": true,
    "tags": []
   },
   "outputs": [
    {
     "name": "stdout",
     "output_type": "stream",
     "text": [
      "After over-sampling:\n",
      " 1    227454\n",
      "0    227454\n",
      "Name: Class, dtype: int64\n"
     ]
    }
   ],
   "source": [
    "print(\"After over-sampling:\\n\", y_train_res.value_counts())"
   ]
  },
  {
   "cell_type": "markdown",
   "metadata": {},
   "source": [
    "# Model Construction\n",
    "\n",
    "    The following code blocks construct the Machine Learning models using the training dataset"
   ]
  },
  {
   "cell_type": "markdown",
   "metadata": {},
   "source": [
    "## Generic Class to run any Classification Models"
   ]
  },
  {
   "cell_type": "code",
   "execution_count": 26,
   "metadata": {},
   "outputs": [],
   "source": [
    "class Clf_Mod:\n",
    "    \n",
    "    def __init__(self, model, #### model is a method which we are going to use for detecting FRAUDS. For example: sklearn.svm\n",
    "                 X= X_train, y= y_train, test= X_test, ### data\n",
    "                 **kvars  #### additional key parameters for model\n",
    "                ):\n",
    "        self.clf = model( **kvars)\n",
    "        self.methodname = model.__name__\n",
    "        self.X_train = X\n",
    "        self.y_train = y\n",
    "        self.X_test = test\n",
    "        self.fit(self.X_train, self.y_train)\n",
    "        self.predicted = self.predict_val(test)\n",
    "        \n",
    "    def fit (self, X, y):\n",
    "        self.clf.fit(X, y)\n",
    "    \n",
    "    def predict_val(self, x):\n",
    "        return self.clf.predict(x)\n",
    "       \n",
    "    def get_score(self, y = y_test, roc = True, params = False):\n",
    "        accuracy = accuracy_score(self.predicted, y)\n",
    "        if params:\n",
    "            print(self.clf.get_params())\n",
    "        print(self.methodname+ \" metrics:\\n\")\n",
    "        print(\" Accuracy Score: %.2f%%\" % (accuracy * 100.0))\n",
    "        print(\" Confusion matrix:\", \"\\n\",confusion_matrix(y_true=y, y_pred=self.predicted))\n",
    "        print( 'Classification report:\\n', classification_report(y, self.predicted))\n",
    "        if roc:\n",
    "            print(\" ROC Score: %.2f%%\" % (roc_auc_score(y, self.clf.predict_proba(self.X_test)[:,1])))\n",
    "        \n",
    "    def plot_curves(self, y = y_test):   \n",
    "        plt.figure(figsize=(17, 5))\n",
    "        plt.subplot(131)\n",
    "        # Plot the recall precision tradeoff        \n",
    "        self.plot_pr_curve(y)\n",
    "        plt.subplot(132)        \n",
    "        self.plot_lern_curve(accuracy_score)     \n",
    "        plt.subplot(133)\n",
    "        self.plot_lern_curve(roc_auc_score)\n",
    "        plt.show()\n",
    "        \n",
    "    def plot_pr_curve(self, y = y_test):\n",
    "        \n",
    "        plt.subplot(122)\n",
    "        # Calculate average precision and the PR curve\n",
    "        average_precision = average_precision_score(y, self.predicted)\n",
    "\n",
    "        # Obtain precision and recall \n",
    "        precision, recall, _ = precision_recall_curve(y, self.clf.predict_proba(self.X_test)[:,1])\n",
    "        \n",
    "        plt.step(recall, precision, where='post')\n",
    "        plt.xlabel('Recall')\n",
    "        plt.ylabel('Precision')\n",
    "        plt.ylim([0.0, 1.05])\n",
    "        plt.xlim([0.0, 1.05])\n",
    "        plt.title('2-class Precision-Recall curve: AP={0:0.2f}'.format( average_precision))\n",
    "    \n",
    "    def plot_lern_curve(self, metrics):\n",
    "        plt.title(self.methodname + \" Learning Curves\")\n",
    "        plt.xlabel('Training examples')\n",
    "        plt.ylabel(\"{}\".format(' '.join(metrics.__name__.split('_')).title()))\n",
    "        \n",
    "        train_sizes, train_scores, test_scores = learning_curve(self.clf, self.X_train, self.y_train, n_jobs=-1, \n",
    "                                                                cv = ShuffleSplit(n_splits=5, test_size=.25 , random_state = 5), \n",
    "                                                                train_sizes=np.linspace(0.5, 1.0, 10), scoring = make_scorer(metrics))\n",
    "        train_scores_mean = np.mean(train_scores, axis=1) \n",
    "        test_scores_mean = np.mean(test_scores, axis=1) \n",
    "        #plt.grid()\n",
    "\n",
    "        plt.plot(train_sizes,  train_scores_mean, 'o-', color=\"r\", label=\"Training score\")\n",
    "        plt.plot(train_sizes,  test_scores_mean, 'o-', color=\"g\", label=\"Cross-validation score\")\n",
    "        \n",
    "        plt.legend(loc=\"best\")\n",
    "    \n",
    "    def plot_roc_curve(self, y = y_test, models = None, fig = None):\n",
    "        fig = plt.figure(figsize=(15, 7))\n",
    "        ax = fig.add_subplot(121)\n",
    "        \n",
    "        self.roc_curves(ax, y, models)\n",
    "        \n",
    "        ax.plot([0, 1], [0, 1], color='darkblue', linestyle='--')\n",
    "        \n",
    "        ax.set_xlabel('False Positive Rate')\n",
    "        ax.set_ylabel('True Positive Rate')\n",
    "        plt.title('Receiver Operating Characteristic (ROC) Curve')\n",
    "        \n",
    "        plt.legend(loc=\"best\")\n",
    "        \n",
    "        #if fig != None:\n",
    "            #plt.savefig( fig, bbox_inches = 'tight')\n",
    "       \n",
    "    def roc_curves(self, p, y, M):\n",
    "        if M == None:\n",
    "            fpr, tpr, thresholds = roc_curve(y, self.clf.predict_proba(self.X_test)[:,1] )\n",
    "            p.plot(fpr, tpr,  label=self.methodname )\n",
    "        else:\n",
    "            fpr, tpr, thresholds = roc_curve(y, self.clf.predict_proba(self.X_test)[:,1] )\n",
    "            p.plot(fpr, tpr,  label=self.methodname )\n",
    "            for i in M:\n",
    "                fpr, tpr, thresholds = roc_curve(y, i.clf.predict_proba(i.X_test)[:,1] )\n",
    "                p.plot(fpr, tpr,  label=i.methodname )\n",
    "\n",
    "#### Function for serching best parameters which is fiting the model and shows best results for specified method.               \n",
    "def grid(method, parameters):\n",
    "    \n",
    "    grid_1 = GridSearchCV(method, parameters, scoring = make_scorer(accuracy_score), cv=5, n_jobs = -1)\n",
    "    grid_2 = GridSearchCV(method, parameters, scoring = make_scorer(roc_auc_score), cv=5, n_jobs = -1)\n",
    "    \n",
    "    grid_1.fit(X_train, y_train)\n",
    "    print('Best parameters using accuracy score:')\n",
    "    print(grid_1.best_params_)\n",
    "\n",
    "    grid_2.fit(X_train, y_train)\n",
    "    print('Best parameters usin ROC accuracy score:')\n",
    "    print(grid_2.best_params_)"
   ]
  },
  {
   "cell_type": "markdown",
   "metadata": {},
   "source": [
    "### 1. Logistic regression"
   ]
  },
  {
   "cell_type": "code",
   "execution_count": 27,
   "metadata": {},
   "outputs": [
    {
     "name": "stderr",
     "output_type": "stream",
     "text": [
      "/Users/rameshveer/Applications/anaconda3/lib/python3.7/site-packages/sklearn/utils/validation.py:73: DataConversionWarning: A column-vector y was passed when a 1d array was expected. Please change the shape of y to (n_samples, ), for example using ravel().\n",
      "  return f(**kwargs)\n"
     ]
    },
    {
     "name": "stdout",
     "output_type": "stream",
     "text": [
      "LogisticRegression metrics:\n",
      "\n",
      " Accuracy Score: 97.75%\n",
      " Confusion matrix: \n",
      " [[55590  1271]\n",
      " [    8    93]]\n",
      "Classification report:\n",
      "               precision    recall  f1-score   support\n",
      "\n",
      "           0       1.00      0.98      0.99     56861\n",
      "           1       0.07      0.92      0.13       101\n",
      "\n",
      "    accuracy                           0.98     56962\n",
      "   macro avg       0.53      0.95      0.56     56962\n",
      "weighted avg       1.00      0.98      0.99     56962\n",
      "\n",
      " ROC Score: 0.98%\n"
     ]
    }
   ],
   "source": [
    "Log_reg = Clf_Mod(LogisticRegression, \n",
    "              penalty= 'l1',\n",
    "              solver= 'liblinear', class_weight='balanced', random_state = 5 , C = 0.001)\n",
    "\n",
    "# Get your performance metrics\n",
    "Log_reg.get_score()"
   ]
  },
  {
   "cell_type": "code",
   "execution_count": 28,
   "metadata": {},
   "outputs": [
    {
     "data": {
      "image/png": "[encoded data removed]",
      "text/plain": [
       "<Figure size 1080x504 with 2 Axes>"
      ]
     },
     "metadata": {
      "needs_background": "light"
     },
     "output_type": "display_data"
    }
   ],
   "source": [
    "Log_reg.plot_roc_curve()\n",
    "Log_reg.plot_pr_curve()"
   ]
  },
  {
   "cell_type": "markdown",
   "metadata": {},
   "source": [
    "### 2. Random Forest Clasifier"
   ]
  },
  {
   "cell_type": "code",
   "execution_count": 29,
   "metadata": {
    "scrolled": false
   },
   "outputs": [
    {
     "name": "stderr",
     "output_type": "stream",
     "text": [
      "/Users/rameshveer/Applications/anaconda3/lib/python3.7/site-packages/ipykernel_launcher.py:16: DataConversionWarning: A column-vector y was passed when a 1d array was expected. Please change the shape of y to (n_samples,), for example using ravel().\n",
      "  app.launch_new_instance()\n"
     ]
    },
    {
     "name": "stdout",
     "output_type": "stream",
     "text": [
      "RandomForestClassifier metrics:\n",
      "\n",
      " Accuracy Score: 97.01%\n",
      " Confusion matrix: \n",
      " [[55165  1696]\n",
      " [    9    92]]\n",
      "Classification report:\n",
      "               precision    recall  f1-score   support\n",
      "\n",
      "           0       1.00      0.97      0.98     56861\n",
      "           1       0.05      0.91      0.10       101\n",
      "\n",
      "    accuracy                           0.97     56962\n",
      "   macro avg       0.53      0.94      0.54     56962\n",
      "weighted avg       1.00      0.97      0.98     56962\n",
      "\n",
      " ROC Score: 0.97%\n"
     ]
    }
   ],
   "source": [
    "### Random Forest Clasifier\n",
    "# Continue fitting the model and obtain predictions\n",
    "\n",
    "Random_forest = Clf_Mod(RandomForestClassifier, \n",
    "               n_jobs = -1, random_state = 5, class_weight = 'balanced_subsample', \n",
    "              min_samples_split = 0.25\n",
    "             )\n",
    " \n",
    "# Get your performance metrics\n",
    "Random_forest.get_score() "
   ]
  },
  {
   "cell_type": "markdown",
   "metadata": {},
   "source": [
    "### Plot validation results"
   ]
  },
  {
   "cell_type": "code",
   "execution_count": 31,
   "metadata": {
    "scrolled": true
   },
   "outputs": [
    {
     "data": {
      "image/png": "[encoded data removed]",
      "text/plain": [
       "<Figure size 1080x504 with 2 Axes>"
      ]
     },
     "metadata": {
      "needs_background": "light"
     },
     "output_type": "display_data"
    }
   ],
   "source": [
    "Random_forest.plot_roc_curve(models = [Log_reg])\n",
    "Random_forest.plot_pr_curve()"
   ]
  },
  {
   "cell_type": "markdown",
   "metadata": {},
   "source": [
    "### 3. Ensemble method clasifier (log-reg + Random Forest)"
   ]
  },
  {
   "cell_type": "code",
   "execution_count": 32,
   "metadata": {
    "scrolled": false
   },
   "outputs": [
    {
     "name": "stderr",
     "output_type": "stream",
     "text": [
      "/Users/rameshveer/Applications/anaconda3/lib/python3.7/site-packages/sklearn/utils/validation.py:73: DataConversionWarning: A column-vector y was passed when a 1d array was expected. Please change the shape of y to (n_samples, ), for example using ravel().\n",
      "  return f(**kwargs)\n"
     ]
    },
    {
     "name": "stdout",
     "output_type": "stream",
     "text": [
      "VotingClassifier metrics:\n",
      "\n",
      " Accuracy Score: 97.78%\n",
      " Confusion matrix: \n",
      " [[55604  1257]\n",
      " [    8    93]]\n",
      "Classification report:\n",
      "               precision    recall  f1-score   support\n",
      "\n",
      "           0       1.00      0.98      0.99     56861\n",
      "           1       0.07      0.92      0.13       101\n",
      "\n",
      "    accuracy                           0.98     56962\n",
      "   macro avg       0.53      0.95      0.56     56962\n",
      "weighted avg       1.00      0.98      0.99     56962\n",
      "\n",
      " ROC Score: 0.98%\n"
     ]
    }
   ],
   "source": [
    "### Generate ensemble\n",
    "Ensemble = Clf_Mod(VotingClassifier, \n",
    "              estimators=[ ('lr', Log_reg.clf), (\"rf\", Random_forest.clf)], voting='soft', n_jobs = -1\n",
    "             )\n",
    " \n",
    "# Get your performance metrics\n",
    "Ensemble.get_score()"
   ]
  },
  {
   "cell_type": "markdown",
   "metadata": {},
   "source": [
    "* ### Plot validation results"
   ]
  },
  {
   "cell_type": "code",
   "execution_count": 34,
   "metadata": {},
   "outputs": [
    {
     "data": {
      "image/png": "[encoded data removed]",
      "text/plain": [
       "<Figure size 1080x504 with 2 Axes>"
      ]
     },
     "metadata": {
      "needs_background": "light"
     },
     "output_type": "display_data"
    }
   ],
   "source": [
    "Ensemble.methodname = \"log-reg + RandomForestCl\"\n",
    "Ensemble.plot_roc_curve(models = [Log_reg, Random_forest])\n",
    "Ensemble.plot_pr_curve()"
   ]
  },
  {
   "cell_type": "markdown",
   "metadata": {},
   "source": [
    "### Inference:"
   ]
  },
  {
   "cell_type": "markdown",
   "metadata": {},
   "source": [
    "    Based on ROC & Accuracy score of various models, \n",
    "    we can choose #Logistic Regression for our business case which yeilds best ROC/Accuracy score.\n"
   ]
  }
 ],
 "metadata": {
  "kernelspec": {
   "display_name": "Python 3",
   "language": "python",
   "name": "python3"
  },
  "language_info": {
   "codemirror_mode": {
    "name": "ipython",
    "version": 3
   },
   "file_extension": ".py",
   "mimetype": "text/x-python",
   "name": "python",
   "nbconvert_exporter": "python",
   "pygments_lexer": "ipython3",
   "version": "3.7.3"
  },
  "papermill": {
   "duration": 71.969202,
   "end_time": "2020-12-01T09:01:21.689929",
   "environment_variables": {},
   "exception": null,
   "input_path": "__notebook__.ipynb",
   "output_path": "__notebook__.ipynb",
   "parameters": {},
   "start_time": "2020-12-01T09:00:09.720727",
   "version": "2.1.0"
  }
 },
 "nbformat": 4,
 "nbformat_minor": 4
}
