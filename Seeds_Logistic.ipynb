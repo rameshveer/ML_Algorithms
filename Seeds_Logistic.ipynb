{
 "cells": [
  {
   "cell_type": "code",
   "execution_count": 1,
   "metadata": {},
   "outputs": [],
   "source": [
    "import seaborn as sns\n",
    "import pandas as pd\n",
    "import numpy as np\n",
    "df = pd.read_csv('seeds_dataset.csv')"
   ]
  },
  {
   "cell_type": "code",
   "execution_count": 2,
   "metadata": {},
   "outputs": [
    {
     "data": {
      "text/html": [
       "<div>\n",
       "<style scoped>\n",
       "    .dataframe tbody tr th:only-of-type {\n",
       "        vertical-align: middle;\n",
       "    }\n",
       "\n",
       "    .dataframe tbody tr th {\n",
       "        vertical-align: top;\n",
       "    }\n",
       "\n",
       "    .dataframe thead th {\n",
       "        text-align: right;\n",
       "    }\n",
       "</style>\n",
       "<table border=\"1\" class=\"dataframe\">\n",
       "  <thead>\n",
       "    <tr style=\"text-align: right;\">\n",
       "      <th></th>\n",
       "      <th>Area</th>\n",
       "      <th>Perimeter</th>\n",
       "      <th>Compactness</th>\n",
       "      <th>Length_of_Kernel</th>\n",
       "      <th>Width_of_Kernel</th>\n",
       "      <th>Asymmetry_Coefficient</th>\n",
       "      <th>Length_of_Kernel_Groove</th>\n",
       "      <th>Class</th>\n",
       "    </tr>\n",
       "  </thead>\n",
       "  <tbody>\n",
       "    <tr>\n",
       "      <th>0</th>\n",
       "      <td>15.26</td>\n",
       "      <td>14.84</td>\n",
       "      <td>0.8710</td>\n",
       "      <td>5.763</td>\n",
       "      <td>3.312</td>\n",
       "      <td>2.221</td>\n",
       "      <td>5.220</td>\n",
       "      <td>1.0</td>\n",
       "    </tr>\n",
       "    <tr>\n",
       "      <th>1</th>\n",
       "      <td>14.88</td>\n",
       "      <td>14.57</td>\n",
       "      <td>0.8811</td>\n",
       "      <td>5.554</td>\n",
       "      <td>3.333</td>\n",
       "      <td>1.018</td>\n",
       "      <td>4.956</td>\n",
       "      <td>1.0</td>\n",
       "    </tr>\n",
       "    <tr>\n",
       "      <th>2</th>\n",
       "      <td>14.29</td>\n",
       "      <td>14.09</td>\n",
       "      <td>0.9050</td>\n",
       "      <td>5.291</td>\n",
       "      <td>3.337</td>\n",
       "      <td>2.699</td>\n",
       "      <td>4.825</td>\n",
       "      <td>1.0</td>\n",
       "    </tr>\n",
       "    <tr>\n",
       "      <th>3</th>\n",
       "      <td>13.84</td>\n",
       "      <td>13.94</td>\n",
       "      <td>0.8955</td>\n",
       "      <td>5.324</td>\n",
       "      <td>3.379</td>\n",
       "      <td>2.259</td>\n",
       "      <td>4.805</td>\n",
       "      <td>1.0</td>\n",
       "    </tr>\n",
       "    <tr>\n",
       "      <th>4</th>\n",
       "      <td>16.14</td>\n",
       "      <td>14.99</td>\n",
       "      <td>0.9034</td>\n",
       "      <td>5.658</td>\n",
       "      <td>3.562</td>\n",
       "      <td>1.355</td>\n",
       "      <td>5.175</td>\n",
       "      <td>1.0</td>\n",
       "    </tr>\n",
       "  </tbody>\n",
       "</table>\n",
       "</div>"
      ],
      "text/plain": [
       "    Area  Perimeter  Compactness  Length_of_Kernel  Width_of_Kernel  \\\n",
       "0  15.26      14.84       0.8710             5.763            3.312   \n",
       "1  14.88      14.57       0.8811             5.554            3.333   \n",
       "2  14.29      14.09       0.9050             5.291            3.337   \n",
       "3  13.84      13.94       0.8955             5.324            3.379   \n",
       "4  16.14      14.99       0.9034             5.658            3.562   \n",
       "\n",
       "   Asymmetry_Coefficient  Length_of_Kernel_Groove  Class  \n",
       "0                  2.221                    5.220    1.0  \n",
       "1                  1.018                    4.956    1.0  \n",
       "2                  2.699                    4.825    1.0  \n",
       "3                  2.259                    4.805    1.0  \n",
       "4                  1.355                    5.175    1.0  "
      ]
     },
     "execution_count": 2,
     "metadata": {},
     "output_type": "execute_result"
    }
   ],
   "source": [
    "df.head()"
   ]
  },
  {
   "cell_type": "code",
   "execution_count": 3,
   "metadata": {},
   "outputs": [
    {
     "data": {
      "text/html": [
       "<div>\n",
       "<style scoped>\n",
       "    .dataframe tbody tr th:only-of-type {\n",
       "        vertical-align: middle;\n",
       "    }\n",
       "\n",
       "    .dataframe tbody tr th {\n",
       "        vertical-align: top;\n",
       "    }\n",
       "\n",
       "    .dataframe thead th {\n",
       "        text-align: right;\n",
       "    }\n",
       "</style>\n",
       "<table border=\"1\" class=\"dataframe\">\n",
       "  <thead>\n",
       "    <tr style=\"text-align: right;\">\n",
       "      <th></th>\n",
       "      <th>Area</th>\n",
       "      <th>Perimeter</th>\n",
       "      <th>Compactness</th>\n",
       "      <th>Length_of_Kernel</th>\n",
       "      <th>Width_of_Kernel</th>\n",
       "      <th>Asymmetry_Coefficient</th>\n",
       "      <th>Length_of_Kernel_Groove</th>\n",
       "      <th>Class</th>\n",
       "    </tr>\n",
       "  </thead>\n",
       "  <tbody>\n",
       "    <tr>\n",
       "      <th>count</th>\n",
       "      <td>210.000000</td>\n",
       "      <td>210.000000</td>\n",
       "      <td>207.000000</td>\n",
       "      <td>210.000000</td>\n",
       "      <td>209.000000</td>\n",
       "      <td>210.000000</td>\n",
       "      <td>206.000000</td>\n",
       "      <td>206.000000</td>\n",
       "    </tr>\n",
       "    <tr>\n",
       "      <th>mean</th>\n",
       "      <td>14.847524</td>\n",
       "      <td>14.559286</td>\n",
       "      <td>0.871280</td>\n",
       "      <td>5.563918</td>\n",
       "      <td>3.281440</td>\n",
       "      <td>3.693530</td>\n",
       "      <td>5.407529</td>\n",
       "      <td>2.084039</td>\n",
       "    </tr>\n",
       "    <tr>\n",
       "      <th>std</th>\n",
       "      <td>2.909699</td>\n",
       "      <td>1.305959</td>\n",
       "      <td>0.023306</td>\n",
       "      <td>0.719594</td>\n",
       "      <td>0.419907</td>\n",
       "      <td>1.495112</td>\n",
       "      <td>0.532330</td>\n",
       "      <td>0.948211</td>\n",
       "    </tr>\n",
       "    <tr>\n",
       "      <th>min</th>\n",
       "      <td>10.590000</td>\n",
       "      <td>12.410000</td>\n",
       "      <td>0.808100</td>\n",
       "      <td>0.818900</td>\n",
       "      <td>2.630000</td>\n",
       "      <td>0.765100</td>\n",
       "      <td>3.485000</td>\n",
       "      <td>1.000000</td>\n",
       "    </tr>\n",
       "    <tr>\n",
       "      <th>25%</th>\n",
       "      <td>12.270000</td>\n",
       "      <td>13.450000</td>\n",
       "      <td>0.857700</td>\n",
       "      <td>5.244750</td>\n",
       "      <td>2.956000</td>\n",
       "      <td>2.600250</td>\n",
       "      <td>5.045000</td>\n",
       "      <td>1.000000</td>\n",
       "    </tr>\n",
       "    <tr>\n",
       "      <th>50%</th>\n",
       "      <td>14.355000</td>\n",
       "      <td>14.320000</td>\n",
       "      <td>0.873500</td>\n",
       "      <td>5.518000</td>\n",
       "      <td>3.245000</td>\n",
       "      <td>3.599000</td>\n",
       "      <td>5.226000</td>\n",
       "      <td>2.000000</td>\n",
       "    </tr>\n",
       "    <tr>\n",
       "      <th>75%</th>\n",
       "      <td>17.305000</td>\n",
       "      <td>15.715000</td>\n",
       "      <td>0.887650</td>\n",
       "      <td>5.979750</td>\n",
       "      <td>3.566000</td>\n",
       "      <td>4.768750</td>\n",
       "      <td>5.879000</td>\n",
       "      <td>3.000000</td>\n",
       "    </tr>\n",
       "    <tr>\n",
       "      <th>max</th>\n",
       "      <td>21.180000</td>\n",
       "      <td>17.250000</td>\n",
       "      <td>0.918300</td>\n",
       "      <td>6.675000</td>\n",
       "      <td>5.325000</td>\n",
       "      <td>8.456000</td>\n",
       "      <td>6.735000</td>\n",
       "      <td>5.439000</td>\n",
       "    </tr>\n",
       "  </tbody>\n",
       "</table>\n",
       "</div>"
      ],
      "text/plain": [
       "             Area   Perimeter  Compactness  Length_of_Kernel  Width_of_Kernel  \\\n",
       "count  210.000000  210.000000   207.000000        210.000000       209.000000   \n",
       "mean    14.847524   14.559286     0.871280          5.563918         3.281440   \n",
       "std      2.909699    1.305959     0.023306          0.719594         0.419907   \n",
       "min     10.590000   12.410000     0.808100          0.818900         2.630000   \n",
       "25%     12.270000   13.450000     0.857700          5.244750         2.956000   \n",
       "50%     14.355000   14.320000     0.873500          5.518000         3.245000   \n",
       "75%     17.305000   15.715000     0.887650          5.979750         3.566000   \n",
       "max     21.180000   17.250000     0.918300          6.675000         5.325000   \n",
       "\n",
       "       Asymmetry_Coefficient  Length_of_Kernel_Groove       Class  \n",
       "count             210.000000               206.000000  206.000000  \n",
       "mean                3.693530                 5.407529    2.084039  \n",
       "std                 1.495112                 0.532330    0.948211  \n",
       "min                 0.765100                 3.485000    1.000000  \n",
       "25%                 2.600250                 5.045000    1.000000  \n",
       "50%                 3.599000                 5.226000    2.000000  \n",
       "75%                 4.768750                 5.879000    3.000000  \n",
       "max                 8.456000                 6.735000    5.439000  "
      ]
     },
     "execution_count": 3,
     "metadata": {},
     "output_type": "execute_result"
    }
   ],
   "source": [
    "df.describe()"
   ]
  },
  {
   "cell_type": "markdown",
   "metadata": {},
   "source": [
    "#### Removing rows which has Class values as empty"
   ]
  },
  {
   "cell_type": "code",
   "execution_count": 4,
   "metadata": {},
   "outputs": [],
   "source": [
    "df['Class'].replace('', np.nan, inplace=True)"
   ]
  },
  {
   "cell_type": "code",
   "execution_count": 5,
   "metadata": {},
   "outputs": [],
   "source": [
    "df.dropna(subset=['Class'], inplace=True)"
   ]
  },
  {
   "cell_type": "code",
   "execution_count": 6,
   "metadata": {},
   "outputs": [
    {
     "name": "stdout",
     "output_type": "stream",
     "text": [
      "<class 'pandas.core.frame.DataFrame'>\n",
      "Int64Index: 206 entries, 0 to 209\n",
      "Data columns (total 8 columns):\n",
      "Area                       206 non-null float64\n",
      "Perimeter                  206 non-null float64\n",
      "Compactness                203 non-null float64\n",
      "Length_of_Kernel           206 non-null float64\n",
      "Width_of_Kernel            205 non-null float64\n",
      "Asymmetry_Coefficient      206 non-null float64\n",
      "Length_of_Kernel_Groove    202 non-null float64\n",
      "Class                      206 non-null float64\n",
      "dtypes: float64(8)\n",
      "memory usage: 14.5 KB\n"
     ]
    }
   ],
   "source": [
    "df.info()"
   ]
  },
  {
   "cell_type": "markdown",
   "metadata": {},
   "source": [
    "Class:"
   ]
  },
  {
   "cell_type": "code",
   "execution_count": 7,
   "metadata": {
    "scrolled": true
   },
   "outputs": [
    {
     "data": {
      "text/plain": [
       "<matplotlib.axes._subplots.AxesSubplot at 0x1a1fdd1550>"
      ]
     },
     "execution_count": 7,
     "metadata": {},
     "output_type": "execute_result"
    },
    {
     "data": {
      "image/png": "[encoded data removed]",
      "text/plain": [
       "<Figure size 432x288 with 1 Axes>"
      ]
     },
     "metadata": {
      "needs_background": "light"
     },
     "output_type": "display_data"
    }
   ],
   "source": [
    "sns.scatterplot(x=\"Area\", y=\"Class\", data=df)"
   ]
  },
  {
   "cell_type": "code",
   "execution_count": 8,
   "metadata": {},
   "outputs": [
    {
     "data": {
      "text/plain": [
       "4.7312"
      ]
     },
     "execution_count": 8,
     "metadata": {},
     "output_type": "execute_result"
    }
   ],
   "source": [
    "uv = np.percentile(df.Class, [98][0])\n",
    "uv"
   ]
  },
  {
   "cell_type": "code",
   "execution_count": 9,
   "metadata": {},
   "outputs": [],
   "source": [
    "df.Class[(df.Class > 3)] = 3"
   ]
  },
  {
   "cell_type": "code",
   "execution_count": 10,
   "metadata": {},
   "outputs": [],
   "source": [
    "df.Class[(df.Class >2)&(df.Class <2.5)] = 2"
   ]
  },
  {
   "cell_type": "code",
   "execution_count": 11,
   "metadata": {},
   "outputs": [
    {
     "data": {
      "text/html": [
       "<div>\n",
       "<style scoped>\n",
       "    .dataframe tbody tr th:only-of-type {\n",
       "        vertical-align: middle;\n",
       "    }\n",
       "\n",
       "    .dataframe tbody tr th {\n",
       "        vertical-align: top;\n",
       "    }\n",
       "\n",
       "    .dataframe thead th {\n",
       "        text-align: right;\n",
       "    }\n",
       "</style>\n",
       "<table border=\"1\" class=\"dataframe\">\n",
       "  <thead>\n",
       "    <tr style=\"text-align: right;\">\n",
       "      <th></th>\n",
       "      <th>Area</th>\n",
       "      <th>Perimeter</th>\n",
       "      <th>Compactness</th>\n",
       "      <th>Length_of_Kernel</th>\n",
       "      <th>Width_of_Kernel</th>\n",
       "      <th>Asymmetry_Coefficient</th>\n",
       "      <th>Length_of_Kernel_Groove</th>\n",
       "      <th>Class</th>\n",
       "    </tr>\n",
       "  </thead>\n",
       "  <tbody>\n",
       "    <tr>\n",
       "      <th>count</th>\n",
       "      <td>206.000000</td>\n",
       "      <td>206.000000</td>\n",
       "      <td>203.000000</td>\n",
       "      <td>206.000000</td>\n",
       "      <td>205.000000</td>\n",
       "      <td>206.000000</td>\n",
       "      <td>202.000000</td>\n",
       "      <td>206.000000</td>\n",
       "    </tr>\n",
       "    <tr>\n",
       "      <th>mean</th>\n",
       "      <td>14.858204</td>\n",
       "      <td>14.565583</td>\n",
       "      <td>0.871169</td>\n",
       "      <td>5.565198</td>\n",
       "      <td>3.282966</td>\n",
       "      <td>3.682375</td>\n",
       "      <td>5.408173</td>\n",
       "      <td>2.024272</td>\n",
       "    </tr>\n",
       "    <tr>\n",
       "      <th>std</th>\n",
       "      <td>2.909853</td>\n",
       "      <td>1.306601</td>\n",
       "      <td>0.023292</td>\n",
       "      <td>0.724167</td>\n",
       "      <td>0.420538</td>\n",
       "      <td>1.462391</td>\n",
       "      <td>0.533085</td>\n",
       "      <td>0.817130</td>\n",
       "    </tr>\n",
       "    <tr>\n",
       "      <th>min</th>\n",
       "      <td>10.590000</td>\n",
       "      <td>12.410000</td>\n",
       "      <td>0.808100</td>\n",
       "      <td>0.818900</td>\n",
       "      <td>2.630000</td>\n",
       "      <td>0.765100</td>\n",
       "      <td>3.485000</td>\n",
       "      <td>1.000000</td>\n",
       "    </tr>\n",
       "    <tr>\n",
       "      <th>25%</th>\n",
       "      <td>12.270000</td>\n",
       "      <td>13.452500</td>\n",
       "      <td>0.857700</td>\n",
       "      <td>5.253000</td>\n",
       "      <td>2.956000</td>\n",
       "      <td>2.600250</td>\n",
       "      <td>5.045250</td>\n",
       "      <td>1.000000</td>\n",
       "    </tr>\n",
       "    <tr>\n",
       "      <th>50%</th>\n",
       "      <td>14.360000</td>\n",
       "      <td>14.320000</td>\n",
       "      <td>0.873500</td>\n",
       "      <td>5.518000</td>\n",
       "      <td>3.258000</td>\n",
       "      <td>3.599000</td>\n",
       "      <td>5.226000</td>\n",
       "      <td>2.000000</td>\n",
       "    </tr>\n",
       "    <tr>\n",
       "      <th>75%</th>\n",
       "      <td>17.305000</td>\n",
       "      <td>15.715000</td>\n",
       "      <td>0.887500</td>\n",
       "      <td>5.979750</td>\n",
       "      <td>3.566000</td>\n",
       "      <td>4.768750</td>\n",
       "      <td>5.879000</td>\n",
       "      <td>3.000000</td>\n",
       "    </tr>\n",
       "    <tr>\n",
       "      <th>max</th>\n",
       "      <td>21.180000</td>\n",
       "      <td>17.250000</td>\n",
       "      <td>0.918300</td>\n",
       "      <td>6.675000</td>\n",
       "      <td>5.325000</td>\n",
       "      <td>8.315000</td>\n",
       "      <td>6.735000</td>\n",
       "      <td>3.000000</td>\n",
       "    </tr>\n",
       "  </tbody>\n",
       "</table>\n",
       "</div>"
      ],
      "text/plain": [
       "             Area   Perimeter  Compactness  Length_of_Kernel  Width_of_Kernel  \\\n",
       "count  206.000000  206.000000   203.000000        206.000000       205.000000   \n",
       "mean    14.858204   14.565583     0.871169          5.565198         3.282966   \n",
       "std      2.909853    1.306601     0.023292          0.724167         0.420538   \n",
       "min     10.590000   12.410000     0.808100          0.818900         2.630000   \n",
       "25%     12.270000   13.452500     0.857700          5.253000         2.956000   \n",
       "50%     14.360000   14.320000     0.873500          5.518000         3.258000   \n",
       "75%     17.305000   15.715000     0.887500          5.979750         3.566000   \n",
       "max     21.180000   17.250000     0.918300          6.675000         5.325000   \n",
       "\n",
       "       Asymmetry_Coefficient  Length_of_Kernel_Groove       Class  \n",
       "count             206.000000               202.000000  206.000000  \n",
       "mean                3.682375                 5.408173    2.024272  \n",
       "std                 1.462391                 0.533085    0.817130  \n",
       "min                 0.765100                 3.485000    1.000000  \n",
       "25%                 2.600250                 5.045250    1.000000  \n",
       "50%                 3.599000                 5.226000    2.000000  \n",
       "75%                 4.768750                 5.879000    3.000000  \n",
       "max                 8.315000                 6.735000    3.000000  "
      ]
     },
     "execution_count": 11,
     "metadata": {},
     "output_type": "execute_result"
    }
   ],
   "source": [
    "df.describe()"
   ]
  },
  {
   "cell_type": "markdown",
   "metadata": {},
   "source": [
    "Length_of_Kernel_Groove:"
   ]
  },
  {
   "cell_type": "code",
   "execution_count": 12,
   "metadata": {},
   "outputs": [],
   "source": [
    "df.Length_of_Kernel_Groove = df.Length_of_Kernel_Groove.fillna(df.Length_of_Kernel_Groove.mean())"
   ]
  },
  {
   "cell_type": "code",
   "execution_count": 13,
   "metadata": {
    "scrolled": true
   },
   "outputs": [
    {
     "data": {
      "text/plain": [
       "<matplotlib.axes._subplots.AxesSubplot at 0x1a200d5320>"
      ]
     },
     "execution_count": 13,
     "metadata": {},
     "output_type": "execute_result"
    },
    {
     "data": {
      "image/png": "[encoded data removed]",
      "text/plain": [
       "<Figure size 432x288 with 1 Axes>"
      ]
     },
     "metadata": {
      "needs_background": "light"
     },
     "output_type": "display_data"
    }
   ],
   "source": [
    "sns.scatterplot(x=\"Area\", y=\"Length_of_Kernel_Groove\", data=df)"
   ]
  },
  {
   "cell_type": "code",
   "execution_count": 14,
   "metadata": {},
   "outputs": [
    {
     "data": {
      "text/plain": [
       "<matplotlib.axes._subplots.AxesSubplot at 0x1a201ef860>"
      ]
     },
     "execution_count": 14,
     "metadata": {},
     "output_type": "execute_result"
    },
    {
     "data": {
      "image/png": "[encoded data removed]",
      "text/plain": [
       "<Figure size 432x288 with 1 Axes>"
      ]
     },
     "metadata": {
      "needs_background": "light"
     },
     "output_type": "display_data"
    }
   ],
   "source": [
    "sns.boxplot(y=\"Length_of_Kernel_Groove\", data=df)"
   ]
  },
  {
   "cell_type": "code",
   "execution_count": 15,
   "metadata": {},
   "outputs": [
    {
     "data": {
      "text/plain": [
       "4.5233"
      ]
     },
     "execution_count": 15,
     "metadata": {},
     "output_type": "execute_result"
    }
   ],
   "source": [
    "lv = np.percentile(df.Length_of_Kernel_Groove, [1][0])\n",
    "lv"
   ]
  },
  {
   "cell_type": "code",
   "execution_count": 16,
   "metadata": {},
   "outputs": [],
   "source": [
    "df.Length_of_Kernel_Groove[(df.Length_of_Kernel_Groove) < lv] = lv"
   ]
  },
  {
   "cell_type": "markdown",
   "metadata": {},
   "source": [
    "Asymmetry_Coefficient:"
   ]
  },
  {
   "cell_type": "code",
   "execution_count": 17,
   "metadata": {},
   "outputs": [
    {
     "data": {
      "text/plain": [
       "<matplotlib.axes._subplots.AxesSubplot at 0x1a202c8048>"
      ]
     },
     "execution_count": 17,
     "metadata": {},
     "output_type": "execute_result"
    },
    {
     "data": {
      "image/png": "[encoded data removed]",
      "text/plain": [
       "<Figure size 432x288 with 1 Axes>"
      ]
     },
     "metadata": {
      "needs_background": "light"
     },
     "output_type": "display_data"
    }
   ],
   "source": [
    "sns.scatterplot(x=\"Area\", y=\"Asymmetry_Coefficient\", data=df)"
   ]
  },
  {
   "cell_type": "code",
   "execution_count": 18,
   "metadata": {},
   "outputs": [
    {
     "data": {
      "text/plain": [
       "<matplotlib.axes._subplots.AxesSubplot at 0x1a203748d0>"
      ]
     },
     "execution_count": 18,
     "metadata": {},
     "output_type": "execute_result"
    },
    {
     "data": {
      "image/png": "[encoded data removed]",
      "text/plain": [
       "<Figure size 432x288 with 1 Axes>"
      ]
     },
     "metadata": {
      "needs_background": "light"
     },
     "output_type": "display_data"
    }
   ],
   "source": [
    "sns.boxplot(y=\"Asymmetry_Coefficient\", data=df)"
   ]
  },
  {
   "cell_type": "code",
   "execution_count": 19,
   "metadata": {},
   "outputs": [
    {
     "data": {
      "text/plain": [
       "7.03285"
      ]
     },
     "execution_count": 19,
     "metadata": {},
     "output_type": "execute_result"
    }
   ],
   "source": [
    "uv = np.percentile(df.Asymmetry_Coefficient, [99][0])\n",
    "uv"
   ]
  },
  {
   "cell_type": "code",
   "execution_count": 20,
   "metadata": {},
   "outputs": [],
   "source": [
    "df.Asymmetry_Coefficient[(df.Asymmetry_Coefficient) > uv] = uv"
   ]
  },
  {
   "cell_type": "markdown",
   "metadata": {},
   "source": [
    "Width_of_Kernel:"
   ]
  },
  {
   "cell_type": "code",
   "execution_count": 21,
   "metadata": {},
   "outputs": [],
   "source": [
    "df.Width_of_Kernel = df.Width_of_Kernel.fillna(df.Width_of_Kernel.mean())"
   ]
  },
  {
   "cell_type": "code",
   "execution_count": 22,
   "metadata": {
    "scrolled": true
   },
   "outputs": [
    {
     "data": {
      "text/plain": [
       "<matplotlib.axes._subplots.AxesSubplot at 0x1a203e2748>"
      ]
     },
     "execution_count": 22,
     "metadata": {},
     "output_type": "execute_result"
    },
    {
     "data": {
      "image/png": "[encoded data removed]",
      "text/plain": [
       "<Figure size 432x288 with 1 Axes>"
      ]
     },
     "metadata": {
      "needs_background": "light"
     },
     "output_type": "display_data"
    }
   ],
   "source": [
    "sns.scatterplot(x=\"Area\", y=\"Width_of_Kernel\", data=df)"
   ]
  },
  {
   "cell_type": "code",
   "execution_count": 23,
   "metadata": {},
   "outputs": [
    {
     "data": {
      "text/plain": [
       "<matplotlib.axes._subplots.AxesSubplot at 0x1a2053f278>"
      ]
     },
     "execution_count": 23,
     "metadata": {},
     "output_type": "execute_result"
    },
    {
     "data": {
      "image/png": "[encoded data removed]",
      "text/plain": [
       "<Figure size 432x288 with 1 Axes>"
      ]
     },
     "metadata": {
      "needs_background": "light"
     },
     "output_type": "display_data"
    }
   ],
   "source": [
    "sns.boxplot(y=\"Width_of_Kernel\", data=df)"
   ]
  },
  {
   "cell_type": "code",
   "execution_count": 24,
   "metadata": {},
   "outputs": [
    {
     "data": {
      "text/plain": [
       "4.0329500000000005"
      ]
     },
     "execution_count": 24,
     "metadata": {},
     "output_type": "execute_result"
    }
   ],
   "source": [
    "uv = np.percentile(df.Width_of_Kernel, [99][0])\n",
    "uv"
   ]
  },
  {
   "cell_type": "code",
   "execution_count": 25,
   "metadata": {},
   "outputs": [],
   "source": [
    "df.Width_of_Kernel[(df.Width_of_Kernel) >  uv] = 0.8 * uv"
   ]
  },
  {
   "cell_type": "markdown",
   "metadata": {},
   "source": [
    "Length_of_Kernel:"
   ]
  },
  {
   "cell_type": "code",
   "execution_count": 26,
   "metadata": {
    "scrolled": false
   },
   "outputs": [
    {
     "data": {
      "text/plain": [
       "<matplotlib.axes._subplots.AxesSubplot at 0x1a20604d30>"
      ]
     },
     "execution_count": 26,
     "metadata": {},
     "output_type": "execute_result"
    },
    {
     "data": {
      "image/png": "[encoded data removed]",
      "text/plain": [
       "<Figure size 432x288 with 1 Axes>"
      ]
     },
     "metadata": {
      "needs_background": "light"
     },
     "output_type": "display_data"
    }
   ],
   "source": [
    "sns.boxplot(y=\"Length_of_Kernel\", data=df)"
   ]
  },
  {
   "cell_type": "code",
   "execution_count": 27,
   "metadata": {
    "scrolled": true
   },
   "outputs": [
    {
     "data": {
      "text/plain": [
       "1.0999499999999993"
      ]
     },
     "execution_count": 27,
     "metadata": {},
     "output_type": "execute_result"
    }
   ],
   "source": [
    "lv = np.percentile(df.Length_of_Kernel, [1][0])\n",
    "lv"
   ]
  },
  {
   "cell_type": "code",
   "execution_count": 28,
   "metadata": {},
   "outputs": [],
   "source": [
    "df.Width_of_Kernel[(df.Width_of_Kernel) < lv] = lv"
   ]
  },
  {
   "cell_type": "markdown",
   "metadata": {},
   "source": [
    "Compactness:"
   ]
  },
  {
   "cell_type": "code",
   "execution_count": 29,
   "metadata": {},
   "outputs": [],
   "source": [
    "df.Compactness = df.Compactness.fillna(df.Compactness.mean())"
   ]
  },
  {
   "cell_type": "code",
   "execution_count": 30,
   "metadata": {},
   "outputs": [
    {
     "data": {
      "text/plain": [
       "<matplotlib.axes._subplots.AxesSubplot at 0x1a20604390>"
      ]
     },
     "execution_count": 30,
     "metadata": {},
     "output_type": "execute_result"
    },
    {
     "data": {
      "image/png": "[encoded data removed]",
      "text/plain": [
       "<Figure size 432x288 with 1 Axes>"
      ]
     },
     "metadata": {
      "needs_background": "light"
     },
     "output_type": "display_data"
    }
   ],
   "source": [
    "sns.boxplot(y=\"Compactness\", data=df)"
   ]
  },
  {
   "cell_type": "code",
   "execution_count": 31,
   "metadata": {},
   "outputs": [
    {
     "data": {
      "text/plain": [
       "0.81701"
      ]
     },
     "execution_count": 31,
     "metadata": {},
     "output_type": "execute_result"
    }
   ],
   "source": [
    "lv = np.percentile(df.Compactness, [2][0])\n",
    "lv"
   ]
  },
  {
   "cell_type": "code",
   "execution_count": 32,
   "metadata": {},
   "outputs": [],
   "source": [
    "df.Compactness[(df.Compactness) < lv] = lv"
   ]
  },
  {
   "cell_type": "markdown",
   "metadata": {},
   "source": [
    "Perimeter:"
   ]
  },
  {
   "cell_type": "code",
   "execution_count": 33,
   "metadata": {},
   "outputs": [
    {
     "data": {
      "text/plain": [
       "<matplotlib.axes._subplots.AxesSubplot at 0x1a207a0908>"
      ]
     },
     "execution_count": 33,
     "metadata": {},
     "output_type": "execute_result"
    },
    {
     "data": {
      "image/png": "[encoded data removed]",
      "text/plain": [
       "<Figure size 432x288 with 1 Axes>"
      ]
     },
     "metadata": {
      "needs_background": "light"
     },
     "output_type": "display_data"
    }
   ],
   "source": [
    "sns.boxplot(y=\"Perimeter\", data=df)"
   ]
  },
  {
   "cell_type": "markdown",
   "metadata": {},
   "source": [
    "Area:"
   ]
  },
  {
   "cell_type": "code",
   "execution_count": 34,
   "metadata": {},
   "outputs": [
    {
     "data": {
      "text/plain": [
       "<matplotlib.axes._subplots.AxesSubplot at 0x1a20864a20>"
      ]
     },
     "execution_count": 34,
     "metadata": {},
     "output_type": "execute_result"
    },
    {
     "data": {
      "image/png": "[encoded data removed]",
      "text/plain": [
       "<Figure size 432x288 with 1 Axes>"
      ]
     },
     "metadata": {
      "needs_background": "light"
     },
     "output_type": "display_data"
    }
   ],
   "source": [
    "sns.boxplot(y=\"Area\", data=df)"
   ]
  },
  {
   "cell_type": "code",
   "execution_count": 35,
   "metadata": {},
   "outputs": [
    {
     "data": {
      "text/html": [
       "<div>\n",
       "<style scoped>\n",
       "    .dataframe tbody tr th:only-of-type {\n",
       "        vertical-align: middle;\n",
       "    }\n",
       "\n",
       "    .dataframe tbody tr th {\n",
       "        vertical-align: top;\n",
       "    }\n",
       "\n",
       "    .dataframe thead th {\n",
       "        text-align: right;\n",
       "    }\n",
       "</style>\n",
       "<table border=\"1\" class=\"dataframe\">\n",
       "  <thead>\n",
       "    <tr style=\"text-align: right;\">\n",
       "      <th></th>\n",
       "      <th>Area</th>\n",
       "      <th>Perimeter</th>\n",
       "      <th>Compactness</th>\n",
       "      <th>Length_of_Kernel</th>\n",
       "      <th>Width_of_Kernel</th>\n",
       "      <th>Asymmetry_Coefficient</th>\n",
       "      <th>Length_of_Kernel_Groove</th>\n",
       "      <th>Class</th>\n",
       "    </tr>\n",
       "  </thead>\n",
       "  <tbody>\n",
       "    <tr>\n",
       "      <th>0</th>\n",
       "      <td>15.26</td>\n",
       "      <td>14.84</td>\n",
       "      <td>0.8710</td>\n",
       "      <td>5.763</td>\n",
       "      <td>3.312</td>\n",
       "      <td>2.22100</td>\n",
       "      <td>5.220000</td>\n",
       "      <td>1.0</td>\n",
       "    </tr>\n",
       "    <tr>\n",
       "      <th>1</th>\n",
       "      <td>14.88</td>\n",
       "      <td>14.57</td>\n",
       "      <td>0.8811</td>\n",
       "      <td>5.554</td>\n",
       "      <td>3.333</td>\n",
       "      <td>1.01800</td>\n",
       "      <td>4.956000</td>\n",
       "      <td>1.0</td>\n",
       "    </tr>\n",
       "    <tr>\n",
       "      <th>2</th>\n",
       "      <td>14.29</td>\n",
       "      <td>14.09</td>\n",
       "      <td>0.9050</td>\n",
       "      <td>5.291</td>\n",
       "      <td>3.337</td>\n",
       "      <td>2.69900</td>\n",
       "      <td>4.825000</td>\n",
       "      <td>1.0</td>\n",
       "    </tr>\n",
       "    <tr>\n",
       "      <th>3</th>\n",
       "      <td>13.84</td>\n",
       "      <td>13.94</td>\n",
       "      <td>0.8955</td>\n",
       "      <td>5.324</td>\n",
       "      <td>3.379</td>\n",
       "      <td>2.25900</td>\n",
       "      <td>4.805000</td>\n",
       "      <td>1.0</td>\n",
       "    </tr>\n",
       "    <tr>\n",
       "      <th>4</th>\n",
       "      <td>16.14</td>\n",
       "      <td>14.99</td>\n",
       "      <td>0.9034</td>\n",
       "      <td>5.658</td>\n",
       "      <td>3.562</td>\n",
       "      <td>1.35500</td>\n",
       "      <td>5.175000</td>\n",
       "      <td>1.0</td>\n",
       "    </tr>\n",
       "    <tr>\n",
       "      <th>5</th>\n",
       "      <td>14.38</td>\n",
       "      <td>14.21</td>\n",
       "      <td>0.8951</td>\n",
       "      <td>5.386</td>\n",
       "      <td>3.312</td>\n",
       "      <td>2.46200</td>\n",
       "      <td>4.956000</td>\n",
       "      <td>1.0</td>\n",
       "    </tr>\n",
       "    <tr>\n",
       "      <th>6</th>\n",
       "      <td>14.69</td>\n",
       "      <td>14.49</td>\n",
       "      <td>0.8799</td>\n",
       "      <td>5.563</td>\n",
       "      <td>3.259</td>\n",
       "      <td>3.58600</td>\n",
       "      <td>5.219000</td>\n",
       "      <td>1.0</td>\n",
       "    </tr>\n",
       "    <tr>\n",
       "      <th>7</th>\n",
       "      <td>14.11</td>\n",
       "      <td>14.10</td>\n",
       "      <td>0.8911</td>\n",
       "      <td>5.420</td>\n",
       "      <td>3.302</td>\n",
       "      <td>2.70000</td>\n",
       "      <td>5.408173</td>\n",
       "      <td>3.0</td>\n",
       "    </tr>\n",
       "    <tr>\n",
       "      <th>8</th>\n",
       "      <td>16.63</td>\n",
       "      <td>15.46</td>\n",
       "      <td>0.8747</td>\n",
       "      <td>6.053</td>\n",
       "      <td>3.465</td>\n",
       "      <td>2.04000</td>\n",
       "      <td>5.877000</td>\n",
       "      <td>1.0</td>\n",
       "    </tr>\n",
       "    <tr>\n",
       "      <th>9</th>\n",
       "      <td>16.44</td>\n",
       "      <td>15.25</td>\n",
       "      <td>0.8880</td>\n",
       "      <td>5.884</td>\n",
       "      <td>3.505</td>\n",
       "      <td>1.96900</td>\n",
       "      <td>5.533000</td>\n",
       "      <td>1.0</td>\n",
       "    </tr>\n",
       "    <tr>\n",
       "      <th>10</th>\n",
       "      <td>15.26</td>\n",
       "      <td>14.85</td>\n",
       "      <td>0.8696</td>\n",
       "      <td>5.714</td>\n",
       "      <td>3.242</td>\n",
       "      <td>4.54300</td>\n",
       "      <td>5.314000</td>\n",
       "      <td>1.0</td>\n",
       "    </tr>\n",
       "    <tr>\n",
       "      <th>11</th>\n",
       "      <td>14.03</td>\n",
       "      <td>14.16</td>\n",
       "      <td>0.8796</td>\n",
       "      <td>5.438</td>\n",
       "      <td>3.201</td>\n",
       "      <td>1.71700</td>\n",
       "      <td>5.001000</td>\n",
       "      <td>1.0</td>\n",
       "    </tr>\n",
       "    <tr>\n",
       "      <th>12</th>\n",
       "      <td>13.89</td>\n",
       "      <td>14.02</td>\n",
       "      <td>0.8880</td>\n",
       "      <td>5.439</td>\n",
       "      <td>3.199</td>\n",
       "      <td>3.98600</td>\n",
       "      <td>4.738000</td>\n",
       "      <td>1.0</td>\n",
       "    </tr>\n",
       "    <tr>\n",
       "      <th>13</th>\n",
       "      <td>13.78</td>\n",
       "      <td>14.06</td>\n",
       "      <td>0.8759</td>\n",
       "      <td>5.479</td>\n",
       "      <td>3.156</td>\n",
       "      <td>3.13600</td>\n",
       "      <td>4.872000</td>\n",
       "      <td>1.0</td>\n",
       "    </tr>\n",
       "    <tr>\n",
       "      <th>14</th>\n",
       "      <td>13.74</td>\n",
       "      <td>14.05</td>\n",
       "      <td>0.8744</td>\n",
       "      <td>5.482</td>\n",
       "      <td>3.114</td>\n",
       "      <td>2.93200</td>\n",
       "      <td>4.825000</td>\n",
       "      <td>1.0</td>\n",
       "    </tr>\n",
       "    <tr>\n",
       "      <th>15</th>\n",
       "      <td>14.59</td>\n",
       "      <td>14.28</td>\n",
       "      <td>0.8993</td>\n",
       "      <td>5.351</td>\n",
       "      <td>3.333</td>\n",
       "      <td>4.18500</td>\n",
       "      <td>4.781000</td>\n",
       "      <td>1.0</td>\n",
       "    </tr>\n",
       "    <tr>\n",
       "      <th>16</th>\n",
       "      <td>13.99</td>\n",
       "      <td>13.83</td>\n",
       "      <td>0.9183</td>\n",
       "      <td>5.119</td>\n",
       "      <td>3.383</td>\n",
       "      <td>5.23400</td>\n",
       "      <td>4.781000</td>\n",
       "      <td>1.0</td>\n",
       "    </tr>\n",
       "    <tr>\n",
       "      <th>17</th>\n",
       "      <td>15.69</td>\n",
       "      <td>14.75</td>\n",
       "      <td>0.9058</td>\n",
       "      <td>5.527</td>\n",
       "      <td>3.514</td>\n",
       "      <td>1.59900</td>\n",
       "      <td>5.046000</td>\n",
       "      <td>1.0</td>\n",
       "    </tr>\n",
       "    <tr>\n",
       "      <th>18</th>\n",
       "      <td>14.70</td>\n",
       "      <td>14.21</td>\n",
       "      <td>0.9153</td>\n",
       "      <td>5.205</td>\n",
       "      <td>3.466</td>\n",
       "      <td>1.76700</td>\n",
       "      <td>4.649000</td>\n",
       "      <td>1.0</td>\n",
       "    </tr>\n",
       "    <tr>\n",
       "      <th>19</th>\n",
       "      <td>12.72</td>\n",
       "      <td>13.57</td>\n",
       "      <td>0.8686</td>\n",
       "      <td>5.226</td>\n",
       "      <td>3.049</td>\n",
       "      <td>4.10200</td>\n",
       "      <td>4.914000</td>\n",
       "      <td>1.0</td>\n",
       "    </tr>\n",
       "    <tr>\n",
       "      <th>20</th>\n",
       "      <td>14.16</td>\n",
       "      <td>14.40</td>\n",
       "      <td>0.8584</td>\n",
       "      <td>5.658</td>\n",
       "      <td>3.129</td>\n",
       "      <td>3.07200</td>\n",
       "      <td>5.176000</td>\n",
       "      <td>1.0</td>\n",
       "    </tr>\n",
       "    <tr>\n",
       "      <th>21</th>\n",
       "      <td>14.11</td>\n",
       "      <td>14.26</td>\n",
       "      <td>0.8722</td>\n",
       "      <td>5.520</td>\n",
       "      <td>3.168</td>\n",
       "      <td>2.68800</td>\n",
       "      <td>5.219000</td>\n",
       "      <td>1.0</td>\n",
       "    </tr>\n",
       "    <tr>\n",
       "      <th>22</th>\n",
       "      <td>15.88</td>\n",
       "      <td>14.90</td>\n",
       "      <td>0.8988</td>\n",
       "      <td>5.618</td>\n",
       "      <td>3.507</td>\n",
       "      <td>0.76510</td>\n",
       "      <td>5.091000</td>\n",
       "      <td>1.0</td>\n",
       "    </tr>\n",
       "    <tr>\n",
       "      <th>23</th>\n",
       "      <td>12.08</td>\n",
       "      <td>13.23</td>\n",
       "      <td>0.8664</td>\n",
       "      <td>5.099</td>\n",
       "      <td>2.936</td>\n",
       "      <td>1.41500</td>\n",
       "      <td>4.961000</td>\n",
       "      <td>1.0</td>\n",
       "    </tr>\n",
       "    <tr>\n",
       "      <th>24</th>\n",
       "      <td>15.01</td>\n",
       "      <td>14.76</td>\n",
       "      <td>0.8657</td>\n",
       "      <td>5.789</td>\n",
       "      <td>3.245</td>\n",
       "      <td>1.79100</td>\n",
       "      <td>5.001000</td>\n",
       "      <td>1.0</td>\n",
       "    </tr>\n",
       "    <tr>\n",
       "      <th>25</th>\n",
       "      <td>16.19</td>\n",
       "      <td>15.16</td>\n",
       "      <td>0.8849</td>\n",
       "      <td>5.833</td>\n",
       "      <td>3.421</td>\n",
       "      <td>0.90300</td>\n",
       "      <td>5.307000</td>\n",
       "      <td>1.0</td>\n",
       "    </tr>\n",
       "    <tr>\n",
       "      <th>26</th>\n",
       "      <td>13.02</td>\n",
       "      <td>13.76</td>\n",
       "      <td>0.8641</td>\n",
       "      <td>5.395</td>\n",
       "      <td>3.026</td>\n",
       "      <td>3.37300</td>\n",
       "      <td>4.825000</td>\n",
       "      <td>1.0</td>\n",
       "    </tr>\n",
       "    <tr>\n",
       "      <th>27</th>\n",
       "      <td>12.74</td>\n",
       "      <td>13.67</td>\n",
       "      <td>0.8564</td>\n",
       "      <td>5.395</td>\n",
       "      <td>2.956</td>\n",
       "      <td>2.50400</td>\n",
       "      <td>4.869000</td>\n",
       "      <td>1.0</td>\n",
       "    </tr>\n",
       "    <tr>\n",
       "      <th>28</th>\n",
       "      <td>14.11</td>\n",
       "      <td>14.18</td>\n",
       "      <td>0.8820</td>\n",
       "      <td>5.541</td>\n",
       "      <td>3.221</td>\n",
       "      <td>2.75400</td>\n",
       "      <td>5.038000</td>\n",
       "      <td>1.0</td>\n",
       "    </tr>\n",
       "    <tr>\n",
       "      <th>29</th>\n",
       "      <td>13.45</td>\n",
       "      <td>14.02</td>\n",
       "      <td>0.8604</td>\n",
       "      <td>5.516</td>\n",
       "      <td>3.065</td>\n",
       "      <td>3.53100</td>\n",
       "      <td>5.097000</td>\n",
       "      <td>1.0</td>\n",
       "    </tr>\n",
       "    <tr>\n",
       "      <th>...</th>\n",
       "      <td>...</td>\n",
       "      <td>...</td>\n",
       "      <td>...</td>\n",
       "      <td>...</td>\n",
       "      <td>...</td>\n",
       "      <td>...</td>\n",
       "      <td>...</td>\n",
       "      <td>...</td>\n",
       "    </tr>\n",
       "    <tr>\n",
       "      <th>179</th>\n",
       "      <td>12.21</td>\n",
       "      <td>13.47</td>\n",
       "      <td>0.8453</td>\n",
       "      <td>5.357</td>\n",
       "      <td>2.893</td>\n",
       "      <td>1.66100</td>\n",
       "      <td>5.178000</td>\n",
       "      <td>3.0</td>\n",
       "    </tr>\n",
       "    <tr>\n",
       "      <th>180</th>\n",
       "      <td>11.41</td>\n",
       "      <td>12.95</td>\n",
       "      <td>0.8560</td>\n",
       "      <td>5.090</td>\n",
       "      <td>2.775</td>\n",
       "      <td>4.95700</td>\n",
       "      <td>4.825000</td>\n",
       "      <td>3.0</td>\n",
       "    </tr>\n",
       "    <tr>\n",
       "      <th>181</th>\n",
       "      <td>12.46</td>\n",
       "      <td>13.41</td>\n",
       "      <td>0.8706</td>\n",
       "      <td>5.236</td>\n",
       "      <td>3.017</td>\n",
       "      <td>4.98700</td>\n",
       "      <td>5.147000</td>\n",
       "      <td>3.0</td>\n",
       "    </tr>\n",
       "    <tr>\n",
       "      <th>182</th>\n",
       "      <td>12.19</td>\n",
       "      <td>13.36</td>\n",
       "      <td>0.8579</td>\n",
       "      <td>5.240</td>\n",
       "      <td>2.909</td>\n",
       "      <td>4.85700</td>\n",
       "      <td>5.158000</td>\n",
       "      <td>3.0</td>\n",
       "    </tr>\n",
       "    <tr>\n",
       "      <th>183</th>\n",
       "      <td>11.65</td>\n",
       "      <td>13.07</td>\n",
       "      <td>0.8575</td>\n",
       "      <td>5.108</td>\n",
       "      <td>2.850</td>\n",
       "      <td>5.20900</td>\n",
       "      <td>5.135000</td>\n",
       "      <td>3.0</td>\n",
       "    </tr>\n",
       "    <tr>\n",
       "      <th>184</th>\n",
       "      <td>12.89</td>\n",
       "      <td>13.77</td>\n",
       "      <td>0.8541</td>\n",
       "      <td>5.495</td>\n",
       "      <td>3.026</td>\n",
       "      <td>6.18500</td>\n",
       "      <td>5.316000</td>\n",
       "      <td>3.0</td>\n",
       "    </tr>\n",
       "    <tr>\n",
       "      <th>185</th>\n",
       "      <td>11.56</td>\n",
       "      <td>13.31</td>\n",
       "      <td>0.8198</td>\n",
       "      <td>5.363</td>\n",
       "      <td>2.683</td>\n",
       "      <td>4.06200</td>\n",
       "      <td>5.182000</td>\n",
       "      <td>3.0</td>\n",
       "    </tr>\n",
       "    <tr>\n",
       "      <th>186</th>\n",
       "      <td>11.81</td>\n",
       "      <td>13.45</td>\n",
       "      <td>0.8198</td>\n",
       "      <td>5.413</td>\n",
       "      <td>2.716</td>\n",
       "      <td>4.89800</td>\n",
       "      <td>5.352000</td>\n",
       "      <td>3.0</td>\n",
       "    </tr>\n",
       "    <tr>\n",
       "      <th>187</th>\n",
       "      <td>10.91</td>\n",
       "      <td>12.80</td>\n",
       "      <td>0.8372</td>\n",
       "      <td>5.088</td>\n",
       "      <td>2.675</td>\n",
       "      <td>4.17900</td>\n",
       "      <td>4.956000</td>\n",
       "      <td>3.0</td>\n",
       "    </tr>\n",
       "    <tr>\n",
       "      <th>188</th>\n",
       "      <td>11.23</td>\n",
       "      <td>12.82</td>\n",
       "      <td>0.8594</td>\n",
       "      <td>5.089</td>\n",
       "      <td>2.821</td>\n",
       "      <td>7.03285</td>\n",
       "      <td>4.957000</td>\n",
       "      <td>3.0</td>\n",
       "    </tr>\n",
       "    <tr>\n",
       "      <th>189</th>\n",
       "      <td>10.59</td>\n",
       "      <td>12.41</td>\n",
       "      <td>0.8648</td>\n",
       "      <td>4.899</td>\n",
       "      <td>2.787</td>\n",
       "      <td>4.97500</td>\n",
       "      <td>4.794000</td>\n",
       "      <td>3.0</td>\n",
       "    </tr>\n",
       "    <tr>\n",
       "      <th>190</th>\n",
       "      <td>10.93</td>\n",
       "      <td>12.80</td>\n",
       "      <td>0.8390</td>\n",
       "      <td>5.046</td>\n",
       "      <td>2.717</td>\n",
       "      <td>5.39800</td>\n",
       "      <td>5.045000</td>\n",
       "      <td>3.0</td>\n",
       "    </tr>\n",
       "    <tr>\n",
       "      <th>191</th>\n",
       "      <td>11.27</td>\n",
       "      <td>12.86</td>\n",
       "      <td>0.8563</td>\n",
       "      <td>5.091</td>\n",
       "      <td>2.804</td>\n",
       "      <td>3.98500</td>\n",
       "      <td>5.001000</td>\n",
       "      <td>3.0</td>\n",
       "    </tr>\n",
       "    <tr>\n",
       "      <th>192</th>\n",
       "      <td>11.87</td>\n",
       "      <td>13.02</td>\n",
       "      <td>0.8795</td>\n",
       "      <td>5.132</td>\n",
       "      <td>2.953</td>\n",
       "      <td>3.59700</td>\n",
       "      <td>5.132000</td>\n",
       "      <td>3.0</td>\n",
       "    </tr>\n",
       "    <tr>\n",
       "      <th>193</th>\n",
       "      <td>10.82</td>\n",
       "      <td>12.83</td>\n",
       "      <td>0.8256</td>\n",
       "      <td>5.180</td>\n",
       "      <td>2.630</td>\n",
       "      <td>4.85300</td>\n",
       "      <td>5.089000</td>\n",
       "      <td>3.0</td>\n",
       "    </tr>\n",
       "    <tr>\n",
       "      <th>194</th>\n",
       "      <td>12.11</td>\n",
       "      <td>13.27</td>\n",
       "      <td>0.8639</td>\n",
       "      <td>5.236</td>\n",
       "      <td>2.975</td>\n",
       "      <td>4.13200</td>\n",
       "      <td>5.012000</td>\n",
       "      <td>3.0</td>\n",
       "    </tr>\n",
       "    <tr>\n",
       "      <th>195</th>\n",
       "      <td>12.80</td>\n",
       "      <td>13.47</td>\n",
       "      <td>0.8860</td>\n",
       "      <td>5.160</td>\n",
       "      <td>3.126</td>\n",
       "      <td>4.87300</td>\n",
       "      <td>4.914000</td>\n",
       "      <td>3.0</td>\n",
       "    </tr>\n",
       "    <tr>\n",
       "      <th>196</th>\n",
       "      <td>12.79</td>\n",
       "      <td>13.53</td>\n",
       "      <td>0.8786</td>\n",
       "      <td>5.224</td>\n",
       "      <td>3.054</td>\n",
       "      <td>5.48300</td>\n",
       "      <td>4.958000</td>\n",
       "      <td>3.0</td>\n",
       "    </tr>\n",
       "    <tr>\n",
       "      <th>197</th>\n",
       "      <td>13.37</td>\n",
       "      <td>13.78</td>\n",
       "      <td>0.8849</td>\n",
       "      <td>5.320</td>\n",
       "      <td>3.128</td>\n",
       "      <td>4.67000</td>\n",
       "      <td>5.091000</td>\n",
       "      <td>3.0</td>\n",
       "    </tr>\n",
       "    <tr>\n",
       "      <th>198</th>\n",
       "      <td>12.62</td>\n",
       "      <td>13.67</td>\n",
       "      <td>0.8481</td>\n",
       "      <td>5.410</td>\n",
       "      <td>2.911</td>\n",
       "      <td>3.30600</td>\n",
       "      <td>5.231000</td>\n",
       "      <td>3.0</td>\n",
       "    </tr>\n",
       "    <tr>\n",
       "      <th>199</th>\n",
       "      <td>12.76</td>\n",
       "      <td>13.38</td>\n",
       "      <td>0.8964</td>\n",
       "      <td>5.073</td>\n",
       "      <td>3.155</td>\n",
       "      <td>2.82800</td>\n",
       "      <td>4.830000</td>\n",
       "      <td>3.0</td>\n",
       "    </tr>\n",
       "    <tr>\n",
       "      <th>200</th>\n",
       "      <td>12.38</td>\n",
       "      <td>13.44</td>\n",
       "      <td>0.8609</td>\n",
       "      <td>5.219</td>\n",
       "      <td>2.989</td>\n",
       "      <td>5.47200</td>\n",
       "      <td>5.045000</td>\n",
       "      <td>3.0</td>\n",
       "    </tr>\n",
       "    <tr>\n",
       "      <th>201</th>\n",
       "      <td>12.67</td>\n",
       "      <td>13.32</td>\n",
       "      <td>0.8977</td>\n",
       "      <td>4.984</td>\n",
       "      <td>3.135</td>\n",
       "      <td>2.30000</td>\n",
       "      <td>5.408173</td>\n",
       "      <td>3.0</td>\n",
       "    </tr>\n",
       "    <tr>\n",
       "      <th>202</th>\n",
       "      <td>11.18</td>\n",
       "      <td>12.72</td>\n",
       "      <td>0.8680</td>\n",
       "      <td>5.009</td>\n",
       "      <td>2.810</td>\n",
       "      <td>4.05100</td>\n",
       "      <td>4.828000</td>\n",
       "      <td>3.0</td>\n",
       "    </tr>\n",
       "    <tr>\n",
       "      <th>204</th>\n",
       "      <td>12.37</td>\n",
       "      <td>13.47</td>\n",
       "      <td>0.8567</td>\n",
       "      <td>5.204</td>\n",
       "      <td>2.960</td>\n",
       "      <td>3.91900</td>\n",
       "      <td>5.001000</td>\n",
       "      <td>3.0</td>\n",
       "    </tr>\n",
       "    <tr>\n",
       "      <th>205</th>\n",
       "      <td>12.19</td>\n",
       "      <td>13.20</td>\n",
       "      <td>0.8783</td>\n",
       "      <td>5.137</td>\n",
       "      <td>2.981</td>\n",
       "      <td>3.63100</td>\n",
       "      <td>4.870000</td>\n",
       "      <td>3.0</td>\n",
       "    </tr>\n",
       "    <tr>\n",
       "      <th>206</th>\n",
       "      <td>11.23</td>\n",
       "      <td>12.88</td>\n",
       "      <td>0.8511</td>\n",
       "      <td>5.140</td>\n",
       "      <td>2.795</td>\n",
       "      <td>4.32500</td>\n",
       "      <td>5.003000</td>\n",
       "      <td>3.0</td>\n",
       "    </tr>\n",
       "    <tr>\n",
       "      <th>207</th>\n",
       "      <td>13.20</td>\n",
       "      <td>13.66</td>\n",
       "      <td>0.8883</td>\n",
       "      <td>5.236</td>\n",
       "      <td>3.232</td>\n",
       "      <td>7.03285</td>\n",
       "      <td>5.056000</td>\n",
       "      <td>3.0</td>\n",
       "    </tr>\n",
       "    <tr>\n",
       "      <th>208</th>\n",
       "      <td>11.84</td>\n",
       "      <td>13.21</td>\n",
       "      <td>0.8521</td>\n",
       "      <td>5.175</td>\n",
       "      <td>2.836</td>\n",
       "      <td>3.59800</td>\n",
       "      <td>5.044000</td>\n",
       "      <td>3.0</td>\n",
       "    </tr>\n",
       "    <tr>\n",
       "      <th>209</th>\n",
       "      <td>12.30</td>\n",
       "      <td>13.34</td>\n",
       "      <td>0.8684</td>\n",
       "      <td>5.243</td>\n",
       "      <td>2.974</td>\n",
       "      <td>5.63700</td>\n",
       "      <td>5.063000</td>\n",
       "      <td>3.0</td>\n",
       "    </tr>\n",
       "  </tbody>\n",
       "</table>\n",
       "<p>206 rows × 8 columns</p>\n",
       "</div>"
      ],
      "text/plain": [
       "      Area  Perimeter  Compactness  Length_of_Kernel  Width_of_Kernel  \\\n",
       "0    15.26      14.84       0.8710             5.763            3.312   \n",
       "1    14.88      14.57       0.8811             5.554            3.333   \n",
       "2    14.29      14.09       0.9050             5.291            3.337   \n",
       "3    13.84      13.94       0.8955             5.324            3.379   \n",
       "4    16.14      14.99       0.9034             5.658            3.562   \n",
       "5    14.38      14.21       0.8951             5.386            3.312   \n",
       "6    14.69      14.49       0.8799             5.563            3.259   \n",
       "7    14.11      14.10       0.8911             5.420            3.302   \n",
       "8    16.63      15.46       0.8747             6.053            3.465   \n",
       "9    16.44      15.25       0.8880             5.884            3.505   \n",
       "10   15.26      14.85       0.8696             5.714            3.242   \n",
       "11   14.03      14.16       0.8796             5.438            3.201   \n",
       "12   13.89      14.02       0.8880             5.439            3.199   \n",
       "13   13.78      14.06       0.8759             5.479            3.156   \n",
       "14   13.74      14.05       0.8744             5.482            3.114   \n",
       "15   14.59      14.28       0.8993             5.351            3.333   \n",
       "16   13.99      13.83       0.9183             5.119            3.383   \n",
       "17   15.69      14.75       0.9058             5.527            3.514   \n",
       "18   14.70      14.21       0.9153             5.205            3.466   \n",
       "19   12.72      13.57       0.8686             5.226            3.049   \n",
       "20   14.16      14.40       0.8584             5.658            3.129   \n",
       "21   14.11      14.26       0.8722             5.520            3.168   \n",
       "22   15.88      14.90       0.8988             5.618            3.507   \n",
       "23   12.08      13.23       0.8664             5.099            2.936   \n",
       "24   15.01      14.76       0.8657             5.789            3.245   \n",
       "25   16.19      15.16       0.8849             5.833            3.421   \n",
       "26   13.02      13.76       0.8641             5.395            3.026   \n",
       "27   12.74      13.67       0.8564             5.395            2.956   \n",
       "28   14.11      14.18       0.8820             5.541            3.221   \n",
       "29   13.45      14.02       0.8604             5.516            3.065   \n",
       "..     ...        ...          ...               ...              ...   \n",
       "179  12.21      13.47       0.8453             5.357            2.893   \n",
       "180  11.41      12.95       0.8560             5.090            2.775   \n",
       "181  12.46      13.41       0.8706             5.236            3.017   \n",
       "182  12.19      13.36       0.8579             5.240            2.909   \n",
       "183  11.65      13.07       0.8575             5.108            2.850   \n",
       "184  12.89      13.77       0.8541             5.495            3.026   \n",
       "185  11.56      13.31       0.8198             5.363            2.683   \n",
       "186  11.81      13.45       0.8198             5.413            2.716   \n",
       "187  10.91      12.80       0.8372             5.088            2.675   \n",
       "188  11.23      12.82       0.8594             5.089            2.821   \n",
       "189  10.59      12.41       0.8648             4.899            2.787   \n",
       "190  10.93      12.80       0.8390             5.046            2.717   \n",
       "191  11.27      12.86       0.8563             5.091            2.804   \n",
       "192  11.87      13.02       0.8795             5.132            2.953   \n",
       "193  10.82      12.83       0.8256             5.180            2.630   \n",
       "194  12.11      13.27       0.8639             5.236            2.975   \n",
       "195  12.80      13.47       0.8860             5.160            3.126   \n",
       "196  12.79      13.53       0.8786             5.224            3.054   \n",
       "197  13.37      13.78       0.8849             5.320            3.128   \n",
       "198  12.62      13.67       0.8481             5.410            2.911   \n",
       "199  12.76      13.38       0.8964             5.073            3.155   \n",
       "200  12.38      13.44       0.8609             5.219            2.989   \n",
       "201  12.67      13.32       0.8977             4.984            3.135   \n",
       "202  11.18      12.72       0.8680             5.009            2.810   \n",
       "204  12.37      13.47       0.8567             5.204            2.960   \n",
       "205  12.19      13.20       0.8783             5.137            2.981   \n",
       "206  11.23      12.88       0.8511             5.140            2.795   \n",
       "207  13.20      13.66       0.8883             5.236            3.232   \n",
       "208  11.84      13.21       0.8521             5.175            2.836   \n",
       "209  12.30      13.34       0.8684             5.243            2.974   \n",
       "\n",
       "     Asymmetry_Coefficient  Length_of_Kernel_Groove  Class  \n",
       "0                  2.22100                 5.220000    1.0  \n",
       "1                  1.01800                 4.956000    1.0  \n",
       "2                  2.69900                 4.825000    1.0  \n",
       "3                  2.25900                 4.805000    1.0  \n",
       "4                  1.35500                 5.175000    1.0  \n",
       "5                  2.46200                 4.956000    1.0  \n",
       "6                  3.58600                 5.219000    1.0  \n",
       "7                  2.70000                 5.408173    3.0  \n",
       "8                  2.04000                 5.877000    1.0  \n",
       "9                  1.96900                 5.533000    1.0  \n",
       "10                 4.54300                 5.314000    1.0  \n",
       "11                 1.71700                 5.001000    1.0  \n",
       "12                 3.98600                 4.738000    1.0  \n",
       "13                 3.13600                 4.872000    1.0  \n",
       "14                 2.93200                 4.825000    1.0  \n",
       "15                 4.18500                 4.781000    1.0  \n",
       "16                 5.23400                 4.781000    1.0  \n",
       "17                 1.59900                 5.046000    1.0  \n",
       "18                 1.76700                 4.649000    1.0  \n",
       "19                 4.10200                 4.914000    1.0  \n",
       "20                 3.07200                 5.176000    1.0  \n",
       "21                 2.68800                 5.219000    1.0  \n",
       "22                 0.76510                 5.091000    1.0  \n",
       "23                 1.41500                 4.961000    1.0  \n",
       "24                 1.79100                 5.001000    1.0  \n",
       "25                 0.90300                 5.307000    1.0  \n",
       "26                 3.37300                 4.825000    1.0  \n",
       "27                 2.50400                 4.869000    1.0  \n",
       "28                 2.75400                 5.038000    1.0  \n",
       "29                 3.53100                 5.097000    1.0  \n",
       "..                     ...                      ...    ...  \n",
       "179                1.66100                 5.178000    3.0  \n",
       "180                4.95700                 4.825000    3.0  \n",
       "181                4.98700                 5.147000    3.0  \n",
       "182                4.85700                 5.158000    3.0  \n",
       "183                5.20900                 5.135000    3.0  \n",
       "184                6.18500                 5.316000    3.0  \n",
       "185                4.06200                 5.182000    3.0  \n",
       "186                4.89800                 5.352000    3.0  \n",
       "187                4.17900                 4.956000    3.0  \n",
       "188                7.03285                 4.957000    3.0  \n",
       "189                4.97500                 4.794000    3.0  \n",
       "190                5.39800                 5.045000    3.0  \n",
       "191                3.98500                 5.001000    3.0  \n",
       "192                3.59700                 5.132000    3.0  \n",
       "193                4.85300                 5.089000    3.0  \n",
       "194                4.13200                 5.012000    3.0  \n",
       "195                4.87300                 4.914000    3.0  \n",
       "196                5.48300                 4.958000    3.0  \n",
       "197                4.67000                 5.091000    3.0  \n",
       "198                3.30600                 5.231000    3.0  \n",
       "199                2.82800                 4.830000    3.0  \n",
       "200                5.47200                 5.045000    3.0  \n",
       "201                2.30000                 5.408173    3.0  \n",
       "202                4.05100                 4.828000    3.0  \n",
       "204                3.91900                 5.001000    3.0  \n",
       "205                3.63100                 4.870000    3.0  \n",
       "206                4.32500                 5.003000    3.0  \n",
       "207                7.03285                 5.056000    3.0  \n",
       "208                3.59800                 5.044000    3.0  \n",
       "209                5.63700                 5.063000    3.0  \n",
       "\n",
       "[206 rows x 8 columns]"
      ]
     },
     "execution_count": 35,
     "metadata": {},
     "output_type": "execute_result"
    }
   ],
   "source": [
    "df"
   ]
  },
  {
   "cell_type": "markdown",
   "metadata": {},
   "source": [
    "### Logistic Regression :"
   ]
  },
  {
   "cell_type": "code",
   "execution_count": 36,
   "metadata": {},
   "outputs": [],
   "source": [
    "from sklearn.linear_model import LogisticRegression\n",
    "from sklearn.model_selection import train_test_split"
   ]
  },
  {
   "cell_type": "code",
   "execution_count": 43,
   "metadata": {},
   "outputs": [],
   "source": [
    "x = df.iloc[:,df.columns != 'Class']\n",
    "y = df['Class']"
   ]
  },
  {
   "cell_type": "code",
   "execution_count": 38,
   "metadata": {},
   "outputs": [],
   "source": [
    "x_train, x_test, y_train, y_test = train_test_split(x, y, test_size = 0.2, random_state = 0)"
   ]
  },
  {
   "cell_type": "code",
   "execution_count": 39,
   "metadata": {},
   "outputs": [
    {
     "name": "stdout",
     "output_type": "stream",
     "text": [
      "(164, 7) (42, 7) (164,) (42,)\n"
     ]
    }
   ],
   "source": [
    "print (x_train.shape, x_test.shape, y_train.shape, y_test.shape)"
   ]
  },
  {
   "cell_type": "code",
   "execution_count": 44,
   "metadata": {},
   "outputs": [],
   "source": [
    "clf_LR = LogisticRegression()"
   ]
  },
  {
   "cell_type": "code",
   "execution_count": 45,
   "metadata": {},
   "outputs": [
    {
     "name": "stderr",
     "output_type": "stream",
     "text": [
      "/Users/rameshveer/Applications/anaconda3/lib/python3.7/site-packages/sklearn/linear_model/logistic.py:432: FutureWarning: Default solver will be changed to 'lbfgs' in 0.22. Specify a solver to silence this warning.\n",
      "  FutureWarning)\n",
      "/Users/rameshveer/Applications/anaconda3/lib/python3.7/site-packages/sklearn/linear_model/logistic.py:469: FutureWarning: Default multi_class will be changed to 'auto' in 0.22. Specify the multi_class option to silence this warning.\n",
      "  \"this warning.\", FutureWarning)\n"
     ]
    },
    {
     "data": {
      "text/plain": [
       "LogisticRegression(C=1.0, class_weight=None, dual=False, fit_intercept=True,\n",
       "                   intercept_scaling=1, l1_ratio=None, max_iter=100,\n",
       "                   multi_class='warn', n_jobs=None, penalty='l2',\n",
       "                   random_state=None, solver='warn', tol=0.0001, verbose=0,\n",
       "                   warm_start=False)"
      ]
     },
     "execution_count": 45,
     "metadata": {},
     "output_type": "execute_result"
    }
   ],
   "source": [
    "clf_LR.fit(x_train, y_train)"
   ]
  },
  {
   "cell_type": "code",
   "execution_count": 46,
   "metadata": {},
   "outputs": [],
   "source": [
    "y_test_pred = clf_LR.predict(x_test)"
   ]
  },
  {
   "cell_type": "code",
   "execution_count": 49,
   "metadata": {},
   "outputs": [
    {
     "data": {
      "text/plain": [
       "array([[8.66284844e-01, 1.23387618e-01, 1.03275387e-02],\n",
       "       [9.41712678e-01, 5.50532786e-02, 3.23404358e-03],\n",
       "       [8.81787519e-01, 9.09805805e-02, 2.72319003e-02],\n",
       "       [9.30174640e-01, 3.30103759e-02, 3.68149836e-02],\n",
       "       [7.19247520e-01, 2.80094084e-01, 6.58396475e-04],\n",
       "       [8.89065928e-01, 8.37195618e-02, 2.72145100e-02],\n",
       "       [6.86078978e-01, 2.00315024e-01, 1.13605998e-01],\n",
       "       [6.57480551e-01, 1.34442274e-01, 2.08077175e-01],\n",
       "       [4.30992539e-01, 5.65033611e-01, 3.97384984e-03],\n",
       "       [5.78215726e-01, 4.19977248e-01, 1.80702570e-03],\n",
       "       [4.23551965e-01, 4.33581420e-01, 1.42866616e-01],\n",
       "       [9.39847360e-01, 3.21429760e-02, 2.80096638e-02],\n",
       "       [8.03697840e-01, 6.10539910e-02, 1.35248169e-01],\n",
       "       [8.57889743e-01, 3.39825922e-02, 1.08127665e-01],\n",
       "       [8.86292388e-01, 2.82522852e-02, 8.54553268e-02],\n",
       "       [7.43373736e-01, 1.94059205e-01, 6.25670592e-02],\n",
       "       [4.03247572e-01, 2.47693191e-01, 3.49059237e-01],\n",
       "       [7.72370383e-01, 2.26264132e-01, 1.36548529e-03],\n",
       "       [8.96819503e-01, 9.95760143e-02, 3.60448258e-03],\n",
       "       [4.08980456e-01, 1.30955935e-02, 5.77923950e-01],\n",
       "       [8.16041422e-01, 4.79792564e-02, 1.35979321e-01],\n",
       "       [8.20933388e-01, 6.22620929e-02, 1.16804519e-01],\n",
       "       [8.12543404e-01, 1.86919181e-01, 5.37414235e-04],\n",
       "       [7.23505485e-01, 2.74224078e-03, 2.73752274e-01],\n",
       "       [9.36043682e-01, 5.77923006e-02, 6.16401779e-03],\n",
       "       [7.75537770e-01, 2.23850857e-01, 6.11373522e-04],\n",
       "       [6.99606262e-01, 1.13785128e-02, 2.89015226e-01],\n",
       "       [7.55763461e-01, 5.33884269e-03, 2.38897697e-01],\n",
       "       [8.75186510e-01, 5.46616625e-02, 7.01518275e-02],\n",
       "       [6.09104397e-01, 2.42575719e-02, 3.66638031e-01],\n",
       "       [9.36451426e-01, 7.07493967e-03, 5.64736344e-02],\n",
       "       [7.18407798e-01, 2.58288131e-01, 2.33040712e-02],\n",
       "       [5.48552738e-01, 5.76768615e-02, 3.93770401e-01],\n",
       "       [9.25388988e-01, 2.67617224e-02, 4.78492891e-02],\n",
       "       [8.43558730e-01, 1.36601981e-01, 1.98392890e-02],\n",
       "       [7.39813355e-03, 9.70384710e-01, 2.22171560e-02],\n",
       "       [5.43560780e-01, 4.48591083e-01, 7.84813647e-03],\n",
       "       [3.56470341e-01, 6.42450409e-01, 1.07925009e-03],\n",
       "       [7.33160803e-01, 1.93199741e-01, 7.36394561e-02],\n",
       "       [9.39870186e-02, 2.70428568e-01, 6.35584413e-01],\n",
       "       [7.46690934e-01, 4.44893759e-02, 2.08819690e-01],\n",
       "       [8.04872097e-01, 3.34166246e-02, 1.61711279e-01],\n",
       "       [8.63255333e-01, 2.30553772e-02, 1.13689290e-01],\n",
       "       [2.28257723e-01, 6.12259378e-01, 1.59482898e-01],\n",
       "       [7.19077041e-01, 2.54192605e-01, 2.67303545e-02],\n",
       "       [9.44197353e-01, 2.41258864e-02, 3.16767609e-02],\n",
       "       [8.81439976e-01, 1.15768945e-01, 2.79107845e-03],\n",
       "       [7.76560119e-01, 1.94187750e-01, 2.92521315e-02],\n",
       "       [8.48265735e-01, 1.24057694e-01, 2.76765716e-02],\n",
       "       [8.71515099e-01, 9.98285861e-02, 2.86563150e-02],\n",
       "       [6.71366628e-01, 1.35274665e-01, 1.93358707e-01],\n",
       "       [2.45924184e-01, 6.83745985e-01, 7.03298319e-02],\n",
       "       [4.60234796e-01, 1.43627736e-01, 3.96137468e-01],\n",
       "       [6.97269636e-01, 1.44953754e-01, 1.57776610e-01],\n",
       "       [9.10890936e-01, 4.94613339e-02, 3.96477305e-02],\n",
       "       [8.53057597e-01, 1.23961056e-01, 2.29813475e-02],\n",
       "       [8.64050074e-01, 9.00859420e-02, 4.58639843e-02],\n",
       "       [8.90038131e-01, 1.05771273e-01, 4.19059604e-03],\n",
       "       [8.26347512e-01, 1.67392950e-01, 6.25953779e-03],\n",
       "       [8.44377087e-01, 1.04995583e-03, 1.54572958e-01],\n",
       "       [1.45689329e-01, 3.37047209e-03, 8.50940199e-01],\n",
       "       [5.32803379e-01, 1.53503177e-03, 4.65661590e-01],\n",
       "       [6.70011205e-01, 8.31333217e-03, 3.21675463e-01],\n",
       "       [3.83098897e-01, 2.79404732e-02, 5.88960630e-01],\n",
       "       [9.24252364e-01, 4.97380247e-03, 7.07738337e-02],\n",
       "       [8.82995384e-01, 1.06046995e-02, 1.06399917e-01],\n",
       "       [9.49213072e-01, 3.40855383e-02, 1.67013900e-02],\n",
       "       [9.05524480e-01, 2.76398899e-02, 6.68356296e-02],\n",
       "       [4.47117239e-01, 7.54546641e-03, 5.45337295e-01],\n",
       "       [7.75508025e-02, 9.15877342e-01, 6.57185588e-03],\n",
       "       [8.56282097e-02, 8.80990082e-01, 3.33817078e-02],\n",
       "       [1.01625147e-01, 8.88475097e-01, 9.89975646e-03],\n",
       "       [1.19015500e-01, 8.80842068e-01, 1.42432032e-04],\n",
       "       [1.28533431e-01, 8.56510022e-01, 1.49565465e-02],\n",
       "       [8.04014819e-02, 8.81962674e-01, 3.76358442e-02],\n",
       "       [1.29249547e-01, 8.63640388e-01, 7.11006481e-03],\n",
       "       [2.27339001e-02, 9.77157529e-01, 1.08570915e-04],\n",
       "       [1.46283270e-02, 9.82371885e-01, 2.99978782e-03],\n",
       "       [2.50703537e-01, 7.47166250e-01, 2.13021243e-03],\n",
       "       [2.52731809e-02, 8.86457654e-01, 8.82691655e-02],\n",
       "       [3.92065635e-02, 9.59008253e-01, 1.78518366e-03],\n",
       "       [2.15934263e-02, 9.78143849e-01, 2.62724729e-04],\n",
       "       [2.30386947e-01, 7.69584371e-01, 2.86822244e-05],\n",
       "       [1.28929055e-01, 8.70959183e-01, 1.11762013e-04],\n",
       "       [1.22690103e-01, 8.76750814e-01, 5.59083073e-04],\n",
       "       [2.13593908e-01, 7.86337301e-01, 6.87912952e-05],\n",
       "       [3.80868543e-02, 9.60666582e-01, 1.24656371e-03],\n",
       "       [7.32321445e-03, 9.92601239e-01, 7.55468982e-05],\n",
       "       [1.74381807e-02, 9.82473874e-01, 8.79448704e-05],\n",
       "       [1.37197319e-01, 8.62773600e-01, 2.90813176e-05],\n",
       "       [1.17408157e-01, 8.82289463e-01, 3.02379766e-04],\n",
       "       [1.19318741e-01, 8.80365794e-01, 3.15465710e-04],\n",
       "       [2.14645126e-02, 9.74769606e-01, 3.76588178e-03],\n",
       "       [2.03710021e-02, 9.69235953e-01, 1.03930450e-02],\n",
       "       [1.47172702e-01, 8.36816459e-01, 1.60108391e-02],\n",
       "       [7.36147539e-02, 9.26098795e-01, 2.86451009e-04],\n",
       "       [9.83853143e-02, 9.01366569e-01, 2.48116295e-04],\n",
       "       [9.69365638e-02, 9.01689643e-01, 1.37379302e-03],\n",
       "       [2.04287847e-01, 7.95552638e-01, 1.59514339e-04],\n",
       "       [1.62801274e-01, 8.14952080e-01, 2.22466463e-02],\n",
       "       [2.72241356e-01, 7.27516805e-01, 2.41838896e-04],\n",
       "       [6.05408906e-02, 9.39192430e-01, 2.66679220e-04],\n",
       "       [8.62060011e-02, 9.13465252e-01, 3.28747335e-04],\n",
       "       [9.13245630e-02, 9.08292475e-01, 3.82962468e-04],\n",
       "       [2.36361608e-01, 7.63533115e-01, 1.05277093e-04],\n",
       "       [1.07728337e-01, 8.89013131e-01, 3.25853164e-03],\n",
       "       [4.37694507e-02, 9.56069039e-01, 1.61509862e-04],\n",
       "       [3.33363157e-01, 6.66560629e-01, 7.62136222e-05],\n",
       "       [3.24073110e-01, 6.75815350e-01, 1.11540148e-04],\n",
       "       [1.56728090e-01, 8.43101556e-01, 1.70354175e-04],\n",
       "       [2.74486599e-01, 7.25473041e-01, 4.03606718e-05],\n",
       "       [1.17886025e-02, 9.83147206e-01, 5.06419186e-03],\n",
       "       [3.17050889e-02, 9.68233700e-01, 6.12112385e-05],\n",
       "       [1.90382544e-01, 8.09513895e-01, 1.03561844e-04],\n",
       "       [1.15678740e-01, 8.84001633e-01, 3.19626879e-04],\n",
       "       [9.57966985e-02, 9.03983218e-01, 2.20083152e-04],\n",
       "       [1.08387283e-01, 8.91302869e-01, 3.09848265e-04],\n",
       "       [9.02687841e-02, 9.09662886e-01, 6.83297110e-05],\n",
       "       [1.37608076e-02, 9.85757007e-01, 4.82185543e-04],\n",
       "       [9.28040511e-02, 9.05718068e-01, 1.47788041e-03],\n",
       "       [1.84495982e-01, 7.53647007e-01, 6.18570111e-02],\n",
       "       [1.47370528e-01, 8.52316351e-01, 3.13120383e-04],\n",
       "       [4.83719775e-01, 5.10894316e-01, 5.38590908e-03],\n",
       "       [6.74960526e-02, 9.31763641e-01, 7.40306252e-04],\n",
       "       [5.46449399e-02, 9.43765953e-01, 1.58910694e-03],\n",
       "       [2.21960753e-01, 7.77678448e-01, 3.60799625e-04],\n",
       "       [2.51317706e-01, 7.48669518e-01, 1.27751326e-05],\n",
       "       [5.52207621e-02, 9.36711280e-01, 8.06795811e-03],\n",
       "       [1.32635081e-01, 8.66980867e-01, 3.84051824e-04],\n",
       "       [1.83455043e-01, 8.16400596e-01, 1.44361229e-04],\n",
       "       [1.20232411e-01, 5.85780138e-01, 2.93987451e-01],\n",
       "       [1.42708439e-01, 7.85703333e-01, 7.15882279e-02],\n",
       "       [4.57732121e-02, 6.80716827e-01, 2.73509961e-01],\n",
       "       [3.83294250e-01, 5.64832339e-01, 5.18734111e-02],\n",
       "       [1.33131365e-01, 8.62046524e-01, 4.82211031e-03],\n",
       "       [5.05686189e-01, 4.13608154e-01, 8.07056570e-02],\n",
       "       [5.42556366e-01, 4.03568026e-01, 5.38756079e-02],\n",
       "       [1.06230718e-01, 8.50246331e-01, 4.35229512e-02],\n",
       "       [7.19977513e-02, 2.63403929e-02, 9.01661856e-01],\n",
       "       [1.49943392e-02, 7.11445534e-02, 9.13861107e-01],\n",
       "       [5.05620790e-02, 5.74362248e-02, 8.92001696e-01],\n",
       "       [6.03996460e-02, 1.51156367e-02, 9.24484717e-01],\n",
       "       [1.67404367e-01, 3.01095725e-03, 8.29584676e-01],\n",
       "       [3.27418794e-02, 3.02373596e-03, 9.64234385e-01],\n",
       "       [4.06438066e-01, 9.27132472e-04, 5.92634801e-01],\n",
       "       [2.63995441e-01, 1.15149447e-02, 7.24489614e-01],\n",
       "       [3.08698965e-01, 9.24842504e-03, 6.82052610e-01],\n",
       "       [7.14592185e-02, 1.17131422e-03, 9.27369467e-01],\n",
       "       [5.59917085e-02, 7.21935078e-03, 9.36788941e-01],\n",
       "       [2.34882149e-02, 9.90537513e-03, 9.66606410e-01],\n",
       "       [9.58730627e-02, 6.76876450e-03, 8.97358173e-01],\n",
       "       [3.32576821e-01, 7.94735617e-04, 6.66628443e-01],\n",
       "       [1.24841009e-01, 2.39091638e-03, 8.72768075e-01],\n",
       "       [4.55424274e-02, 3.01547377e-03, 9.51442099e-01],\n",
       "       [2.88139842e-01, 2.04729022e-03, 7.09812868e-01],\n",
       "       [1.56691895e-01, 3.36781779e-03, 8.39940287e-01],\n",
       "       [1.48787046e-01, 1.93318082e-03, 8.49279774e-01],\n",
       "       [5.22193208e-02, 3.65000328e-03, 9.44130676e-01],\n",
       "       [2.19594598e-01, 6.87382854e-03, 7.73531573e-01],\n",
       "       [1.19562137e-01, 6.06292251e-03, 8.74374940e-01],\n",
       "       [1.65146283e-01, 5.75835073e-03, 8.29095366e-01],\n",
       "       [1.91802077e-01, 1.13034767e-02, 7.96894447e-01],\n",
       "       [3.34029551e-02, 6.20385775e-03, 9.60393187e-01],\n",
       "       [5.33651589e-01, 5.11798325e-03, 4.61230428e-01],\n",
       "       [1.00758642e-01, 1.13857438e-02, 8.87855614e-01],\n",
       "       [1.93551328e-01, 4.59525465e-03, 8.01853417e-01],\n",
       "       [1.53880256e-01, 2.07277989e-03, 8.44046964e-01],\n",
       "       [8.35378552e-02, 4.26040496e-02, 8.73858095e-01],\n",
       "       [1.92712517e-05, 1.00705380e-01, 8.99275348e-01],\n",
       "       [5.38102722e-02, 7.06240290e-03, 9.39127325e-01],\n",
       "       [7.44953059e-02, 4.05780273e-03, 9.21446891e-01],\n",
       "       [8.70267670e-02, 1.11583748e-03, 9.11857396e-01],\n",
       "       [9.32884178e-02, 2.38252591e-03, 9.04329056e-01],\n",
       "       [8.71386418e-02, 3.02322965e-03, 9.09838129e-01],\n",
       "       [1.61354354e-01, 1.16308355e-03, 8.37482562e-01],\n",
       "       [7.76094340e-02, 5.31216991e-03, 9.17078396e-01],\n",
       "       [6.18121940e-01, 2.12927267e-03, 3.79748787e-01],\n",
       "       [1.99436068e-01, 3.43241803e-03, 7.97131514e-01],\n",
       "       [1.17406872e-01, 1.68869437e-02, 8.65706185e-01],\n",
       "       [1.19844687e-01, 9.86444565e-03, 8.70290867e-01],\n",
       "       [7.63906919e-02, 6.75914280e-03, 9.16850165e-01],\n",
       "       [4.44401948e-02, 2.83215276e-02, 9.27238278e-01],\n",
       "       [2.04178337e-01, 1.64558768e-03, 7.94176076e-01],\n",
       "       [8.35505984e-02, 3.52906106e-03, 9.12920341e-01],\n",
       "       [2.12863074e-01, 1.22076570e-03, 7.85916160e-01],\n",
       "       [3.11297480e-02, 7.72142307e-03, 9.61148829e-01],\n",
       "       [1.50886402e-01, 1.90113466e-03, 8.47212464e-01],\n",
       "       [7.78464292e-02, 2.46372259e-03, 9.19689848e-01],\n",
       "       [2.15258969e-01, 2.31269437e-03, 7.82428337e-01],\n",
       "       [2.16601024e-01, 6.40708540e-03, 7.76991891e-01],\n",
       "       [1.13372498e-01, 1.33631774e-03, 8.85291184e-01],\n",
       "       [2.69149866e-01, 6.01737141e-03, 7.24832763e-01],\n",
       "       [2.51509126e-01, 2.83363874e-02, 7.20154487e-01],\n",
       "       [1.54870992e-01, 2.98477296e-02, 8.15281278e-01],\n",
       "       [2.59536532e-01, 6.17155087e-02, 6.78747959e-01],\n",
       "       [3.55711560e-01, 7.29059510e-03, 6.36997844e-01],\n",
       "       [7.11487420e-01, 1.60375842e-02, 2.72474996e-01],\n",
       "       [1.17534037e-01, 1.43772502e-02, 8.68088713e-01],\n",
       "       [3.22120472e-01, 2.73210734e-02, 6.50558454e-01],\n",
       "       [2.64989125e-01, 2.37994135e-03, 7.32630934e-01],\n",
       "       [3.33779115e-01, 7.07468204e-03, 6.59146203e-01],\n",
       "       [4.12771437e-01, 7.21947423e-03, 5.80009089e-01],\n",
       "       [1.89788292e-01, 2.19673109e-03, 8.08014977e-01],\n",
       "       [3.71427982e-02, 8.93324359e-02, 8.73524766e-01],\n",
       "       [2.92980854e-01, 3.40995631e-03, 7.03609190e-01],\n",
       "       [9.18433501e-02, 1.59724812e-02, 8.92184169e-01]])"
      ]
     },
     "execution_count": 49,
     "metadata": {},
     "output_type": "execute_result"
    }
   ],
   "source": [
    "clf_LR.predict_proba(x)"
   ]
  },
  {
   "cell_type": "code",
   "execution_count": 50,
   "metadata": {},
   "outputs": [
    {
     "data": {
      "text/plain": [
       "array([1., 1., 1., 1., 1., 1., 1., 1., 2., 1., 2., 1., 1., 1., 1., 1., 1.,\n",
       "       1., 1., 3., 1., 1., 1., 1., 1., 1., 1., 1., 1., 1., 1., 1., 1., 1.,\n",
       "       1., 2., 1., 2., 1., 3., 1., 1., 1., 2., 1., 1., 1., 1., 1., 1., 1.,\n",
       "       2., 1., 1., 1., 1., 1., 1., 1., 1., 3., 1., 1., 3., 1., 1., 1., 1.,\n",
       "       3., 2., 2., 2., 2., 2., 2., 2., 2., 2., 2., 2., 2., 2., 2., 2., 2.,\n",
       "       2., 2., 2., 2., 2., 2., 2., 2., 2., 2., 2., 2., 2., 2., 2., 2., 2.,\n",
       "       2., 2., 2., 2., 2., 2., 2., 2., 2., 2., 2., 2., 2., 2., 2., 2., 2.,\n",
       "       2., 2., 2., 2., 2., 2., 2., 2., 2., 2., 2., 2., 2., 2., 2., 2., 1.,\n",
       "       1., 2., 3., 3., 3., 3., 3., 3., 3., 3., 3., 3., 3., 3., 3., 3., 3.,\n",
       "       3., 3., 3., 3., 3., 3., 3., 3., 3., 3., 1., 3., 3., 3., 3., 3., 3.,\n",
       "       3., 3., 3., 3., 3., 3., 1., 3., 3., 3., 3., 3., 3., 3., 3., 3., 3.,\n",
       "       3., 3., 3., 3., 3., 3., 3., 3., 3., 1., 3., 3., 3., 3., 3., 3., 3.,\n",
       "       3., 3.])"
      ]
     },
     "execution_count": 50,
     "metadata": {},
     "output_type": "execute_result"
    }
   ],
   "source": [
    "y_pred = clf_LR.predict(x)\n",
    "y_pred"
   ]
  },
  {
   "cell_type": "code",
   "execution_count": 51,
   "metadata": {},
   "outputs": [],
   "source": [
    "from sklearn.metrics import confusion_matrix"
   ]
  },
  {
   "cell_type": "code",
   "execution_count": 52,
   "metadata": {},
   "outputs": [
    {
     "data": {
      "text/plain": [
       "array([[57,  5,  4],\n",
       "       [ 2, 67,  0],\n",
       "       [ 4,  1, 66]])"
      ]
     },
     "execution_count": 52,
     "metadata": {},
     "output_type": "execute_result"
    }
   ],
   "source": [
    "confusion_matrix(y, y_pred)"
   ]
  },
  {
   "cell_type": "code",
   "execution_count": 81,
   "metadata": {},
   "outputs": [
    {
     "ename": "IndexError",
     "evalue": "too many indices for array",
     "output_type": "error",
     "traceback": [
      "\u001b[0;31m---------------------------------------------------------------------------\u001b[0m",
      "\u001b[0;31mIndexError\u001b[0m                                Traceback (most recent call last)",
      "\u001b[0;32m<ipython-input-81-a5a0001dba01>\u001b[0m in \u001b[0;36m<module>\u001b[0;34m\u001b[0m\n\u001b[0;32m----> 1\u001b[0;31m \u001b[0my_pred_33\u001b[0m \u001b[0;34m=\u001b[0m \u001b[0;34m(\u001b[0m\u001b[0mclf_LR\u001b[0m\u001b[0;34m.\u001b[0m\u001b[0mpredict_proba\u001b[0m\u001b[0;34m(\u001b[0m\u001b[0mx\u001b[0m\u001b[0;34m)\u001b[0m\u001b[0;34m[\u001b[0m\u001b[0;34m:\u001b[0m\u001b[0;34m,\u001b[0m\u001b[0;36m1\u001b[0m \u001b[0;34m,\u001b[0m \u001b[0;34m:\u001b[0m\u001b[0;34m,\u001b[0m\u001b[0;36m2\u001b[0m \u001b[0;34m,\u001b[0m \u001b[0;34m:\u001b[0m\u001b[0;34m,\u001b[0m\u001b[0;36m3\u001b[0m\u001b[0;34m]\u001b[0m \u001b[0;34m>=\u001b[0m \u001b[0;36m0.33\u001b[0m\u001b[0;34m)\u001b[0m\u001b[0;34m\u001b[0m\u001b[0;34m\u001b[0m\u001b[0m\n\u001b[0m\u001b[1;32m      2\u001b[0m \u001b[0my_pred_33\u001b[0m\u001b[0;34m\u001b[0m\u001b[0;34m\u001b[0m\u001b[0m\n",
      "\u001b[0;31mIndexError\u001b[0m: too many indices for array"
     ]
    }
   ],
   "source": [
    "y_pred_33 = (clf_LR.predict_proba(x)[:] >= 0.33)\n",
    "y_pred_33"
   ]
  },
  {
   "cell_type": "code",
   "execution_count": 77,
   "metadata": {
    "scrolled": true
   },
   "outputs": [
    {
     "data": {
      "text/plain": [
       "array([[ 0,  0,  0,  0],\n",
       "       [57,  9,  0,  0],\n",
       "       [69,  0,  0,  0],\n",
       "       [ 3, 68,  0,  0]])"
      ]
     },
     "execution_count": 77,
     "metadata": {},
     "output_type": "execute_result"
    }
   ],
   "source": [
    "confusion_matrix(y, y_pred_33)"
   ]
  },
  {
   "cell_type": "code",
   "execution_count": 58,
   "metadata": {},
   "outputs": [],
   "source": [
    "from sklearn.metrics import precision_score, recall_score, roc_auc_score, accuracy_score"
   ]
  },
  {
   "cell_type": "code",
   "execution_count": 59,
   "metadata": {},
   "outputs": [],
   "source": [
    "y_pred_test = clf_LR.predict(x_test)"
   ]
  },
  {
   "cell_type": "code",
   "execution_count": 60,
   "metadata": {},
   "outputs": [
    {
     "data": {
      "text/plain": [
       "0.9285714285714286"
      ]
     },
     "execution_count": 60,
     "metadata": {},
     "output_type": "execute_result"
    }
   ],
   "source": [
    "accuracy_score(y_test, y_pred_test)"
   ]
  },
  {
   "cell_type": "code",
   "execution_count": 67,
   "metadata": {},
   "outputs": [
    {
     "data": {
      "text/plain": [
       "array([0.85714286, 0.92307692, 1.        ])"
      ]
     },
     "execution_count": 67,
     "metadata": {},
     "output_type": "execute_result"
    }
   ],
   "source": [
    "precision_score(y_test,y_pred_test, average=None)"
   ]
  },
  {
   "cell_type": "code",
   "execution_count": 68,
   "metadata": {},
   "outputs": [
    {
     "data": {
      "text/plain": [
       "array([0.92307692, 0.92307692, 0.9375    ])"
      ]
     },
     "execution_count": 68,
     "metadata": {},
     "output_type": "execute_result"
    }
   ],
   "source": [
    "recall_score(y_test,y_pred_test, average=None)"
   ]
  },
  {
   "cell_type": "markdown",
   "metadata": {},
   "source": [
    "### Linear Discriminant Analysis"
   ]
  },
  {
   "cell_type": "code",
   "execution_count": 69,
   "metadata": {},
   "outputs": [],
   "source": [
    "from sklearn.discriminant_analysis import LinearDiscriminantAnalysis"
   ]
  },
  {
   "cell_type": "code",
   "execution_count": 70,
   "metadata": {},
   "outputs": [],
   "source": [
    "clf_lda = LinearDiscriminantAnalysis()"
   ]
  },
  {
   "cell_type": "code",
   "execution_count": 71,
   "metadata": {},
   "outputs": [
    {
     "data": {
      "text/plain": [
       "LinearDiscriminantAnalysis(n_components=None, priors=None, shrinkage=None,\n",
       "                           solver='svd', store_covariance=False, tol=0.0001)"
      ]
     },
     "execution_count": 71,
     "metadata": {},
     "output_type": "execute_result"
    }
   ],
   "source": [
    "clf_lda.fit(x_train, y_train)"
   ]
  },
  {
   "cell_type": "code",
   "execution_count": 72,
   "metadata": {},
   "outputs": [
    {
     "data": {
      "text/plain": [
       "array([1., 3., 1., 1., 3., 3., 2., 3., 2., 1., 1., 2., 1., 1., 1., 3., 2.,\n",
       "       3., 2., 3., 2., 2., 2., 3., 3., 3., 3., 2., 3., 2., 3., 1., 2., 3.,\n",
       "       2., 1., 3., 1., 1., 2., 1., 1.])"
      ]
     },
     "execution_count": 72,
     "metadata": {},
     "output_type": "execute_result"
    }
   ],
   "source": [
    "y_pred_lda = clf_lda.predict(x_test)\n",
    "y_pred_lda"
   ]
  },
  {
   "cell_type": "code",
   "execution_count": 73,
   "metadata": {},
   "outputs": [
    {
     "data": {
      "text/plain": [
       "array([[12,  1,  0],\n",
       "       [ 1, 12,  0],\n",
       "       [ 1,  0, 15]])"
      ]
     },
     "execution_count": 73,
     "metadata": {},
     "output_type": "execute_result"
    }
   ],
   "source": [
    "confusion_matrix(y_test, y_pred_lda)"
   ]
  },
  {
   "cell_type": "code",
   "execution_count": 75,
   "metadata": {},
   "outputs": [
    {
     "data": {
      "text/plain": [
       "0.9285714285714286"
      ]
     },
     "execution_count": 75,
     "metadata": {},
     "output_type": "execute_result"
    }
   ],
   "source": [
    "accuracy_score(y_test, y_pred_lda)"
   ]
  },
  {
   "cell_type": "code",
   "execution_count": 83,
   "metadata": {},
   "outputs": [],
   "source": [
    "from sklearn.metrics import f1_score"
   ]
  },
  {
   "cell_type": "code",
   "execution_count": 85,
   "metadata": {},
   "outputs": [
    {
     "data": {
      "text/plain": [
       "array([0.88888889, 0.92307692, 0.96774194])"
      ]
     },
     "execution_count": 85,
     "metadata": {},
     "output_type": "execute_result"
    }
   ],
   "source": [
    "f1_score(y_test, y_pred_test, average=None)"
   ]
  },
  {
   "cell_type": "code",
   "execution_count": null,
   "metadata": {},
   "outputs": [],
   "source": []
  }
 ],
 "metadata": {
  "kernelspec": {
   "display_name": "Python 3",
   "language": "python",
   "name": "python3"
  },
  "language_info": {
   "codemirror_mode": {
    "name": "ipython",
    "version": 3
   },
   "file_extension": ".py",
   "mimetype": "text/x-python",
   "name": "python",
   "nbconvert_exporter": "python",
   "pygments_lexer": "ipython3",
   "version": "3.7.3"
  }
 },
 "nbformat": 4,
 "nbformat_minor": 2
}
