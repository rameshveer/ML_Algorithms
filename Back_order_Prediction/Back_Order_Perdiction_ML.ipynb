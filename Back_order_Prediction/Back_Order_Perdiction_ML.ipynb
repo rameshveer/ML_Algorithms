{
  "nbformat": 4,
  "nbformat_minor": 0,
  "metadata": {
    "kernelspec": {
      "display_name": "Python 3",
      "language": "python",
      "name": "python3"
    },
    "language_info": {
      "codemirror_mode": {
        "name": "ipython",
        "version": 3
      },
      "file_extension": ".py",
      "mimetype": "text/x-python",
      "name": "python",
      "nbconvert_exporter": "python",
      "pygments_lexer": "ipython3",
      "version": "3.7.3"
    },
    "colab": {
      "name": "Back Order Perdiction - ML.ipynb",
      "provenance": [],
      "collapsed_sections": [
        "ROO3jyLBt0uy"
      ],
      "toc_visible": true,
      "include_colab_link": true
    },
    "accelerator": "GPU"
  },
  "cells": [
    {
      "cell_type": "markdown",
      "metadata": {
        "id": "view-in-github",
        "colab_type": "text"
      },
      "source": [
        "<a href=\"https://colab.research.google.com/github/rameshveer/ML_Algorithms/blob/master/Back_order_Prediction/Back_Order_Perdiction_ML.ipynb\" target=\"_parent\"><img src=\"https://colab.research.google.com/assets/colab-badge.svg\" alt=\"Open In Colab\"/></a>"
      ]
    },
    {
      "cell_type": "code",
      "metadata": {
        "id": "GkVLVV0Ht0uu"
      },
      "source": [
        "import pandas as pd\n",
        "import numpy as np\n",
        "import matplotlib.pyplot as plt\n",
        "import seaborn as sns\n",
        "%matplotlib inline"
      ],
      "execution_count": 3,
      "outputs": []
    },
    {
      "cell_type": "markdown",
      "metadata": {
        "id": "bZ3LwXNGt0uu"
      },
      "source": [
        "### Column Description\n",
        "\n",
        "* sku – \t\t \tRandom ID for the product\n",
        "* national_inv –   \tCurrent inventory level for the part\n",
        "* lead_time – \t \tTransit time for product (if available)\n",
        "* in_transit_qty – \tAmount of product in transit from source\n",
        "* forecast_3_month – \tForecast sales for the next 3 months\n",
        "* forecast_6_month – \tForecast sales for the next 6 months\n",
        "* forecast_9_month – \tForecast sales for the next 9 months\n",
        "* sales_1_month – \tSales quantity for the prior 1 month time period\n",
        "* sales_3_month – \tSales quantity for the prior 3 month time period\n",
        "* sales_6_month – \tSales quantity for the prior 6 month time period\n",
        "* sales_9_month – \tSales quantity for the prior 9 month time period\n",
        "* min_bank – \t\tMinimum recommend amount to stock\n",
        "* potential_issue – \tSource issue for part identified\n",
        "* pieces_past_due – \tParts overdue from source\n",
        "* perf_6_month_avg – \tSource performance for prior 6 month period\n",
        "* perf_12_month_avg – \tSource performance for prior 12 month period\n",
        "* local_bo_qty – \t\tAmount of stock orders overdue\n",
        "* deck_risk – \t\tPart risk flag\n",
        "* oe_constraint – \tPart risk flag\n",
        "* ppap_risk – \t\tPart risk flag\n",
        "* stop_auto_buy – \tPart risk flag\n",
        "* rev_stop – \t\tPart risk flag\n",
        "* went_on_backorder – \tProduct actually went on backorder. This is the target value."
      ]
    },
    {
      "cell_type": "code",
      "metadata": {
        "colab": {
          "base_uri": "https://localhost:8080/"
        },
        "id": "2SlY4hTJ8iRj",
        "outputId": "38d996bd-b2ef-456f-c5d3-5cb2c0a559d3"
      },
      "source": [
        "from google.colab import drive\n",
        "drive.mount('/content/drive')"
      ],
      "execution_count": 7,
      "outputs": [
        {
          "output_type": "stream",
          "text": [
            "Mounted at /content/drive\n"
          ],
          "name": "stdout"
        }
      ]
    },
    {
      "cell_type": "code",
      "metadata": {
        "colab": {
          "base_uri": "https://localhost:8080/"
        },
        "id": "fLpLlxg6t0uu",
        "outputId": "3ef8ade6-70d4-4597-9d37-bf9e26823b15"
      },
      "source": [
        "df = pd.read_csv('/content/drive/MyDrive/Training_Dataset_v2.csv')"
      ],
      "execution_count": 9,
      "outputs": [
        {
          "output_type": "stream",
          "text": [
            "/usr/local/lib/python3.6/dist-packages/IPython/core/interactiveshell.py:2718: DtypeWarning: Columns (0) have mixed types.Specify dtype option on import or set low_memory=False.\n",
            "  interactivity=interactivity, compiler=compiler, result=result)\n"
          ],
          "name": "stderr"
        }
      ]
    },
    {
      "cell_type": "code",
      "metadata": {
        "colab": {
          "base_uri": "https://localhost:8080/",
          "height": 224
        },
        "id": "loRqV_O7t0uv",
        "outputId": "8170adfc-33bb-4853-cd95-abcb8b9cac3d"
      },
      "source": [
        "df.head()"
      ],
      "execution_count": 10,
      "outputs": [
        {
          "output_type": "execute_result",
          "data": {
            "text/html": [
              "<div>\n",
              "<style scoped>\n",
              "    .dataframe tbody tr th:only-of-type {\n",
              "        vertical-align: middle;\n",
              "    }\n",
              "\n",
              "    .dataframe tbody tr th {\n",
              "        vertical-align: top;\n",
              "    }\n",
              "\n",
              "    .dataframe thead th {\n",
              "        text-align: right;\n",
              "    }\n",
              "</style>\n",
              "<table border=\"1\" class=\"dataframe\">\n",
              "  <thead>\n",
              "    <tr style=\"text-align: right;\">\n",
              "      <th></th>\n",
              "      <th>sku</th>\n",
              "      <th>national_inv</th>\n",
              "      <th>lead_time</th>\n",
              "      <th>in_transit_qty</th>\n",
              "      <th>forecast_3_month</th>\n",
              "      <th>forecast_6_month</th>\n",
              "      <th>forecast_9_month</th>\n",
              "      <th>sales_1_month</th>\n",
              "      <th>sales_3_month</th>\n",
              "      <th>sales_6_month</th>\n",
              "      <th>sales_9_month</th>\n",
              "      <th>min_bank</th>\n",
              "      <th>potential_issue</th>\n",
              "      <th>pieces_past_due</th>\n",
              "      <th>perf_6_month_avg</th>\n",
              "      <th>perf_12_month_avg</th>\n",
              "      <th>local_bo_qty</th>\n",
              "      <th>deck_risk</th>\n",
              "      <th>oe_constraint</th>\n",
              "      <th>ppap_risk</th>\n",
              "      <th>stop_auto_buy</th>\n",
              "      <th>rev_stop</th>\n",
              "      <th>went_on_backorder</th>\n",
              "    </tr>\n",
              "  </thead>\n",
              "  <tbody>\n",
              "    <tr>\n",
              "      <th>0</th>\n",
              "      <td>1026827</td>\n",
              "      <td>0.0</td>\n",
              "      <td>NaN</td>\n",
              "      <td>0.0</td>\n",
              "      <td>0.0</td>\n",
              "      <td>0.0</td>\n",
              "      <td>0.0</td>\n",
              "      <td>0.0</td>\n",
              "      <td>0.0</td>\n",
              "      <td>0.0</td>\n",
              "      <td>0.0</td>\n",
              "      <td>0.0</td>\n",
              "      <td>No</td>\n",
              "      <td>0.0</td>\n",
              "      <td>-99.00</td>\n",
              "      <td>-99.00</td>\n",
              "      <td>0.0</td>\n",
              "      <td>No</td>\n",
              "      <td>No</td>\n",
              "      <td>No</td>\n",
              "      <td>Yes</td>\n",
              "      <td>No</td>\n",
              "      <td>No</td>\n",
              "    </tr>\n",
              "    <tr>\n",
              "      <th>1</th>\n",
              "      <td>1043384</td>\n",
              "      <td>2.0</td>\n",
              "      <td>9.0</td>\n",
              "      <td>0.0</td>\n",
              "      <td>0.0</td>\n",
              "      <td>0.0</td>\n",
              "      <td>0.0</td>\n",
              "      <td>0.0</td>\n",
              "      <td>0.0</td>\n",
              "      <td>0.0</td>\n",
              "      <td>0.0</td>\n",
              "      <td>0.0</td>\n",
              "      <td>No</td>\n",
              "      <td>0.0</td>\n",
              "      <td>0.99</td>\n",
              "      <td>0.99</td>\n",
              "      <td>0.0</td>\n",
              "      <td>No</td>\n",
              "      <td>No</td>\n",
              "      <td>No</td>\n",
              "      <td>Yes</td>\n",
              "      <td>No</td>\n",
              "      <td>No</td>\n",
              "    </tr>\n",
              "    <tr>\n",
              "      <th>2</th>\n",
              "      <td>1043696</td>\n",
              "      <td>2.0</td>\n",
              "      <td>NaN</td>\n",
              "      <td>0.0</td>\n",
              "      <td>0.0</td>\n",
              "      <td>0.0</td>\n",
              "      <td>0.0</td>\n",
              "      <td>0.0</td>\n",
              "      <td>0.0</td>\n",
              "      <td>0.0</td>\n",
              "      <td>0.0</td>\n",
              "      <td>0.0</td>\n",
              "      <td>No</td>\n",
              "      <td>0.0</td>\n",
              "      <td>-99.00</td>\n",
              "      <td>-99.00</td>\n",
              "      <td>0.0</td>\n",
              "      <td>Yes</td>\n",
              "      <td>No</td>\n",
              "      <td>No</td>\n",
              "      <td>Yes</td>\n",
              "      <td>No</td>\n",
              "      <td>No</td>\n",
              "    </tr>\n",
              "    <tr>\n",
              "      <th>3</th>\n",
              "      <td>1043852</td>\n",
              "      <td>7.0</td>\n",
              "      <td>8.0</td>\n",
              "      <td>0.0</td>\n",
              "      <td>0.0</td>\n",
              "      <td>0.0</td>\n",
              "      <td>0.0</td>\n",
              "      <td>0.0</td>\n",
              "      <td>0.0</td>\n",
              "      <td>0.0</td>\n",
              "      <td>0.0</td>\n",
              "      <td>1.0</td>\n",
              "      <td>No</td>\n",
              "      <td>0.0</td>\n",
              "      <td>0.10</td>\n",
              "      <td>0.13</td>\n",
              "      <td>0.0</td>\n",
              "      <td>No</td>\n",
              "      <td>No</td>\n",
              "      <td>No</td>\n",
              "      <td>Yes</td>\n",
              "      <td>No</td>\n",
              "      <td>No</td>\n",
              "    </tr>\n",
              "    <tr>\n",
              "      <th>4</th>\n",
              "      <td>1044048</td>\n",
              "      <td>8.0</td>\n",
              "      <td>NaN</td>\n",
              "      <td>0.0</td>\n",
              "      <td>0.0</td>\n",
              "      <td>0.0</td>\n",
              "      <td>0.0</td>\n",
              "      <td>0.0</td>\n",
              "      <td>0.0</td>\n",
              "      <td>0.0</td>\n",
              "      <td>4.0</td>\n",
              "      <td>2.0</td>\n",
              "      <td>No</td>\n",
              "      <td>0.0</td>\n",
              "      <td>-99.00</td>\n",
              "      <td>-99.00</td>\n",
              "      <td>0.0</td>\n",
              "      <td>Yes</td>\n",
              "      <td>No</td>\n",
              "      <td>No</td>\n",
              "      <td>Yes</td>\n",
              "      <td>No</td>\n",
              "      <td>No</td>\n",
              "    </tr>\n",
              "  </tbody>\n",
              "</table>\n",
              "</div>"
            ],
            "text/plain": [
              "       sku  national_inv  lead_time  ...  stop_auto_buy  rev_stop  went_on_backorder\n",
              "0  1026827           0.0        NaN  ...            Yes        No                 No\n",
              "1  1043384           2.0        9.0  ...            Yes        No                 No\n",
              "2  1043696           2.0        NaN  ...            Yes        No                 No\n",
              "3  1043852           7.0        8.0  ...            Yes        No                 No\n",
              "4  1044048           8.0        NaN  ...            Yes        No                 No\n",
              "\n",
              "[5 rows x 23 columns]"
            ]
          },
          "metadata": {
            "tags": []
          },
          "execution_count": 10
        }
      ]
    },
    {
      "cell_type": "code",
      "metadata": {
        "scrolled": false,
        "colab": {
          "base_uri": "https://localhost:8080/"
        },
        "id": "YLw9Sz0et0uw",
        "outputId": "f72c7944-6127-4b6a-fd22-c34506f797a7"
      },
      "source": [
        "df.info()"
      ],
      "execution_count": 11,
      "outputs": [
        {
          "output_type": "stream",
          "text": [
            "<class 'pandas.core.frame.DataFrame'>\n",
            "RangeIndex: 1687861 entries, 0 to 1687860\n",
            "Data columns (total 23 columns):\n",
            " #   Column             Non-Null Count    Dtype  \n",
            "---  ------             --------------    -----  \n",
            " 0   sku                1687861 non-null  object \n",
            " 1   national_inv       1687860 non-null  float64\n",
            " 2   lead_time          1586967 non-null  float64\n",
            " 3   in_transit_qty     1687860 non-null  float64\n",
            " 4   forecast_3_month   1687860 non-null  float64\n",
            " 5   forecast_6_month   1687860 non-null  float64\n",
            " 6   forecast_9_month   1687860 non-null  float64\n",
            " 7   sales_1_month      1687860 non-null  float64\n",
            " 8   sales_3_month      1687860 non-null  float64\n",
            " 9   sales_6_month      1687860 non-null  float64\n",
            " 10  sales_9_month      1687860 non-null  float64\n",
            " 11  min_bank           1687860 non-null  float64\n",
            " 12  potential_issue    1687860 non-null  object \n",
            " 13  pieces_past_due    1687860 non-null  float64\n",
            " 14  perf_6_month_avg   1687860 non-null  float64\n",
            " 15  perf_12_month_avg  1687860 non-null  float64\n",
            " 16  local_bo_qty       1687860 non-null  float64\n",
            " 17  deck_risk          1687860 non-null  object \n",
            " 18  oe_constraint      1687860 non-null  object \n",
            " 19  ppap_risk          1687860 non-null  object \n",
            " 20  stop_auto_buy      1687860 non-null  object \n",
            " 21  rev_stop           1687860 non-null  object \n",
            " 22  went_on_backorder  1687860 non-null  object \n",
            "dtypes: float64(15), object(8)\n",
            "memory usage: 296.2+ MB\n"
          ],
          "name": "stdout"
        }
      ]
    },
    {
      "cell_type": "code",
      "metadata": {
        "scrolled": true,
        "colab": {
          "base_uri": "https://localhost:8080/",
          "height": 317
        },
        "id": "yI0T83Yit0uw",
        "outputId": "36ced689-f0e6-47bf-9330-04feb70ab6dc"
      },
      "source": [
        "df.describe()"
      ],
      "execution_count": 12,
      "outputs": [
        {
          "output_type": "execute_result",
          "data": {
            "text/html": [
              "<div>\n",
              "<style scoped>\n",
              "    .dataframe tbody tr th:only-of-type {\n",
              "        vertical-align: middle;\n",
              "    }\n",
              "\n",
              "    .dataframe tbody tr th {\n",
              "        vertical-align: top;\n",
              "    }\n",
              "\n",
              "    .dataframe thead th {\n",
              "        text-align: right;\n",
              "    }\n",
              "</style>\n",
              "<table border=\"1\" class=\"dataframe\">\n",
              "  <thead>\n",
              "    <tr style=\"text-align: right;\">\n",
              "      <th></th>\n",
              "      <th>national_inv</th>\n",
              "      <th>lead_time</th>\n",
              "      <th>in_transit_qty</th>\n",
              "      <th>forecast_3_month</th>\n",
              "      <th>forecast_6_month</th>\n",
              "      <th>forecast_9_month</th>\n",
              "      <th>sales_1_month</th>\n",
              "      <th>sales_3_month</th>\n",
              "      <th>sales_6_month</th>\n",
              "      <th>sales_9_month</th>\n",
              "      <th>min_bank</th>\n",
              "      <th>pieces_past_due</th>\n",
              "      <th>perf_6_month_avg</th>\n",
              "      <th>perf_12_month_avg</th>\n",
              "      <th>local_bo_qty</th>\n",
              "    </tr>\n",
              "  </thead>\n",
              "  <tbody>\n",
              "    <tr>\n",
              "      <th>count</th>\n",
              "      <td>1.687860e+06</td>\n",
              "      <td>1.586967e+06</td>\n",
              "      <td>1.687860e+06</td>\n",
              "      <td>1.687860e+06</td>\n",
              "      <td>1.687860e+06</td>\n",
              "      <td>1.687860e+06</td>\n",
              "      <td>1.687860e+06</td>\n",
              "      <td>1.687860e+06</td>\n",
              "      <td>1.687860e+06</td>\n",
              "      <td>1.687860e+06</td>\n",
              "      <td>1.687860e+06</td>\n",
              "      <td>1.687860e+06</td>\n",
              "      <td>1.687860e+06</td>\n",
              "      <td>1.687860e+06</td>\n",
              "      <td>1.687860e+06</td>\n",
              "    </tr>\n",
              "    <tr>\n",
              "      <th>mean</th>\n",
              "      <td>4.961118e+02</td>\n",
              "      <td>7.872267e+00</td>\n",
              "      <td>4.405202e+01</td>\n",
              "      <td>1.781193e+02</td>\n",
              "      <td>3.449867e+02</td>\n",
              "      <td>5.063644e+02</td>\n",
              "      <td>5.592607e+01</td>\n",
              "      <td>1.750259e+02</td>\n",
              "      <td>3.417288e+02</td>\n",
              "      <td>5.252697e+02</td>\n",
              "      <td>5.277230e+01</td>\n",
              "      <td>2.043724e+00</td>\n",
              "      <td>-6.872059e+00</td>\n",
              "      <td>-6.437947e+00</td>\n",
              "      <td>6.264507e-01</td>\n",
              "    </tr>\n",
              "    <tr>\n",
              "      <th>std</th>\n",
              "      <td>2.961523e+04</td>\n",
              "      <td>7.056024e+00</td>\n",
              "      <td>1.342742e+03</td>\n",
              "      <td>5.026553e+03</td>\n",
              "      <td>9.795152e+03</td>\n",
              "      <td>1.437892e+04</td>\n",
              "      <td>1.928196e+03</td>\n",
              "      <td>5.192378e+03</td>\n",
              "      <td>9.613167e+03</td>\n",
              "      <td>1.483861e+04</td>\n",
              "      <td>1.254983e+03</td>\n",
              "      <td>2.360165e+02</td>\n",
              "      <td>2.655636e+01</td>\n",
              "      <td>2.584333e+01</td>\n",
              "      <td>3.372224e+01</td>\n",
              "    </tr>\n",
              "    <tr>\n",
              "      <th>min</th>\n",
              "      <td>-2.725600e+04</td>\n",
              "      <td>0.000000e+00</td>\n",
              "      <td>0.000000e+00</td>\n",
              "      <td>0.000000e+00</td>\n",
              "      <td>0.000000e+00</td>\n",
              "      <td>0.000000e+00</td>\n",
              "      <td>0.000000e+00</td>\n",
              "      <td>0.000000e+00</td>\n",
              "      <td>0.000000e+00</td>\n",
              "      <td>0.000000e+00</td>\n",
              "      <td>0.000000e+00</td>\n",
              "      <td>0.000000e+00</td>\n",
              "      <td>-9.900000e+01</td>\n",
              "      <td>-9.900000e+01</td>\n",
              "      <td>0.000000e+00</td>\n",
              "    </tr>\n",
              "    <tr>\n",
              "      <th>25%</th>\n",
              "      <td>4.000000e+00</td>\n",
              "      <td>4.000000e+00</td>\n",
              "      <td>0.000000e+00</td>\n",
              "      <td>0.000000e+00</td>\n",
              "      <td>0.000000e+00</td>\n",
              "      <td>0.000000e+00</td>\n",
              "      <td>0.000000e+00</td>\n",
              "      <td>0.000000e+00</td>\n",
              "      <td>0.000000e+00</td>\n",
              "      <td>0.000000e+00</td>\n",
              "      <td>0.000000e+00</td>\n",
              "      <td>0.000000e+00</td>\n",
              "      <td>6.300000e-01</td>\n",
              "      <td>6.600000e-01</td>\n",
              "      <td>0.000000e+00</td>\n",
              "    </tr>\n",
              "    <tr>\n",
              "      <th>50%</th>\n",
              "      <td>1.500000e+01</td>\n",
              "      <td>8.000000e+00</td>\n",
              "      <td>0.000000e+00</td>\n",
              "      <td>0.000000e+00</td>\n",
              "      <td>0.000000e+00</td>\n",
              "      <td>0.000000e+00</td>\n",
              "      <td>0.000000e+00</td>\n",
              "      <td>1.000000e+00</td>\n",
              "      <td>2.000000e+00</td>\n",
              "      <td>4.000000e+00</td>\n",
              "      <td>0.000000e+00</td>\n",
              "      <td>0.000000e+00</td>\n",
              "      <td>8.200000e-01</td>\n",
              "      <td>8.100000e-01</td>\n",
              "      <td>0.000000e+00</td>\n",
              "    </tr>\n",
              "    <tr>\n",
              "      <th>75%</th>\n",
              "      <td>8.000000e+01</td>\n",
              "      <td>9.000000e+00</td>\n",
              "      <td>0.000000e+00</td>\n",
              "      <td>4.000000e+00</td>\n",
              "      <td>1.200000e+01</td>\n",
              "      <td>2.000000e+01</td>\n",
              "      <td>4.000000e+00</td>\n",
              "      <td>1.500000e+01</td>\n",
              "      <td>3.100000e+01</td>\n",
              "      <td>4.700000e+01</td>\n",
              "      <td>3.000000e+00</td>\n",
              "      <td>0.000000e+00</td>\n",
              "      <td>9.700000e-01</td>\n",
              "      <td>9.500000e-01</td>\n",
              "      <td>0.000000e+00</td>\n",
              "    </tr>\n",
              "    <tr>\n",
              "      <th>max</th>\n",
              "      <td>1.233440e+07</td>\n",
              "      <td>5.200000e+01</td>\n",
              "      <td>4.894080e+05</td>\n",
              "      <td>1.427612e+06</td>\n",
              "      <td>2.461360e+06</td>\n",
              "      <td>3.777304e+06</td>\n",
              "      <td>7.417740e+05</td>\n",
              "      <td>1.105478e+06</td>\n",
              "      <td>2.146625e+06</td>\n",
              "      <td>3.205172e+06</td>\n",
              "      <td>3.133190e+05</td>\n",
              "      <td>1.464960e+05</td>\n",
              "      <td>1.000000e+00</td>\n",
              "      <td>1.000000e+00</td>\n",
              "      <td>1.253000e+04</td>\n",
              "    </tr>\n",
              "  </tbody>\n",
              "</table>\n",
              "</div>"
            ],
            "text/plain": [
              "       national_inv     lead_time  ...  perf_12_month_avg  local_bo_qty\n",
              "count  1.687860e+06  1.586967e+06  ...       1.687860e+06  1.687860e+06\n",
              "mean   4.961118e+02  7.872267e+00  ...      -6.437947e+00  6.264507e-01\n",
              "std    2.961523e+04  7.056024e+00  ...       2.584333e+01  3.372224e+01\n",
              "min   -2.725600e+04  0.000000e+00  ...      -9.900000e+01  0.000000e+00\n",
              "25%    4.000000e+00  4.000000e+00  ...       6.600000e-01  0.000000e+00\n",
              "50%    1.500000e+01  8.000000e+00  ...       8.100000e-01  0.000000e+00\n",
              "75%    8.000000e+01  9.000000e+00  ...       9.500000e-01  0.000000e+00\n",
              "max    1.233440e+07  5.200000e+01  ...       1.000000e+00  1.253000e+04\n",
              "\n",
              "[8 rows x 15 columns]"
            ]
          },
          "metadata": {
            "tags": []
          },
          "execution_count": 12
        }
      ]
    },
    {
      "cell_type": "code",
      "metadata": {
        "colab": {
          "base_uri": "https://localhost:8080/"
        },
        "id": "KWduaTj0t0uw",
        "outputId": "9be83499-2be1-459c-c8e3-2ad02421067e"
      },
      "source": [
        "df.shape"
      ],
      "execution_count": 13,
      "outputs": [
        {
          "output_type": "execute_result",
          "data": {
            "text/plain": [
              "(1687861, 23)"
            ]
          },
          "metadata": {
            "tags": []
          },
          "execution_count": 13
        }
      ]
    },
    {
      "cell_type": "markdown",
      "metadata": {
        "id": "ePnKmMfht0uw"
      },
      "source": [
        "### Checking for missing values"
      ]
    },
    {
      "cell_type": "code",
      "metadata": {
        "scrolled": true,
        "colab": {
          "base_uri": "https://localhost:8080/"
        },
        "id": "9xNTLJEGt0uw",
        "outputId": "ab2affef-b9c2-4434-95a9-aa5e0e2cdd0c"
      },
      "source": [
        "df.isnull().sum()"
      ],
      "execution_count": 14,
      "outputs": [
        {
          "output_type": "execute_result",
          "data": {
            "text/plain": [
              "sku                       0\n",
              "national_inv              1\n",
              "lead_time            100894\n",
              "in_transit_qty            1\n",
              "forecast_3_month          1\n",
              "forecast_6_month          1\n",
              "forecast_9_month          1\n",
              "sales_1_month             1\n",
              "sales_3_month             1\n",
              "sales_6_month             1\n",
              "sales_9_month             1\n",
              "min_bank                  1\n",
              "potential_issue           1\n",
              "pieces_past_due           1\n",
              "perf_6_month_avg          1\n",
              "perf_12_month_avg         1\n",
              "local_bo_qty              1\n",
              "deck_risk                 1\n",
              "oe_constraint             1\n",
              "ppap_risk                 1\n",
              "stop_auto_buy             1\n",
              "rev_stop                  1\n",
              "went_on_backorder         1\n",
              "dtype: int64"
            ]
          },
          "metadata": {
            "tags": []
          },
          "execution_count": 14
        }
      ]
    },
    {
      "cell_type": "code",
      "metadata": {
        "scrolled": true,
        "colab": {
          "base_uri": "https://localhost:8080/",
          "height": 375
        },
        "id": "FXgOUrZTt0uw",
        "outputId": "32e0d2b5-88f9-4703-b2c0-45b895303333"
      },
      "source": [
        "sns.heatmap(df.isnull(), cmap='viridis')"
      ],
      "execution_count": 15,
      "outputs": [
        {
          "output_type": "execute_result",
          "data": {
            "text/plain": [
              "<matplotlib.axes._subplots.AxesSubplot at 0x7fa1e63838d0>"
            ]
          },
          "metadata": {
            "tags": []
          },
          "execution_count": 15
        },
        {
          "output_type": "display_data",
          "data": {
            "image/png": "[encoded data removed]",
            "text/plain": [
              "<Figure size 432x288 with 2 Axes>"
            ]
          },
          "metadata": {
            "tags": [],
            "needs_background": "light"
          }
        }
      ]
    },
    {
      "cell_type": "code",
      "metadata": {
        "id": "SdomUw7qt0uw"
      },
      "source": [
        "null_values = [feature for feature in df.columns if df[feature].isnull().sum()]"
      ],
      "execution_count": 16,
      "outputs": []
    },
    {
      "cell_type": "code",
      "metadata": {
        "scrolled": true,
        "colab": {
          "base_uri": "https://localhost:8080/"
        },
        "id": "1v8T0nd_t0uw",
        "outputId": "755b4009-acb2-4af8-89f9-2c387e62a9e1"
      },
      "source": [
        "null_values"
      ],
      "execution_count": 17,
      "outputs": [
        {
          "output_type": "execute_result",
          "data": {
            "text/plain": [
              "['national_inv',\n",
              " 'lead_time',\n",
              " 'in_transit_qty',\n",
              " 'forecast_3_month',\n",
              " 'forecast_6_month',\n",
              " 'forecast_9_month',\n",
              " 'sales_1_month',\n",
              " 'sales_3_month',\n",
              " 'sales_6_month',\n",
              " 'sales_9_month',\n",
              " 'min_bank',\n",
              " 'potential_issue',\n",
              " 'pieces_past_due',\n",
              " 'perf_6_month_avg',\n",
              " 'perf_12_month_avg',\n",
              " 'local_bo_qty',\n",
              " 'deck_risk',\n",
              " 'oe_constraint',\n",
              " 'ppap_risk',\n",
              " 'stop_auto_buy',\n",
              " 'rev_stop',\n",
              " 'went_on_backorder']"
            ]
          },
          "metadata": {
            "tags": []
          },
          "execution_count": 17
        }
      ]
    },
    {
      "cell_type": "code",
      "metadata": {
        "id": "Loc6GbPlt0ux"
      },
      "source": [
        "df['national_inv'] = df['national_inv'].fillna(df['national_inv'].mean())\n",
        "df['lead_time'] = df['lead_time'].fillna(df['lead_time'].mean())\n",
        "df['in_transit_qty'] = df['in_transit_qty'].fillna(df['in_transit_qty'].mean())\n",
        "df['forecast_3_month'] = df['forecast_3_month'].fillna(df['forecast_3_month'].mean())\n",
        "df['forecast_6_month'] = df['forecast_6_month'].fillna(df['forecast_6_month'].mean())\n",
        "df['forecast_9_month'] = df['forecast_9_month'].fillna(df['forecast_9_month'].mean())\n",
        "df['sales_1_month'] = df['sales_1_month'].fillna(df['sales_1_month'].mean())\n",
        "df['sales_3_month'] = df['sales_3_month'].fillna(df['sales_3_month'].mean())\n",
        "df['sales_6_month'] = df['sales_6_month'].fillna(df['sales_6_month'].mean())\n",
        "df['sales_9_month'] = df['sales_9_month'].fillna(df['sales_9_month'].mean())\n",
        "df['pieces_past_due'] = df['pieces_past_due'].fillna(df['pieces_past_due'].mean())\n",
        "df['perf_6_month_avg'] = df['perf_6_month_avg'].fillna(df['perf_6_month_avg'].mean())\n",
        "df['perf_12_month_avg'] = df['perf_12_month_avg'].fillna(df['perf_12_month_avg'].mean())\n",
        "df['local_bo_qty'] = df['local_bo_qty'].fillna(df['local_bo_qty'].mean())\n",
        "df['min_bank'] = df['min_bank'].fillna(df['min_bank'].mean())"
      ],
      "execution_count": 18,
      "outputs": []
    },
    {
      "cell_type": "code",
      "metadata": {
        "scrolled": true,
        "colab": {
          "base_uri": "https://localhost:8080/"
        },
        "id": "dIKek1kmt0ux",
        "outputId": "3156cf38-7b80-405d-c8c2-36e5849c9250"
      },
      "source": [
        "categorical_col = [feature for feature in df.columns if df[feature].dtypes == 'O']\n",
        "categorical_col"
      ],
      "execution_count": 19,
      "outputs": [
        {
          "output_type": "execute_result",
          "data": {
            "text/plain": [
              "['sku',\n",
              " 'potential_issue',\n",
              " 'deck_risk',\n",
              " 'oe_constraint',\n",
              " 'ppap_risk',\n",
              " 'stop_auto_buy',\n",
              " 'rev_stop',\n",
              " 'went_on_backorder']"
            ]
          },
          "metadata": {
            "tags": []
          },
          "execution_count": 19
        }
      ]
    },
    {
      "cell_type": "code",
      "metadata": {
        "colab": {
          "base_uri": "https://localhost:8080/"
        },
        "id": "eBu3lOK8t0ux",
        "outputId": "f46bc1b0-4150-4d1d-c7b7-6eb0d5e9dd60"
      },
      "source": [
        "df.potential_issue.unique()"
      ],
      "execution_count": 20,
      "outputs": [
        {
          "output_type": "execute_result",
          "data": {
            "text/plain": [
              "array(['No', 'Yes', nan], dtype=object)"
            ]
          },
          "metadata": {
            "tags": []
          },
          "execution_count": 20
        }
      ]
    },
    {
      "cell_type": "code",
      "metadata": {
        "colab": {
          "base_uri": "https://localhost:8080/"
        },
        "id": "J5VKI96dt0ux",
        "outputId": "c2e8a745-42d3-49bd-cee5-2d57c39ed432"
      },
      "source": [
        "df.potential_issue.value_counts()"
      ],
      "execution_count": 21,
      "outputs": [
        {
          "output_type": "execute_result",
          "data": {
            "text/plain": [
              "No     1686953\n",
              "Yes        907\n",
              "Name: potential_issue, dtype: int64"
            ]
          },
          "metadata": {
            "tags": []
          },
          "execution_count": 21
        }
      ]
    },
    {
      "cell_type": "code",
      "metadata": {
        "id": "2ZTJTvkot0ux"
      },
      "source": [
        "df['potential_issue'] = df.potential_issue.fillna('No')"
      ],
      "execution_count": 22,
      "outputs": []
    },
    {
      "cell_type": "code",
      "metadata": {
        "colab": {
          "base_uri": "https://localhost:8080/"
        },
        "id": "fV2dPmxlt0ux",
        "outputId": "0649bd51-6ce8-421c-87c9-77838aa28d79"
      },
      "source": [
        "df.potential_issue.value_counts()"
      ],
      "execution_count": 23,
      "outputs": [
        {
          "output_type": "execute_result",
          "data": {
            "text/plain": [
              "No     1686954\n",
              "Yes        907\n",
              "Name: potential_issue, dtype: int64"
            ]
          },
          "metadata": {
            "tags": []
          },
          "execution_count": 23
        }
      ]
    },
    {
      "cell_type": "code",
      "metadata": {
        "id": "HjOjX8zgt0ux"
      },
      "source": [
        "df['deck_risk'] = df.deck_risk.fillna('No')"
      ],
      "execution_count": 24,
      "outputs": []
    },
    {
      "cell_type": "code",
      "metadata": {
        "colab": {
          "base_uri": "https://localhost:8080/"
        },
        "id": "FEKJh69_t0ux",
        "outputId": "a9b4e35b-8c16-49be-f6d4-702a6dd5e800"
      },
      "source": [
        "df.oe_constraint.value_counts()"
      ],
      "execution_count": 25,
      "outputs": [
        {
          "output_type": "execute_result",
          "data": {
            "text/plain": [
              "No     1687615\n",
              "Yes        245\n",
              "Name: oe_constraint, dtype: int64"
            ]
          },
          "metadata": {
            "tags": []
          },
          "execution_count": 25
        }
      ]
    },
    {
      "cell_type": "code",
      "metadata": {
        "id": "0ut6whiat0ux"
      },
      "source": [
        "df['oe_constraint'] = df.oe_constraint.fillna('No')"
      ],
      "execution_count": 26,
      "outputs": []
    },
    {
      "cell_type": "code",
      "metadata": {
        "colab": {
          "base_uri": "https://localhost:8080/"
        },
        "id": "mUNeb_Jjt0ux",
        "outputId": "543993e6-ad66-4209-9dcf-00ad86582083"
      },
      "source": [
        "df.ppap_risk.value_counts()"
      ],
      "execution_count": 27,
      "outputs": [
        {
          "output_type": "execute_result",
          "data": {
            "text/plain": [
              "No     1484026\n",
              "Yes     203834\n",
              "Name: ppap_risk, dtype: int64"
            ]
          },
          "metadata": {
            "tags": []
          },
          "execution_count": 27
        }
      ]
    },
    {
      "cell_type": "code",
      "metadata": {
        "id": "TVSNzL1et0ux"
      },
      "source": [
        "df['ppap_risk'] = df.ppap_risk.fillna('No')"
      ],
      "execution_count": 28,
      "outputs": []
    },
    {
      "cell_type": "code",
      "metadata": {
        "colab": {
          "base_uri": "https://localhost:8080/"
        },
        "id": "EOALeiYat0ux",
        "outputId": "91ab4b57-9608-461a-decf-614ef068dc30"
      },
      "source": [
        "df.stop_auto_buy.value_counts()"
      ],
      "execution_count": 29,
      "outputs": [
        {
          "output_type": "execute_result",
          "data": {
            "text/plain": [
              "Yes    1626774\n",
              "No       61086\n",
              "Name: stop_auto_buy, dtype: int64"
            ]
          },
          "metadata": {
            "tags": []
          },
          "execution_count": 29
        }
      ]
    },
    {
      "cell_type": "code",
      "metadata": {
        "id": "VvD0idTht0ux"
      },
      "source": [
        "df['stop_auto_buy'] = df.stop_auto_buy.fillna('No')"
      ],
      "execution_count": 30,
      "outputs": []
    },
    {
      "cell_type": "code",
      "metadata": {
        "colab": {
          "base_uri": "https://localhost:8080/"
        },
        "id": "LVwX1Pfot0ux",
        "outputId": "2a1fa731-b74a-43bd-8910-5973109d4883"
      },
      "source": [
        "df.rev_stop.value_counts()"
      ],
      "execution_count": 31,
      "outputs": [
        {
          "output_type": "execute_result",
          "data": {
            "text/plain": [
              "No     1687129\n",
              "Yes        731\n",
              "Name: rev_stop, dtype: int64"
            ]
          },
          "metadata": {
            "tags": []
          },
          "execution_count": 31
        }
      ]
    },
    {
      "cell_type": "code",
      "metadata": {
        "id": "XmHgPx1Mt0ux"
      },
      "source": [
        "df['rev_stop'] = df.rev_stop.fillna('No')"
      ],
      "execution_count": 32,
      "outputs": []
    },
    {
      "cell_type": "code",
      "metadata": {
        "colab": {
          "base_uri": "https://localhost:8080/"
        },
        "id": "j91Wx3n7t0ux",
        "outputId": "d6b5e7ad-c68d-4d35-e423-cf8ced3d9bf2"
      },
      "source": [
        "df.went_on_backorder.value_counts()"
      ],
      "execution_count": 33,
      "outputs": [
        {
          "output_type": "execute_result",
          "data": {
            "text/plain": [
              "No     1676567\n",
              "Yes      11293\n",
              "Name: went_on_backorder, dtype: int64"
            ]
          },
          "metadata": {
            "tags": []
          },
          "execution_count": 33
        }
      ]
    },
    {
      "cell_type": "code",
      "metadata": {
        "id": "8Eu1ZM2Zt0uy"
      },
      "source": [
        "df['went_on_backorder'] = df.went_on_backorder.fillna('No')"
      ],
      "execution_count": 34,
      "outputs": []
    },
    {
      "cell_type": "code",
      "metadata": {
        "colab": {
          "base_uri": "https://localhost:8080/"
        },
        "id": "CO6ivpjgt0uy",
        "outputId": "4a00b8e1-a893-457c-ce58-49d14fb7a92e"
      },
      "source": [
        "df.isnull().any()"
      ],
      "execution_count": 35,
      "outputs": [
        {
          "output_type": "execute_result",
          "data": {
            "text/plain": [
              "sku                  False\n",
              "national_inv         False\n",
              "lead_time            False\n",
              "in_transit_qty       False\n",
              "forecast_3_month     False\n",
              "forecast_6_month     False\n",
              "forecast_9_month     False\n",
              "sales_1_month        False\n",
              "sales_3_month        False\n",
              "sales_6_month        False\n",
              "sales_9_month        False\n",
              "min_bank             False\n",
              "potential_issue      False\n",
              "pieces_past_due      False\n",
              "perf_6_month_avg     False\n",
              "perf_12_month_avg    False\n",
              "local_bo_qty         False\n",
              "deck_risk            False\n",
              "oe_constraint        False\n",
              "ppap_risk            False\n",
              "stop_auto_buy        False\n",
              "rev_stop             False\n",
              "went_on_backorder    False\n",
              "dtype: bool"
            ]
          },
          "metadata": {
            "tags": []
          },
          "execution_count": 35
        }
      ]
    },
    {
      "cell_type": "code",
      "metadata": {
        "colab": {
          "base_uri": "https://localhost:8080/"
        },
        "id": "pbM2KegXt0uy",
        "outputId": "d41fe291-91aa-46bf-f9e3-8f85c31d64ad"
      },
      "source": [
        "categorical_col"
      ],
      "execution_count": 36,
      "outputs": [
        {
          "output_type": "execute_result",
          "data": {
            "text/plain": [
              "['sku',\n",
              " 'potential_issue',\n",
              " 'deck_risk',\n",
              " 'oe_constraint',\n",
              " 'ppap_risk',\n",
              " 'stop_auto_buy',\n",
              " 'rev_stop',\n",
              " 'went_on_backorder']"
            ]
          },
          "metadata": {
            "tags": []
          },
          "execution_count": 36
        }
      ]
    },
    {
      "cell_type": "markdown",
      "metadata": {
        "id": "ROO3jyLBt0uy"
      },
      "source": [
        "### Label Encoding the categorical values"
      ]
    },
    {
      "cell_type": "code",
      "metadata": {
        "colab": {
          "base_uri": "https://localhost:8080/"
        },
        "id": "AZLJ9g5ht0uy",
        "outputId": "f3525137-76fd-4983-a170-af6dd6c034b8"
      },
      "source": [
        "df.potential_issue.value_counts()"
      ],
      "execution_count": 37,
      "outputs": [
        {
          "output_type": "execute_result",
          "data": {
            "text/plain": [
              "No     1686954\n",
              "Yes        907\n",
              "Name: potential_issue, dtype: int64"
            ]
          },
          "metadata": {
            "tags": []
          },
          "execution_count": 37
        }
      ]
    },
    {
      "cell_type": "code",
      "metadata": {
        "id": "RZNXPcp9t0uy"
      },
      "source": [
        "df['potential_issue'] = df['potential_issue'].map({'No' : 0, 'Yes' : 1}).astype('int')\n",
        "df['deck_risk'] = df['deck_risk'].map({'No' : 0, 'Yes' : 1}).astype('int')\n",
        "df['oe_constraint'] = df['oe_constraint'].map({'No' : 0, 'Yes' : 1}).astype('int')\n",
        "df['ppap_risk'] = df['ppap_risk'].map({'No' : 0, 'Yes' : 1}).astype('int')\n",
        "df['stop_auto_buy'] = df['stop_auto_buy'].map({'No' : 0, 'Yes' : 1}).astype('int')\n",
        "df['went_on_backorder'] = df['went_on_backorder'].map({'No' : 0, 'Yes' : 1}).astype('int')\n",
        "df['rev_stop'] = df['rev_stop'].map({'No' : 0, 'Yes' : 1}).astype('int')"
      ],
      "execution_count": 38,
      "outputs": []
    },
    {
      "cell_type": "code",
      "metadata": {
        "colab": {
          "base_uri": "https://localhost:8080/",
          "height": 0
        },
        "id": "_VXJVVitt0uy",
        "outputId": "5e5c15bd-3934-4839-e9ef-12a28be45077"
      },
      "source": [
        "df.head()"
      ],
      "execution_count": 39,
      "outputs": [
        {
          "output_type": "execute_result",
          "data": {
            "text/html": [
              "<div>\n",
              "<style scoped>\n",
              "    .dataframe tbody tr th:only-of-type {\n",
              "        vertical-align: middle;\n",
              "    }\n",
              "\n",
              "    .dataframe tbody tr th {\n",
              "        vertical-align: top;\n",
              "    }\n",
              "\n",
              "    .dataframe thead th {\n",
              "        text-align: right;\n",
              "    }\n",
              "</style>\n",
              "<table border=\"1\" class=\"dataframe\">\n",
              "  <thead>\n",
              "    <tr style=\"text-align: right;\">\n",
              "      <th></th>\n",
              "      <th>sku</th>\n",
              "      <th>national_inv</th>\n",
              "      <th>lead_time</th>\n",
              "      <th>in_transit_qty</th>\n",
              "      <th>forecast_3_month</th>\n",
              "      <th>forecast_6_month</th>\n",
              "      <th>forecast_9_month</th>\n",
              "      <th>sales_1_month</th>\n",
              "      <th>sales_3_month</th>\n",
              "      <th>sales_6_month</th>\n",
              "      <th>sales_9_month</th>\n",
              "      <th>min_bank</th>\n",
              "      <th>potential_issue</th>\n",
              "      <th>pieces_past_due</th>\n",
              "      <th>perf_6_month_avg</th>\n",
              "      <th>perf_12_month_avg</th>\n",
              "      <th>local_bo_qty</th>\n",
              "      <th>deck_risk</th>\n",
              "      <th>oe_constraint</th>\n",
              "      <th>ppap_risk</th>\n",
              "      <th>stop_auto_buy</th>\n",
              "      <th>rev_stop</th>\n",
              "      <th>went_on_backorder</th>\n",
              "    </tr>\n",
              "  </thead>\n",
              "  <tbody>\n",
              "    <tr>\n",
              "      <th>0</th>\n",
              "      <td>1026827</td>\n",
              "      <td>0.0</td>\n",
              "      <td>7.872267</td>\n",
              "      <td>0.0</td>\n",
              "      <td>0.0</td>\n",
              "      <td>0.0</td>\n",
              "      <td>0.0</td>\n",
              "      <td>0.0</td>\n",
              "      <td>0.0</td>\n",
              "      <td>0.0</td>\n",
              "      <td>0.0</td>\n",
              "      <td>0.0</td>\n",
              "      <td>0</td>\n",
              "      <td>0.0</td>\n",
              "      <td>-99.00</td>\n",
              "      <td>-99.00</td>\n",
              "      <td>0.0</td>\n",
              "      <td>0</td>\n",
              "      <td>0</td>\n",
              "      <td>0</td>\n",
              "      <td>1</td>\n",
              "      <td>0</td>\n",
              "      <td>0</td>\n",
              "    </tr>\n",
              "    <tr>\n",
              "      <th>1</th>\n",
              "      <td>1043384</td>\n",
              "      <td>2.0</td>\n",
              "      <td>9.000000</td>\n",
              "      <td>0.0</td>\n",
              "      <td>0.0</td>\n",
              "      <td>0.0</td>\n",
              "      <td>0.0</td>\n",
              "      <td>0.0</td>\n",
              "      <td>0.0</td>\n",
              "      <td>0.0</td>\n",
              "      <td>0.0</td>\n",
              "      <td>0.0</td>\n",
              "      <td>0</td>\n",
              "      <td>0.0</td>\n",
              "      <td>0.99</td>\n",
              "      <td>0.99</td>\n",
              "      <td>0.0</td>\n",
              "      <td>0</td>\n",
              "      <td>0</td>\n",
              "      <td>0</td>\n",
              "      <td>1</td>\n",
              "      <td>0</td>\n",
              "      <td>0</td>\n",
              "    </tr>\n",
              "    <tr>\n",
              "      <th>2</th>\n",
              "      <td>1043696</td>\n",
              "      <td>2.0</td>\n",
              "      <td>7.872267</td>\n",
              "      <td>0.0</td>\n",
              "      <td>0.0</td>\n",
              "      <td>0.0</td>\n",
              "      <td>0.0</td>\n",
              "      <td>0.0</td>\n",
              "      <td>0.0</td>\n",
              "      <td>0.0</td>\n",
              "      <td>0.0</td>\n",
              "      <td>0.0</td>\n",
              "      <td>0</td>\n",
              "      <td>0.0</td>\n",
              "      <td>-99.00</td>\n",
              "      <td>-99.00</td>\n",
              "      <td>0.0</td>\n",
              "      <td>1</td>\n",
              "      <td>0</td>\n",
              "      <td>0</td>\n",
              "      <td>1</td>\n",
              "      <td>0</td>\n",
              "      <td>0</td>\n",
              "    </tr>\n",
              "    <tr>\n",
              "      <th>3</th>\n",
              "      <td>1043852</td>\n",
              "      <td>7.0</td>\n",
              "      <td>8.000000</td>\n",
              "      <td>0.0</td>\n",
              "      <td>0.0</td>\n",
              "      <td>0.0</td>\n",
              "      <td>0.0</td>\n",
              "      <td>0.0</td>\n",
              "      <td>0.0</td>\n",
              "      <td>0.0</td>\n",
              "      <td>0.0</td>\n",
              "      <td>1.0</td>\n",
              "      <td>0</td>\n",
              "      <td>0.0</td>\n",
              "      <td>0.10</td>\n",
              "      <td>0.13</td>\n",
              "      <td>0.0</td>\n",
              "      <td>0</td>\n",
              "      <td>0</td>\n",
              "      <td>0</td>\n",
              "      <td>1</td>\n",
              "      <td>0</td>\n",
              "      <td>0</td>\n",
              "    </tr>\n",
              "    <tr>\n",
              "      <th>4</th>\n",
              "      <td>1044048</td>\n",
              "      <td>8.0</td>\n",
              "      <td>7.872267</td>\n",
              "      <td>0.0</td>\n",
              "      <td>0.0</td>\n",
              "      <td>0.0</td>\n",
              "      <td>0.0</td>\n",
              "      <td>0.0</td>\n",
              "      <td>0.0</td>\n",
              "      <td>0.0</td>\n",
              "      <td>4.0</td>\n",
              "      <td>2.0</td>\n",
              "      <td>0</td>\n",
              "      <td>0.0</td>\n",
              "      <td>-99.00</td>\n",
              "      <td>-99.00</td>\n",
              "      <td>0.0</td>\n",
              "      <td>1</td>\n",
              "      <td>0</td>\n",
              "      <td>0</td>\n",
              "      <td>1</td>\n",
              "      <td>0</td>\n",
              "      <td>0</td>\n",
              "    </tr>\n",
              "  </tbody>\n",
              "</table>\n",
              "</div>"
            ],
            "text/plain": [
              "       sku  national_inv  lead_time  ...  stop_auto_buy  rev_stop  went_on_backorder\n",
              "0  1026827           0.0   7.872267  ...              1         0                  0\n",
              "1  1043384           2.0   9.000000  ...              1         0                  0\n",
              "2  1043696           2.0   7.872267  ...              1         0                  0\n",
              "3  1043852           7.0   8.000000  ...              1         0                  0\n",
              "4  1044048           8.0   7.872267  ...              1         0                  0\n",
              "\n",
              "[5 rows x 23 columns]"
            ]
          },
          "metadata": {
            "tags": []
          },
          "execution_count": 39
        }
      ]
    },
    {
      "cell_type": "code",
      "metadata": {
        "colab": {
          "base_uri": "https://localhost:8080/"
        },
        "id": "LO2aPoaXt0uy",
        "outputId": "e88064ea-205d-46c3-fb69-cc1f2f4152e4"
      },
      "source": [
        "df.info()"
      ],
      "execution_count": 40,
      "outputs": [
        {
          "output_type": "stream",
          "text": [
            "<class 'pandas.core.frame.DataFrame'>\n",
            "RangeIndex: 1687861 entries, 0 to 1687860\n",
            "Data columns (total 23 columns):\n",
            " #   Column             Non-Null Count    Dtype  \n",
            "---  ------             --------------    -----  \n",
            " 0   sku                1687861 non-null  object \n",
            " 1   national_inv       1687861 non-null  float64\n",
            " 2   lead_time          1687861 non-null  float64\n",
            " 3   in_transit_qty     1687861 non-null  float64\n",
            " 4   forecast_3_month   1687861 non-null  float64\n",
            " 5   forecast_6_month   1687861 non-null  float64\n",
            " 6   forecast_9_month   1687861 non-null  float64\n",
            " 7   sales_1_month      1687861 non-null  float64\n",
            " 8   sales_3_month      1687861 non-null  float64\n",
            " 9   sales_6_month      1687861 non-null  float64\n",
            " 10  sales_9_month      1687861 non-null  float64\n",
            " 11  min_bank           1687861 non-null  float64\n",
            " 12  potential_issue    1687861 non-null  int64  \n",
            " 13  pieces_past_due    1687861 non-null  float64\n",
            " 14  perf_6_month_avg   1687861 non-null  float64\n",
            " 15  perf_12_month_avg  1687861 non-null  float64\n",
            " 16  local_bo_qty       1687861 non-null  float64\n",
            " 17  deck_risk          1687861 non-null  int64  \n",
            " 18  oe_constraint      1687861 non-null  int64  \n",
            " 19  ppap_risk          1687861 non-null  int64  \n",
            " 20  stop_auto_buy      1687861 non-null  int64  \n",
            " 21  rev_stop           1687861 non-null  int64  \n",
            " 22  went_on_backorder  1687861 non-null  int64  \n",
            "dtypes: float64(15), int64(7), object(1)\n",
            "memory usage: 296.2+ MB\n"
          ],
          "name": "stdout"
        }
      ]
    },
    {
      "cell_type": "code",
      "metadata": {
        "colab": {
          "base_uri": "https://localhost:8080/",
          "height": 0
        },
        "id": "gVX91PKyt0uy",
        "outputId": "9514a73a-e429-4119-88ab-fb7f387709e3"
      },
      "source": [
        "sns.countplot(df['went_on_backorder'], palette='Set1')\n",
        "plt.title(\"Count plot of the went_on_backorder variable\")\n",
        "plt.xticks(rotation = 90)\n",
        "plt.show()"
      ],
      "execution_count": 41,
      "outputs": [
        {
          "output_type": "stream",
          "text": [
            "/usr/local/lib/python3.6/dist-packages/seaborn/_decorators.py:43: FutureWarning: Pass the following variable as a keyword arg: x. From version 0.12, the only valid positional argument will be `data`, and passing other arguments without an explicit keyword will result in an error or misinterpretation.\n",
            "  FutureWarning\n"
          ],
          "name": "stderr"
        },
        {
          "output_type": "display_data",
          "data": {
            "image/png": "[encoded data removed]",
            "text/plain": [
              "<Figure size 432x288 with 1 Axes>"
            ]
          },
          "metadata": {
            "tags": [],
            "needs_background": "light"
          }
        }
      ]
    },
    {
      "cell_type": "markdown",
      "metadata": {
        "id": "6RoKZJ_dt0uy"
      },
      "source": [
        "* We can see that our dataset is imbalanced so we need to balance our dataset first"
      ]
    },
    {
      "cell_type": "code",
      "metadata": {
        "colab": {
          "base_uri": "https://localhost:8080/",
          "height": 0
        },
        "id": "HeBLppCvt0uy",
        "outputId": "23f14125-5710-45cb-eb82-5e53e17cbe46"
      },
      "source": [
        "df.head()"
      ],
      "execution_count": 42,
      "outputs": [
        {
          "output_type": "execute_result",
          "data": {
            "text/html": [
              "<div>\n",
              "<style scoped>\n",
              "    .dataframe tbody tr th:only-of-type {\n",
              "        vertical-align: middle;\n",
              "    }\n",
              "\n",
              "    .dataframe tbody tr th {\n",
              "        vertical-align: top;\n",
              "    }\n",
              "\n",
              "    .dataframe thead th {\n",
              "        text-align: right;\n",
              "    }\n",
              "</style>\n",
              "<table border=\"1\" class=\"dataframe\">\n",
              "  <thead>\n",
              "    <tr style=\"text-align: right;\">\n",
              "      <th></th>\n",
              "      <th>sku</th>\n",
              "      <th>national_inv</th>\n",
              "      <th>lead_time</th>\n",
              "      <th>in_transit_qty</th>\n",
              "      <th>forecast_3_month</th>\n",
              "      <th>forecast_6_month</th>\n",
              "      <th>forecast_9_month</th>\n",
              "      <th>sales_1_month</th>\n",
              "      <th>sales_3_month</th>\n",
              "      <th>sales_6_month</th>\n",
              "      <th>sales_9_month</th>\n",
              "      <th>min_bank</th>\n",
              "      <th>potential_issue</th>\n",
              "      <th>pieces_past_due</th>\n",
              "      <th>perf_6_month_avg</th>\n",
              "      <th>perf_12_month_avg</th>\n",
              "      <th>local_bo_qty</th>\n",
              "      <th>deck_risk</th>\n",
              "      <th>oe_constraint</th>\n",
              "      <th>ppap_risk</th>\n",
              "      <th>stop_auto_buy</th>\n",
              "      <th>rev_stop</th>\n",
              "      <th>went_on_backorder</th>\n",
              "    </tr>\n",
              "  </thead>\n",
              "  <tbody>\n",
              "    <tr>\n",
              "      <th>0</th>\n",
              "      <td>1026827</td>\n",
              "      <td>0.0</td>\n",
              "      <td>7.872267</td>\n",
              "      <td>0.0</td>\n",
              "      <td>0.0</td>\n",
              "      <td>0.0</td>\n",
              "      <td>0.0</td>\n",
              "      <td>0.0</td>\n",
              "      <td>0.0</td>\n",
              "      <td>0.0</td>\n",
              "      <td>0.0</td>\n",
              "      <td>0.0</td>\n",
              "      <td>0</td>\n",
              "      <td>0.0</td>\n",
              "      <td>-99.00</td>\n",
              "      <td>-99.00</td>\n",
              "      <td>0.0</td>\n",
              "      <td>0</td>\n",
              "      <td>0</td>\n",
              "      <td>0</td>\n",
              "      <td>1</td>\n",
              "      <td>0</td>\n",
              "      <td>0</td>\n",
              "    </tr>\n",
              "    <tr>\n",
              "      <th>1</th>\n",
              "      <td>1043384</td>\n",
              "      <td>2.0</td>\n",
              "      <td>9.000000</td>\n",
              "      <td>0.0</td>\n",
              "      <td>0.0</td>\n",
              "      <td>0.0</td>\n",
              "      <td>0.0</td>\n",
              "      <td>0.0</td>\n",
              "      <td>0.0</td>\n",
              "      <td>0.0</td>\n",
              "      <td>0.0</td>\n",
              "      <td>0.0</td>\n",
              "      <td>0</td>\n",
              "      <td>0.0</td>\n",
              "      <td>0.99</td>\n",
              "      <td>0.99</td>\n",
              "      <td>0.0</td>\n",
              "      <td>0</td>\n",
              "      <td>0</td>\n",
              "      <td>0</td>\n",
              "      <td>1</td>\n",
              "      <td>0</td>\n",
              "      <td>0</td>\n",
              "    </tr>\n",
              "    <tr>\n",
              "      <th>2</th>\n",
              "      <td>1043696</td>\n",
              "      <td>2.0</td>\n",
              "      <td>7.872267</td>\n",
              "      <td>0.0</td>\n",
              "      <td>0.0</td>\n",
              "      <td>0.0</td>\n",
              "      <td>0.0</td>\n",
              "      <td>0.0</td>\n",
              "      <td>0.0</td>\n",
              "      <td>0.0</td>\n",
              "      <td>0.0</td>\n",
              "      <td>0.0</td>\n",
              "      <td>0</td>\n",
              "      <td>0.0</td>\n",
              "      <td>-99.00</td>\n",
              "      <td>-99.00</td>\n",
              "      <td>0.0</td>\n",
              "      <td>1</td>\n",
              "      <td>0</td>\n",
              "      <td>0</td>\n",
              "      <td>1</td>\n",
              "      <td>0</td>\n",
              "      <td>0</td>\n",
              "    </tr>\n",
              "    <tr>\n",
              "      <th>3</th>\n",
              "      <td>1043852</td>\n",
              "      <td>7.0</td>\n",
              "      <td>8.000000</td>\n",
              "      <td>0.0</td>\n",
              "      <td>0.0</td>\n",
              "      <td>0.0</td>\n",
              "      <td>0.0</td>\n",
              "      <td>0.0</td>\n",
              "      <td>0.0</td>\n",
              "      <td>0.0</td>\n",
              "      <td>0.0</td>\n",
              "      <td>1.0</td>\n",
              "      <td>0</td>\n",
              "      <td>0.0</td>\n",
              "      <td>0.10</td>\n",
              "      <td>0.13</td>\n",
              "      <td>0.0</td>\n",
              "      <td>0</td>\n",
              "      <td>0</td>\n",
              "      <td>0</td>\n",
              "      <td>1</td>\n",
              "      <td>0</td>\n",
              "      <td>0</td>\n",
              "    </tr>\n",
              "    <tr>\n",
              "      <th>4</th>\n",
              "      <td>1044048</td>\n",
              "      <td>8.0</td>\n",
              "      <td>7.872267</td>\n",
              "      <td>0.0</td>\n",
              "      <td>0.0</td>\n",
              "      <td>0.0</td>\n",
              "      <td>0.0</td>\n",
              "      <td>0.0</td>\n",
              "      <td>0.0</td>\n",
              "      <td>0.0</td>\n",
              "      <td>4.0</td>\n",
              "      <td>2.0</td>\n",
              "      <td>0</td>\n",
              "      <td>0.0</td>\n",
              "      <td>-99.00</td>\n",
              "      <td>-99.00</td>\n",
              "      <td>0.0</td>\n",
              "      <td>1</td>\n",
              "      <td>0</td>\n",
              "      <td>0</td>\n",
              "      <td>1</td>\n",
              "      <td>0</td>\n",
              "      <td>0</td>\n",
              "    </tr>\n",
              "  </tbody>\n",
              "</table>\n",
              "</div>"
            ],
            "text/plain": [
              "       sku  national_inv  lead_time  ...  stop_auto_buy  rev_stop  went_on_backorder\n",
              "0  1026827           0.0   7.872267  ...              1         0                  0\n",
              "1  1043384           2.0   9.000000  ...              1         0                  0\n",
              "2  1043696           2.0   7.872267  ...              1         0                  0\n",
              "3  1043852           7.0   8.000000  ...              1         0                  0\n",
              "4  1044048           8.0   7.872267  ...              1         0                  0\n",
              "\n",
              "[5 rows x 23 columns]"
            ]
          },
          "metadata": {
            "tags": []
          },
          "execution_count": 42
        }
      ]
    },
    {
      "cell_type": "code",
      "metadata": {
        "id": "9LIAr_est0uy"
      },
      "source": [
        "df = df.drop(['sku'], axis=1)"
      ],
      "execution_count": 43,
      "outputs": []
    },
    {
      "cell_type": "code",
      "metadata": {
        "colab": {
          "base_uri": "https://localhost:8080/",
          "height": 0
        },
        "id": "J4LySWEKt0uy",
        "outputId": "b9ec6a5f-2cc3-426d-d85e-b4bbbe927963"
      },
      "source": [
        "df.head()"
      ],
      "execution_count": 44,
      "outputs": [
        {
          "output_type": "execute_result",
          "data": {
            "text/html": [
              "<div>\n",
              "<style scoped>\n",
              "    .dataframe tbody tr th:only-of-type {\n",
              "        vertical-align: middle;\n",
              "    }\n",
              "\n",
              "    .dataframe tbody tr th {\n",
              "        vertical-align: top;\n",
              "    }\n",
              "\n",
              "    .dataframe thead th {\n",
              "        text-align: right;\n",
              "    }\n",
              "</style>\n",
              "<table border=\"1\" class=\"dataframe\">\n",
              "  <thead>\n",
              "    <tr style=\"text-align: right;\">\n",
              "      <th></th>\n",
              "      <th>national_inv</th>\n",
              "      <th>lead_time</th>\n",
              "      <th>in_transit_qty</th>\n",
              "      <th>forecast_3_month</th>\n",
              "      <th>forecast_6_month</th>\n",
              "      <th>forecast_9_month</th>\n",
              "      <th>sales_1_month</th>\n",
              "      <th>sales_3_month</th>\n",
              "      <th>sales_6_month</th>\n",
              "      <th>sales_9_month</th>\n",
              "      <th>min_bank</th>\n",
              "      <th>potential_issue</th>\n",
              "      <th>pieces_past_due</th>\n",
              "      <th>perf_6_month_avg</th>\n",
              "      <th>perf_12_month_avg</th>\n",
              "      <th>local_bo_qty</th>\n",
              "      <th>deck_risk</th>\n",
              "      <th>oe_constraint</th>\n",
              "      <th>ppap_risk</th>\n",
              "      <th>stop_auto_buy</th>\n",
              "      <th>rev_stop</th>\n",
              "      <th>went_on_backorder</th>\n",
              "    </tr>\n",
              "  </thead>\n",
              "  <tbody>\n",
              "    <tr>\n",
              "      <th>0</th>\n",
              "      <td>0.0</td>\n",
              "      <td>7.872267</td>\n",
              "      <td>0.0</td>\n",
              "      <td>0.0</td>\n",
              "      <td>0.0</td>\n",
              "      <td>0.0</td>\n",
              "      <td>0.0</td>\n",
              "      <td>0.0</td>\n",
              "      <td>0.0</td>\n",
              "      <td>0.0</td>\n",
              "      <td>0.0</td>\n",
              "      <td>0</td>\n",
              "      <td>0.0</td>\n",
              "      <td>-99.00</td>\n",
              "      <td>-99.00</td>\n",
              "      <td>0.0</td>\n",
              "      <td>0</td>\n",
              "      <td>0</td>\n",
              "      <td>0</td>\n",
              "      <td>1</td>\n",
              "      <td>0</td>\n",
              "      <td>0</td>\n",
              "    </tr>\n",
              "    <tr>\n",
              "      <th>1</th>\n",
              "      <td>2.0</td>\n",
              "      <td>9.000000</td>\n",
              "      <td>0.0</td>\n",
              "      <td>0.0</td>\n",
              "      <td>0.0</td>\n",
              "      <td>0.0</td>\n",
              "      <td>0.0</td>\n",
              "      <td>0.0</td>\n",
              "      <td>0.0</td>\n",
              "      <td>0.0</td>\n",
              "      <td>0.0</td>\n",
              "      <td>0</td>\n",
              "      <td>0.0</td>\n",
              "      <td>0.99</td>\n",
              "      <td>0.99</td>\n",
              "      <td>0.0</td>\n",
              "      <td>0</td>\n",
              "      <td>0</td>\n",
              "      <td>0</td>\n",
              "      <td>1</td>\n",
              "      <td>0</td>\n",
              "      <td>0</td>\n",
              "    </tr>\n",
              "    <tr>\n",
              "      <th>2</th>\n",
              "      <td>2.0</td>\n",
              "      <td>7.872267</td>\n",
              "      <td>0.0</td>\n",
              "      <td>0.0</td>\n",
              "      <td>0.0</td>\n",
              "      <td>0.0</td>\n",
              "      <td>0.0</td>\n",
              "      <td>0.0</td>\n",
              "      <td>0.0</td>\n",
              "      <td>0.0</td>\n",
              "      <td>0.0</td>\n",
              "      <td>0</td>\n",
              "      <td>0.0</td>\n",
              "      <td>-99.00</td>\n",
              "      <td>-99.00</td>\n",
              "      <td>0.0</td>\n",
              "      <td>1</td>\n",
              "      <td>0</td>\n",
              "      <td>0</td>\n",
              "      <td>1</td>\n",
              "      <td>0</td>\n",
              "      <td>0</td>\n",
              "    </tr>\n",
              "    <tr>\n",
              "      <th>3</th>\n",
              "      <td>7.0</td>\n",
              "      <td>8.000000</td>\n",
              "      <td>0.0</td>\n",
              "      <td>0.0</td>\n",
              "      <td>0.0</td>\n",
              "      <td>0.0</td>\n",
              "      <td>0.0</td>\n",
              "      <td>0.0</td>\n",
              "      <td>0.0</td>\n",
              "      <td>0.0</td>\n",
              "      <td>1.0</td>\n",
              "      <td>0</td>\n",
              "      <td>0.0</td>\n",
              "      <td>0.10</td>\n",
              "      <td>0.13</td>\n",
              "      <td>0.0</td>\n",
              "      <td>0</td>\n",
              "      <td>0</td>\n",
              "      <td>0</td>\n",
              "      <td>1</td>\n",
              "      <td>0</td>\n",
              "      <td>0</td>\n",
              "    </tr>\n",
              "    <tr>\n",
              "      <th>4</th>\n",
              "      <td>8.0</td>\n",
              "      <td>7.872267</td>\n",
              "      <td>0.0</td>\n",
              "      <td>0.0</td>\n",
              "      <td>0.0</td>\n",
              "      <td>0.0</td>\n",
              "      <td>0.0</td>\n",
              "      <td>0.0</td>\n",
              "      <td>0.0</td>\n",
              "      <td>4.0</td>\n",
              "      <td>2.0</td>\n",
              "      <td>0</td>\n",
              "      <td>0.0</td>\n",
              "      <td>-99.00</td>\n",
              "      <td>-99.00</td>\n",
              "      <td>0.0</td>\n",
              "      <td>1</td>\n",
              "      <td>0</td>\n",
              "      <td>0</td>\n",
              "      <td>1</td>\n",
              "      <td>0</td>\n",
              "      <td>0</td>\n",
              "    </tr>\n",
              "  </tbody>\n",
              "</table>\n",
              "</div>"
            ],
            "text/plain": [
              "   national_inv  lead_time  ...  rev_stop  went_on_backorder\n",
              "0           0.0   7.872267  ...         0                  0\n",
              "1           2.0   9.000000  ...         0                  0\n",
              "2           2.0   7.872267  ...         0                  0\n",
              "3           7.0   8.000000  ...         0                  0\n",
              "4           8.0   7.872267  ...         0                  0\n",
              "\n",
              "[5 rows x 22 columns]"
            ]
          },
          "metadata": {
            "tags": []
          },
          "execution_count": 44
        }
      ]
    },
    {
      "cell_type": "code",
      "metadata": {
        "id": "l8Oo27Fct0uy"
      },
      "source": [
        "x = df.drop(['went_on_backorder'], axis=1).values\n",
        "y = df['went_on_backorder'].values"
      ],
      "execution_count": 45,
      "outputs": []
    },
    {
      "cell_type": "code",
      "metadata": {
        "id": "axwEKVEvt0uy"
      },
      "source": [
        "from sklearn.model_selection import train_test_split"
      ],
      "execution_count": 46,
      "outputs": []
    },
    {
      "cell_type": "code",
      "metadata": {
        "id": "YJZe1ytat0uy"
      },
      "source": [
        "X_train, X_test, y_train, y_test = train_test_split(x, y, test_size=0.33, random_state=42)"
      ],
      "execution_count": 47,
      "outputs": []
    },
    {
      "cell_type": "code",
      "metadata": {
        "colab": {
          "base_uri": "https://localhost:8080/"
        },
        "id": "SMIvxr5Xt0uy",
        "outputId": "81dcfe8d-bc4c-4f76-dfcf-10b3d82ca40a"
      },
      "source": [
        "from imblearn.over_sampling import SMOTE"
      ],
      "execution_count": 48,
      "outputs": [
        {
          "output_type": "stream",
          "text": [
            "/usr/local/lib/python3.6/dist-packages/sklearn/externals/six.py:31: FutureWarning: The module is deprecated in version 0.21 and will be removed in version 0.23 since we've dropped support for Python 2.7. Please rely on the official version of six (https://pypi.org/project/six/).\n",
            "  \"(https://pypi.org/project/six/).\", FutureWarning)\n",
            "/usr/local/lib/python3.6/dist-packages/sklearn/utils/deprecation.py:144: FutureWarning: The sklearn.neighbors.base module is  deprecated in version 0.22 and will be removed in version 0.24. The corresponding classes / functions should instead be imported from sklearn.neighbors. Anything that cannot be imported from sklearn.neighbors is now part of the private API.\n",
            "  warnings.warn(message, FutureWarning)\n"
          ],
          "name": "stderr"
        }
      ]
    },
    {
      "cell_type": "code",
      "metadata": {
        "colab": {
          "base_uri": "https://localhost:8080/"
        },
        "id": "doUKg_xLt0uy",
        "outputId": "a34025ea-67d5-44ab-b086-53658f872d81"
      },
      "source": [
        "sm = SMOTE(random_state=12)\n",
        "X_train_s, y_train_s = sm.fit_sample(X_train, y_train)"
      ],
      "execution_count": 49,
      "outputs": [
        {
          "output_type": "stream",
          "text": [
            "/usr/local/lib/python3.6/dist-packages/sklearn/utils/deprecation.py:87: FutureWarning: Function safe_indexing is deprecated; safe_indexing is deprecated in version 0.22 and will be removed in version 0.24.\n",
            "  warnings.warn(msg, category=FutureWarning)\n"
          ],
          "name": "stderr"
        }
      ]
    },
    {
      "cell_type": "code",
      "metadata": {
        "colab": {
          "base_uri": "https://localhost:8080/"
        },
        "id": "iC9mjdMyt0u0",
        "outputId": "10713fa5-c23a-456b-e775-aa97dccde313"
      },
      "source": [
        "X_train_s.shape, y_train_s.shape"
      ],
      "execution_count": 50,
      "outputs": [
        {
          "output_type": "execute_result",
          "data": {
            "text/plain": [
              "((2246690, 21), (2246690,))"
            ]
          },
          "metadata": {
            "tags": []
          },
          "execution_count": 50
        }
      ]
    },
    {
      "cell_type": "code",
      "metadata": {
        "colab": {
          "base_uri": "https://localhost:8080/"
        },
        "id": "us8TbYcFt0u0",
        "outputId": "a2391de2-d4f7-4d68-bc76-45dcb9b11146"
      },
      "source": [
        "from collections import Counter\n",
        "print('Original dataset shape {}'.format(Counter(y)))\n",
        "print('Resampled dataset shape {}'.format(Counter(y_train_s)))"
      ],
      "execution_count": 51,
      "outputs": [
        {
          "output_type": "stream",
          "text": [
            "Original dataset shape Counter({0: 1676568, 1: 11293})\n",
            "Resampled dataset shape Counter({0: 1123345, 1: 1123345})\n"
          ],
          "name": "stdout"
        }
      ]
    },
    {
      "cell_type": "code",
      "metadata": {
        "colab": {
          "base_uri": "https://localhost:8080/",
          "height": 0
        },
        "id": "Fv6D9Sp9t0u0",
        "outputId": "eac4441b-c9bc-4c3e-f65f-d7ab50614196"
      },
      "source": [
        "sns.countplot(y_train_s)"
      ],
      "execution_count": 52,
      "outputs": [
        {
          "output_type": "stream",
          "text": [
            "/usr/local/lib/python3.6/dist-packages/seaborn/_decorators.py:43: FutureWarning: Pass the following variable as a keyword arg: x. From version 0.12, the only valid positional argument will be `data`, and passing other arguments without an explicit keyword will result in an error or misinterpretation.\n",
            "  FutureWarning\n"
          ],
          "name": "stderr"
        },
        {
          "output_type": "execute_result",
          "data": {
            "text/plain": [
              "<matplotlib.axes._subplots.AxesSubplot at 0x7fa1db81de10>"
            ]
          },
          "metadata": {
            "tags": []
          },
          "execution_count": 52
        },
        {
          "output_type": "display_data",
          "data": {
            "image/png": "[encoded data removed]",
            "text/plain": [
              "<Figure size 432x288 with 1 Axes>"
            ]
          },
          "metadata": {
            "tags": [],
            "needs_background": "light"
          }
        }
      ]
    },
    {
      "cell_type": "markdown",
      "metadata": {
        "id": "3WhX6oD8t0u0"
      },
      "source": [
        "# Model Construction\n",
        "\n",
        "    The following code blocks construct the Machine Learning models using the training dataset"
      ]
    },
    {
      "cell_type": "markdown",
      "metadata": {
        "id": "nQX0-YnHt0u0"
      },
      "source": [
        "## 1. Logistic Regression\n",
        "\n",
        "    The following code builds and measures the prediction accuracy score of the Logistic Regression model "
      ]
    },
    {
      "cell_type": "code",
      "metadata": {
        "id": "5d775bgwt0u0"
      },
      "source": [
        "from sklearn.linear_model import LogisticRegression"
      ],
      "execution_count": 53,
      "outputs": []
    },
    {
      "cell_type": "code",
      "metadata": {
        "id": "3ziLhMCOt0u0"
      },
      "source": [
        "clf_lrs = LogisticRegression()"
      ],
      "execution_count": 54,
      "outputs": []
    },
    {
      "cell_type": "code",
      "metadata": {
        "colab": {
          "base_uri": "https://localhost:8080/"
        },
        "id": "JqaOWntct0u0",
        "outputId": "921dc419-4613-4958-8ff8-34ab7b203f49"
      },
      "source": [
        "clf_lrs.fit(X_train_s,y_train_s)"
      ],
      "execution_count": 55,
      "outputs": [
        {
          "output_type": "stream",
          "text": [
            "/usr/local/lib/python3.6/dist-packages/sklearn/linear_model/_logistic.py:940: ConvergenceWarning: lbfgs failed to converge (status=1):\n",
            "STOP: TOTAL NO. of ITERATIONS REACHED LIMIT.\n",
            "\n",
            "Increase the number of iterations (max_iter) or scale the data as shown in:\n",
            "    https://scikit-learn.org/stable/modules/preprocessing.html\n",
            "Please also refer to the documentation for alternative solver options:\n",
            "    https://scikit-learn.org/stable/modules/linear_model.html#logistic-regression\n",
            "  extra_warning_msg=_LOGISTIC_SOLVER_CONVERGENCE_MSG)\n"
          ],
          "name": "stderr"
        },
        {
          "output_type": "execute_result",
          "data": {
            "text/plain": [
              "LogisticRegression(C=1.0, class_weight=None, dual=False, fit_intercept=True,\n",
              "                   intercept_scaling=1, l1_ratio=None, max_iter=100,\n",
              "                   multi_class='auto', n_jobs=None, penalty='l2',\n",
              "                   random_state=None, solver='lbfgs', tol=0.0001, verbose=0,\n",
              "                   warm_start=False)"
            ]
          },
          "metadata": {
            "tags": []
          },
          "execution_count": 55
        }
      ]
    },
    {
      "cell_type": "code",
      "metadata": {
        "id": "VBAYlGwst0u0"
      },
      "source": [
        "lr_y_pred = clf_lrs.predict(X_test)"
      ],
      "execution_count": 56,
      "outputs": []
    },
    {
      "cell_type": "markdown",
      "metadata": {
        "id": "qHe3txmft0u0"
      },
      "source": [
        "Evaluation of Model:"
      ]
    },
    {
      "cell_type": "code",
      "metadata": {
        "id": "mc_JV0SMt0u0"
      },
      "source": [
        "from sklearn.metrics import accuracy_score, recall_score, confusion_matrix"
      ],
      "execution_count": 57,
      "outputs": []
    },
    {
      "cell_type": "code",
      "metadata": {
        "colab": {
          "base_uri": "https://localhost:8080/"
        },
        "id": "zgKgJxn2t0u0",
        "outputId": "a05f3681-f611-4778-813e-9e8b4c3bbaa7"
      },
      "source": [
        "confusion_matrix(y_test, lr_y_pred)"
      ],
      "execution_count": 58,
      "outputs": [
        {
          "output_type": "execute_result",
          "data": {
            "text/plain": [
              "array([[360487, 192736],\n",
              "       [   494,   3278]])"
            ]
          },
          "metadata": {
            "tags": []
          },
          "execution_count": 58
        }
      ]
    },
    {
      "cell_type": "code",
      "metadata": {
        "colab": {
          "base_uri": "https://localhost:8080/"
        },
        "id": "hsMs_5Kvt0u0",
        "outputId": "2c2ca03c-942e-4fd4-b332-e4c1f65d4b20"
      },
      "source": [
        "clf_lrs_a = accuracy_score(y_test, lr_y_pred)\n",
        "clf_lrs_a"
      ],
      "execution_count": 59,
      "outputs": [
        {
          "output_type": "execute_result",
          "data": {
            "text/plain": [
              "0.6530848571351628"
            ]
          },
          "metadata": {
            "tags": []
          },
          "execution_count": 59
        }
      ]
    },
    {
      "cell_type": "code",
      "metadata": {
        "colab": {
          "base_uri": "https://localhost:8080/"
        },
        "id": "VizglHnVt0u0",
        "outputId": "12b3d552-f5c7-4fb6-aded-900e671d8249"
      },
      "source": [
        "clf_lrs_r = recall_score(y_test, lr_y_pred)\n",
        "clf_lrs_r"
      ],
      "execution_count": 60,
      "outputs": [
        {
          "output_type": "execute_result",
          "data": {
            "text/plain": [
              "0.869034994697773"
            ]
          },
          "metadata": {
            "tags": []
          },
          "execution_count": 60
        }
      ]
    },
    {
      "cell_type": "markdown",
      "metadata": {
        "id": "IeheFNqZt0u0"
      },
      "source": [
        "## 2. Decision Tree\n"
      ]
    },
    {
      "cell_type": "code",
      "metadata": {
        "colab": {
          "base_uri": "https://localhost:8080/"
        },
        "id": "ZjrA2lmtt0u0",
        "outputId": "8ade4625-586d-454a-b678-afd40fcef4db"
      },
      "source": [
        "from sklearn.tree import DecisionTreeClassifier\n",
        "model_dtree=DecisionTreeClassifier()\n",
        "model_dtree.fit(X_train_s,y_train_s)"
      ],
      "execution_count": 61,
      "outputs": [
        {
          "output_type": "execute_result",
          "data": {
            "text/plain": [
              "DecisionTreeClassifier(ccp_alpha=0.0, class_weight=None, criterion='gini',\n",
              "                       max_depth=None, max_features=None, max_leaf_nodes=None,\n",
              "                       min_impurity_decrease=0.0, min_impurity_split=None,\n",
              "                       min_samples_leaf=1, min_samples_split=2,\n",
              "                       min_weight_fraction_leaf=0.0, presort='deprecated',\n",
              "                       random_state=None, splitter='best')"
            ]
          },
          "metadata": {
            "tags": []
          },
          "execution_count": 61
        }
      ]
    },
    {
      "cell_type": "code",
      "metadata": {
        "id": "TGTIzch6t0u0"
      },
      "source": [
        "dt_y_pred = model_dtree.predict(X_test)"
      ],
      "execution_count": 62,
      "outputs": []
    },
    {
      "cell_type": "code",
      "metadata": {
        "colab": {
          "base_uri": "https://localhost:8080/"
        },
        "id": "8jjcZub4t0u0",
        "outputId": "456aeb79-ef6a-4c3c-ae54-00212c76f04c"
      },
      "source": [
        "dtree_r = recall_score(y_test, dt_y_pred)\n",
        "dtree_r"
      ],
      "execution_count": 63,
      "outputs": [
        {
          "output_type": "execute_result",
          "data": {
            "text/plain": [
              "0.41755037115588545"
            ]
          },
          "metadata": {
            "tags": []
          },
          "execution_count": 63
        }
      ]
    },
    {
      "cell_type": "markdown",
      "metadata": {
        "id": "gyzbGy7It0u1"
      },
      "source": [
        "## 3. Random Forest\n"
      ]
    },
    {
      "cell_type": "code",
      "metadata": {
        "colab": {
          "base_uri": "https://localhost:8080/"
        },
        "id": "aAqwBS6mt0u1",
        "outputId": "15e5fb1a-0094-4141-fa45-2cba62414f3c"
      },
      "source": [
        "from sklearn.ensemble import RandomForestClassifier\n",
        "model_rf = RandomForestClassifier(random_state=101)\n",
        "model_rf.fit(X_train_s,y_train_s)"
      ],
      "execution_count": 64,
      "outputs": [
        {
          "output_type": "execute_result",
          "data": {
            "text/plain": [
              "RandomForestClassifier(bootstrap=True, ccp_alpha=0.0, class_weight=None,\n",
              "                       criterion='gini', max_depth=None, max_features='auto',\n",
              "                       max_leaf_nodes=None, max_samples=None,\n",
              "                       min_impurity_decrease=0.0, min_impurity_split=None,\n",
              "                       min_samples_leaf=1, min_samples_split=2,\n",
              "                       min_weight_fraction_leaf=0.0, n_estimators=100,\n",
              "                       n_jobs=None, oob_score=False, random_state=101,\n",
              "                       verbose=0, warm_start=False)"
            ]
          },
          "metadata": {
            "tags": []
          },
          "execution_count": 64
        }
      ]
    },
    {
      "cell_type": "code",
      "metadata": {
        "id": "96CNI_wXt0u1"
      },
      "source": [
        "rf_y_pred = model_rf.predict(X_test)"
      ],
      "execution_count": 65,
      "outputs": []
    },
    {
      "cell_type": "code",
      "metadata": {
        "colab": {
          "base_uri": "https://localhost:8080/"
        },
        "id": "05rTge8bt0u1",
        "outputId": "7254a86f-2ab6-489c-e1dd-194ebfebb4ef"
      },
      "source": [
        "rf_r = recall_score(y_test, rf_y_pred)\n",
        "rf_r"
      ],
      "execution_count": 66,
      "outputs": [
        {
          "output_type": "execute_result",
          "data": {
            "text/plain": [
              "0.4323966065747614"
            ]
          },
          "metadata": {
            "tags": []
          },
          "execution_count": 66
        }
      ]
    },
    {
      "cell_type": "markdown",
      "metadata": {
        "id": "XHJi6iZzt0u1"
      },
      "source": [
        "4. SVC - was not included in modelling due to high no. of samples involved in the dataset. SVC is time consuming for huge datasets."
      ]
    },
    {
      "cell_type": "markdown",
      "metadata": {
        "id": "m_BNA7mft0u1"
      },
      "source": [
        "## 5. XGBoost"
      ]
    },
    {
      "cell_type": "code",
      "metadata": {
        "id": "AbxhTCGdt0u1"
      },
      "source": [
        "import xgboost as xgb\n",
        "xgb_clf = xgb.XGBClassifier(tree_method = \"gpu_hist\", max_depth = 5, n_estimators = 1000, learning_rate = 0.1, n_jobs = -1)"
      ],
      "execution_count": 67,
      "outputs": []
    },
    {
      "cell_type": "code",
      "metadata": {
        "scrolled": true,
        "colab": {
          "base_uri": "https://localhost:8080/"
        },
        "id": "AZIbN2iPt0u1",
        "outputId": "a868559b-1b4d-42b4-ad6d-941660dd212e"
      },
      "source": [
        "xgb_clf.fit(X_train_s,y_train_s)"
      ],
      "execution_count": 68,
      "outputs": [
        {
          "output_type": "execute_result",
          "data": {
            "text/plain": [
              "XGBClassifier(base_score=0.5, booster='gbtree', colsample_bylevel=1,\n",
              "              colsample_bynode=1, colsample_bytree=1, gamma=0,\n",
              "              learning_rate=0.1, max_delta_step=0, max_depth=5,\n",
              "              min_child_weight=1, missing=None, n_estimators=1000, n_jobs=-1,\n",
              "              nthread=None, objective='binary:logistic', random_state=0,\n",
              "              reg_alpha=0, reg_lambda=1, scale_pos_weight=1, seed=None,\n",
              "              silent=None, subsample=1, tree_method='gpu_hist', verbosity=1)"
            ]
          },
          "metadata": {
            "tags": []
          },
          "execution_count": 68
        }
      ]
    },
    {
      "cell_type": "code",
      "metadata": {
        "id": "VHKRPkvzt0u1"
      },
      "source": [
        "xgb_y_pred = xgb_clf.predict(X_test)"
      ],
      "execution_count": 69,
      "outputs": []
    },
    {
      "cell_type": "code",
      "metadata": {
        "colab": {
          "base_uri": "https://localhost:8080/"
        },
        "id": "j4O_ddMkt0u1",
        "outputId": "ed03e5bb-4500-493a-a7b1-e215f79f6a0c"
      },
      "source": [
        "confusion_matrix(y_test, xgb_y_pred)"
      ],
      "execution_count": 70,
      "outputs": [
        {
          "output_type": "execute_result",
          "data": {
            "text/plain": [
              "array([[546582,   6641],\n",
              "       [  2225,   1547]])"
            ]
          },
          "metadata": {
            "tags": []
          },
          "execution_count": 70
        }
      ]
    },
    {
      "cell_type": "code",
      "metadata": {
        "scrolled": true,
        "colab": {
          "base_uri": "https://localhost:8080/"
        },
        "id": "wb4pzrTWt0u1",
        "outputId": "95b91636-442c-47b0-c96d-019ce5069571"
      },
      "source": [
        "xgb_r = recall_score(y_test, xgb_y_pred)\n",
        "xgb_r"
      ],
      "execution_count": 71,
      "outputs": [
        {
          "output_type": "execute_result",
          "data": {
            "text/plain": [
              "0.4101272534464475"
            ]
          },
          "metadata": {
            "tags": []
          },
          "execution_count": 71
        }
      ]
    },
    {
      "cell_type": "markdown",
      "metadata": {
        "id": "o5hwNbQ4t0u1"
      },
      "source": [
        "## Machine Learning Models - Recall_Score comparison\n",
        "\n",
        "    The following code blocks compares the performance of the different constructed ML models by measuring their recall_score"
      ]
    },
    {
      "cell_type": "code",
      "metadata": {
        "id": "CIrTTPk_t0u1"
      },
      "source": [
        "# data of Models & Accuracy\n",
        "\n",
        "acc_data = [['Logistic Regression', clf_lrs_r], ['Decision Tree', dtree_r],\n",
        "            ['Random Forrest', rf_r], ['XGBoost', xgb_r] ] "
      ],
      "execution_count": 74,
      "outputs": []
    },
    {
      "cell_type": "code",
      "metadata": {
        "colab": {
          "base_uri": "https://localhost:8080/",
          "height": 173
        },
        "id": "SdlDtr1Kt0u1",
        "outputId": "80d26dc2-9bfd-4fd3-a4a7-edbafbf8325d"
      },
      "source": [
        "# Create DataFrame for Models & Accuracy\n",
        "\n",
        "acc_df = pd.DataFrame(acc_data, columns = ['Model', 'Recall_Score']) \n",
        "acc_df"
      ],
      "execution_count": 75,
      "outputs": [
        {
          "output_type": "execute_result",
          "data": {
            "text/html": [
              "<div>\n",
              "<style scoped>\n",
              "    .dataframe tbody tr th:only-of-type {\n",
              "        vertical-align: middle;\n",
              "    }\n",
              "\n",
              "    .dataframe tbody tr th {\n",
              "        vertical-align: top;\n",
              "    }\n",
              "\n",
              "    .dataframe thead th {\n",
              "        text-align: right;\n",
              "    }\n",
              "</style>\n",
              "<table border=\"1\" class=\"dataframe\">\n",
              "  <thead>\n",
              "    <tr style=\"text-align: right;\">\n",
              "      <th></th>\n",
              "      <th>Model</th>\n",
              "      <th>Recall_Score</th>\n",
              "    </tr>\n",
              "  </thead>\n",
              "  <tbody>\n",
              "    <tr>\n",
              "      <th>0</th>\n",
              "      <td>Logistic Regression</td>\n",
              "      <td>0.869035</td>\n",
              "    </tr>\n",
              "    <tr>\n",
              "      <th>1</th>\n",
              "      <td>Decision Tree</td>\n",
              "      <td>0.417550</td>\n",
              "    </tr>\n",
              "    <tr>\n",
              "      <th>2</th>\n",
              "      <td>Random Forrest</td>\n",
              "      <td>0.432397</td>\n",
              "    </tr>\n",
              "    <tr>\n",
              "      <th>3</th>\n",
              "      <td>XGBoost</td>\n",
              "      <td>0.410127</td>\n",
              "    </tr>\n",
              "  </tbody>\n",
              "</table>\n",
              "</div>"
            ],
            "text/plain": [
              "                 Model  Recall_Score\n",
              "0  Logistic Regression      0.869035\n",
              "1        Decision Tree      0.417550\n",
              "2       Random Forrest      0.432397\n",
              "3              XGBoost      0.410127"
            ]
          },
          "metadata": {
            "tags": []
          },
          "execution_count": 75
        }
      ]
    },
    {
      "cell_type": "code",
      "metadata": {
        "colab": {
          "base_uri": "https://localhost:8080/",
          "height": 416
        },
        "id": "K1OeIxzmt0u1",
        "outputId": "712e6631-3cfc-43a6-e360-2e3144f6f1a6"
      },
      "source": [
        "#Plot Model vs Accuracy\n",
        "\n",
        "plt.figure(figsize=(10,5))\n",
        "acc_chart = sns.barplot(x=\"Model\", y=\"Recall_Score\", data=acc_df)\n",
        "acc_chart.set_xticklabels(acc_chart.get_xticklabels(), rotation=45, horizontalalignment='right')\n",
        "acc_chart"
      ],
      "execution_count": 76,
      "outputs": [
        {
          "output_type": "execute_result",
          "data": {
            "text/plain": [
              "<matplotlib.axes._subplots.AxesSubplot at 0x7fa1c81a2f28>"
            ]
          },
          "metadata": {
            "tags": []
          },
          "execution_count": 76
        },
        {
          "output_type": "display_data",
          "data": {
            "image/png": "[encoded data removed]",
            "text/plain": [
              "<Figure size 720x360 with 1 Axes>"
            ]
          },
          "metadata": {
            "tags": [],
            "needs_background": "light"
          }
        }
      ]
    },
    {
      "cell_type": "markdown",
      "metadata": {
        "id": "iLXpINAbt0u1"
      },
      "source": [
        "### Inference:"
      ]
    },
    {
      "cell_type": "markdown",
      "metadata": {
        "id": "sAaLBJw8t0u1"
      },
      "source": [
        "    Based on the recall_score of various models, \n",
        "    we can choose ##Logistic Regression for our business case which yeilds best #recall_score of 0.86.\n"
      ]
    },
    {
      "cell_type": "code",
      "metadata": {
        "colab": {
          "base_uri": "https://localhost:8080/"
        },
        "id": "S4k_K3Rrt0u1",
        "outputId": "1a177f92-dc2d-4ff9-83a5-554f3b187535"
      },
      "source": [
        "from sklearn.metrics import confusion_matrix\n",
        "cm = confusion_matrix(y_test, lr_y_pred)\n",
        "cm"
      ],
      "execution_count": 78,
      "outputs": [
        {
          "output_type": "execute_result",
          "data": {
            "text/plain": [
              "array([[360487, 192736],\n",
              "       [   494,   3278]])"
            ]
          },
          "metadata": {
            "tags": []
          },
          "execution_count": 78
        }
      ]
    },
    {
      "cell_type": "code",
      "metadata": {
        "colab": {
          "base_uri": "https://localhost:8080/",
          "height": 296
        },
        "id": "3E4ApcWmt0u1",
        "outputId": "8dd9f8f9-a68d-432e-89f3-0afba1f5a20b"
      },
      "source": [
        "sns.heatmap(cm, annot=True)\n",
        "plt.xlabel('Actual Values')\n",
        "plt.ylabel('Predicted Values')"
      ],
      "execution_count": 79,
      "outputs": [
        {
          "output_type": "execute_result",
          "data": {
            "text/plain": [
              "Text(33.0, 0.5, 'Predicted Values')"
            ]
          },
          "metadata": {
            "tags": []
          },
          "execution_count": 79
        },
        {
          "output_type": "display_data",
          "data": {
            "image/png": "[encoded data removed]",
            "text/plain": [
              "<Figure size 432x288 with 2 Axes>"
            ]
          },
          "metadata": {
            "tags": [],
            "needs_background": "light"
          }
        }
      ]
    }
  ]
}